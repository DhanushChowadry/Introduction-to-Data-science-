{
  "nbformat": 4,
  "nbformat_minor": 0,
  "metadata": {
    "colab": {
      "provenance": []
    },
    "kernelspec": {
      "name": "python3",
      "display_name": "Python 3"
    },
    "language_info": {
      "name": "python"
    }
  },
  "cells": [
    {
      "cell_type": "markdown",
      "source": [
        "# Dictionary( ):\n",
        "\n",
        "*   A Python dictionary stores data in key-value pairs, where each key is unique, and it maps to a corresponding value.\n",
        "*   Dictionaries are mutable (we can add, update, or remove key-value pairs after creation).\n",
        "\n",
        "*   Dictionaries are defined using curly braces {} with keys and values separated by colons.\n",
        "*   A dictionary cannot have duplicate keys; if a duplicate key is assigned a new value, the old value gets overwritten.\n",
        "\n",
        "*   Dictionaries can contain other dictionaries, allowing the creation of complex data structures.\n"
      ],
      "metadata": {
        "id": "QfmB_EHa-O0L"
      }
    },
    {
      "cell_type": "code",
      "execution_count": 10,
      "metadata": {
        "colab": {
          "base_uri": "https://localhost:8080/"
        },
        "id": "VIZc4YBy0SZI",
        "outputId": "2ceb85ee-b0e0-4cb8-8907-e7d192ed230d"
      },
      "outputs": [
        {
          "output_type": "stream",
          "name": "stdout",
          "text": [
            "<class 'dict'>\n",
            "{'Name': 'Dhan', 'Age': 20, 'City': 'Hyderabad', 'DOB': 25}\n"
          ]
        }
      ],
      "source": [
        "person = {\"Name\":\"Dhan\",\"Age\":20,\"City\":\"Hyderabad\",\"DOB\":25}\n",
        "print(type(person))\n",
        "print(person)"
      ]
    },
    {
      "cell_type": "markdown",
      "source": [
        "# Dictionary Methods:\n",
        "1) pop( ):\n",
        "\n",
        "Removes the item with the specified key name."
      ],
      "metadata": {
        "id": "7U33WTkJ-6Eo"
      }
    },
    {
      "cell_type": "code",
      "source": [
        "person = {\"Name\":\"Nithish\",\"Age\":20,\"City\":\"Hyderabad\",\"DOB\":4}\n",
        "person.pop(\"DOB\")"
      ],
      "metadata": {
        "colab": {
          "base_uri": "https://localhost:8080/"
        },
        "id": "KRiXLOF--_Hd",
        "outputId": "1398928e-cafd-4990-9ee6-eff07d579ddf"
      },
      "execution_count": 8,
      "outputs": [
        {
          "output_type": "execute_result",
          "data": {
            "text/plain": [
              "4"
            ]
          },
          "metadata": {},
          "execution_count": 8
        }
      ]
    },
    {
      "cell_type": "code",
      "source": [
        "person = {\"Name\":\"Nithish\",\"Age\":21,\"City\":\"Hyderabad\",\"DOB\":4}\n",
        "person.popitem()"
      ],
      "metadata": {
        "colab": {
          "base_uri": "https://localhost:8080/"
        },
        "id": "eo9ztTLd_eV5",
        "outputId": "98b266fd-81a0-47fc-cbdf-3a4b5305e9b7"
      },
      "execution_count": 9,
      "outputs": [
        {
          "output_type": "execute_result",
          "data": {
            "text/plain": [
              "('DOB', 4)"
            ]
          },
          "metadata": {},
          "execution_count": 9
        }
      ]
    },
    {
      "cell_type": "markdown",
      "source": [
        "2) update( ):\n",
        "\n",
        "Updates the dictionary with key-value pairs from another dictionary."
      ],
      "metadata": {
        "id": "6MwWyqLI_uvR"
      }
    },
    {
      "cell_type": "code",
      "source": [
        "person = {\"Name\":\"Nithish\",\"Age\":21,\"City\":\"Hyderabad\",\"DOB\":4}\n"
      ],
      "metadata": {
        "id": "BxSe7uzF_yp3"
      },
      "execution_count": 12,
      "outputs": []
    },
    {
      "cell_type": "code",
      "source": [
        "person.update({\"Age\": 26})\n",
        "print(person)"
      ],
      "metadata": {
        "colab": {
          "base_uri": "https://localhost:8080/"
        },
        "id": "DdKTqYJ4AAmD",
        "outputId": "b4c64f53-8b13-45b0-9279-ac085ba27e33"
      },
      "execution_count": 13,
      "outputs": [
        {
          "output_type": "stream",
          "name": "stdout",
          "text": [
            "{'Name': 'Nithish', 'Age': 26, 'City': 'Hyderabad', 'DOB': 4}\n"
          ]
        }
      ]
    },
    {
      "cell_type": "code",
      "source": [
        "person.update({\"Email\":\"nithish@gmail.com\"})\n",
        "print(person)"
      ],
      "metadata": {
        "colab": {
          "base_uri": "https://localhost:8080/"
        },
        "id": "eR1N1SYSAByH",
        "outputId": "5c4c2b79-ddee-4f96-af64-2eb246ea2326"
      },
      "execution_count": 14,
      "outputs": [
        {
          "output_type": "stream",
          "name": "stdout",
          "text": [
            "{'Name': 'Nithish', 'Age': 26, 'City': 'Hyderabad', 'DOB': 4, 'Email': 'nithish@gmail.com'}\n"
          ]
        }
      ]
    },
    {
      "cell_type": "markdown",
      "source": [
        "3) dict.keys():\n",
        "\n",
        "Returns a view object of all the keys in the dictionary."
      ],
      "metadata": {
        "id": "iDyQbLJbAHYd"
      }
    },
    {
      "cell_type": "code",
      "source": [
        "person = {\"Name\":\"Nithish\",\"Age\":21,\"City\":\"Hyderabad\",\"DOB\":4,\"Email\":\"nithish@gmail.com\"}\n",
        "person.keys()"
      ],
      "metadata": {
        "colab": {
          "base_uri": "https://localhost:8080/"
        },
        "id": "JBScm7WFAJQx",
        "outputId": "2c376d27-5e48-4bc8-836b-3ccead78410f"
      },
      "execution_count": 15,
      "outputs": [
        {
          "output_type": "execute_result",
          "data": {
            "text/plain": [
              "dict_keys(['Name', 'Age', 'City', 'DOB', 'Email'])"
            ]
          },
          "metadata": {},
          "execution_count": 15
        }
      ]
    },
    {
      "cell_type": "code",
      "source": [
        "a = {1:\"a\",2:\"b\",3:\"c\"}\n",
        "a.keys()"
      ],
      "metadata": {
        "colab": {
          "base_uri": "https://localhost:8080/"
        },
        "id": "9gBGwM78AL-4",
        "outputId": "f82f6d5a-90e6-4e79-bbb9-b5836a527f7f"
      },
      "execution_count": 16,
      "outputs": [
        {
          "output_type": "execute_result",
          "data": {
            "text/plain": [
              "dict_keys([1, 2, 3])"
            ]
          },
          "metadata": {},
          "execution_count": 16
        }
      ]
    },
    {
      "cell_type": "markdown",
      "source": [
        "4) dict.values():\n",
        "\n",
        "Returns a view object of all the values in the dictionary."
      ],
      "metadata": {
        "id": "j2OGpq5bAOdr"
      }
    },
    {
      "cell_type": "code",
      "source": [
        "person = {\"Name\":\"Nithish\",\"Age\":21,\"City\":\"Hyderabad\",\"DOB\":4,\"Email\":\"nithish@gmail.com\"}\n",
        "person.values()"
      ],
      "metadata": {
        "colab": {
          "base_uri": "https://localhost:8080/"
        },
        "id": "FzPuCzavAQ1x",
        "outputId": "e14e9c6a-48c3-4fd3-ef07-809f5a613c48"
      },
      "execution_count": 17,
      "outputs": [
        {
          "output_type": "execute_result",
          "data": {
            "text/plain": [
              "dict_values(['Nithish', 21, 'Hyderabad', 4, 'nithish@gmail.com'])"
            ]
          },
          "metadata": {},
          "execution_count": 17
        }
      ]
    },
    {
      "cell_type": "code",
      "source": [
        "a = {1:\"a\",2:\"b\",3:\"c\"}\n",
        "a.values()"
      ],
      "metadata": {
        "colab": {
          "base_uri": "https://localhost:8080/"
        },
        "id": "VicPzfCHAUZE",
        "outputId": "858de41a-f03b-49f8-8a70-7484c9d17f9f"
      },
      "execution_count": 18,
      "outputs": [
        {
          "output_type": "execute_result",
          "data": {
            "text/plain": [
              "dict_values(['a', 'b', 'c'])"
            ]
          },
          "metadata": {},
          "execution_count": 18
        }
      ]
    },
    {
      "cell_type": "markdown",
      "source": [
        "5) dict.items( ):\n",
        "\n",
        "Returns a view object containing key-value pairs as tuples."
      ],
      "metadata": {
        "id": "Oy_HfPRlAZsw"
      }
    },
    {
      "cell_type": "code",
      "source": [
        "person = {\"Name\":\"Nithish\",\"Age\":21,\"City\":\"Hyderabad\",\"DOB\":4,\"Email\":\"nithish@gmail.com\"}\n",
        "print(person.items())"
      ],
      "metadata": {
        "colab": {
          "base_uri": "https://localhost:8080/"
        },
        "id": "hmVzTX66AcnJ",
        "outputId": "2e0e5170-ab0c-48cb-e610-711b6df7f778"
      },
      "execution_count": 19,
      "outputs": [
        {
          "output_type": "stream",
          "name": "stdout",
          "text": [
            "dict_items([('Name', 'Nithish'), ('Age', 21), ('City', 'Hyderabad'), ('DOB', 4), ('Email', 'nithish@gmail.com')])\n"
          ]
        }
      ]
    },
    {
      "cell_type": "code",
      "source": [
        "a = {1:\"a\",2:\"b\",3:\"c\"}\n",
        "print(a.items())"
      ],
      "metadata": {
        "colab": {
          "base_uri": "https://localhost:8080/"
        },
        "id": "G3FgavaqAfNp",
        "outputId": "27c20999-8c3e-463d-908f-7db352de5b3f"
      },
      "execution_count": 21,
      "outputs": [
        {
          "output_type": "stream",
          "name": "stdout",
          "text": [
            "dict_items([(1, 'a'), (2, 'b'), (3, 'c')])\n"
          ]
        }
      ]
    },
    {
      "cell_type": "markdown",
      "source": [
        "6) dict.copy( ):\n",
        "\n",
        "Returns a shallow copy of the dictionary."
      ],
      "metadata": {
        "id": "ja6TmFdRAlio"
      }
    },
    {
      "cell_type": "code",
      "source": [
        "person2 = person.copy()\n",
        "print(person)\n",
        "print(person2)"
      ],
      "metadata": {
        "colab": {
          "base_uri": "https://localhost:8080/"
        },
        "id": "AwAkQAy2Am4O",
        "outputId": "09c712e6-9398-4084-e5d1-0fc80524554c"
      },
      "execution_count": 22,
      "outputs": [
        {
          "output_type": "stream",
          "name": "stdout",
          "text": [
            "{'Name': 'Nithish', 'Age': 21, 'City': 'Hyderabad', 'DOB': 4, 'Email': 'nithish@gmail.com'}\n",
            "{'Name': 'Nithish', 'Age': 21, 'City': 'Hyderabad', 'DOB': 4, 'Email': 'nithish@gmail.com'}\n"
          ]
        }
      ]
    },
    {
      "cell_type": "code",
      "source": [
        "b = a.copy()\n",
        "print(a)\n",
        "print(b)"
      ],
      "metadata": {
        "colab": {
          "base_uri": "https://localhost:8080/"
        },
        "id": "590SGxQLAqFf",
        "outputId": "b93b0b4f-eca4-4161-d082-8c8eef8cb36a"
      },
      "execution_count": 24,
      "outputs": [
        {
          "output_type": "stream",
          "name": "stdout",
          "text": [
            "{1: 'a', 2: 'b', 3: 'c'}\n",
            "{1: 'a', 2: 'b', 3: 'c'}\n"
          ]
        }
      ]
    },
    {
      "cell_type": "markdown",
      "source": [
        "7) dict.clear( ):\n",
        "\n",
        "Removes all items from the dictionary."
      ],
      "metadata": {
        "id": "q3n-u-YpBA2w"
      }
    },
    {
      "cell_type": "code",
      "source": [
        "person.clear()\n",
        "print(person)\n",
        "print(person2)"
      ],
      "metadata": {
        "colab": {
          "base_uri": "https://localhost:8080/"
        },
        "id": "toUla1nBBCrQ",
        "outputId": "f1266d8d-56c9-4765-ffef-0dc6edbc6703"
      },
      "execution_count": 25,
      "outputs": [
        {
          "output_type": "stream",
          "name": "stdout",
          "text": [
            "{}\n",
            "{'Name': 'Nithish', 'Age': 21, 'City': 'Hyderabad', 'DOB': 4, 'Email': 'nithish@gmail.com'}\n"
          ]
        }
      ]
    },
    {
      "cell_type": "code",
      "source": [
        "a.clear()\n",
        "print(a)\n",
        "print(b)"
      ],
      "metadata": {
        "colab": {
          "base_uri": "https://localhost:8080/"
        },
        "id": "ipgEwAGyBFlx",
        "outputId": "fce9d887-cc95-4ff2-d407-234a07a25e5f"
      },
      "execution_count": 26,
      "outputs": [
        {
          "output_type": "stream",
          "name": "stdout",
          "text": [
            "{}\n",
            "{1: 'a', 2: 'b', 3: 'c'}\n"
          ]
        }
      ]
    }
  ]
}