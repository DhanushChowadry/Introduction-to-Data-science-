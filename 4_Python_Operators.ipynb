{
  "nbformat": 4,
  "nbformat_minor": 0,
  "metadata": {
    "colab": {
      "provenance": []
    },
    "kernelspec": {
      "name": "python3",
      "display_name": "Python 3"
    },
    "language_info": {
      "name": "python"
    }
  },
  "cells": [
    {
      "cell_type": "markdown",
      "source": [
        "# Operators\n",
        "1) Arithmetic operators: are used with numeric values to perform common mathematical operations."
      ],
      "metadata": {
        "id": "AG2bRqTthRLn"
      }
    },
    {
      "cell_type": "code",
      "execution_count": 1,
      "metadata": {
        "colab": {
          "base_uri": "https://localhost:8080/"
        },
        "id": "qdtHa2V-g_xf",
        "outputId": "5f8352f3-72c3-4ca8-80d3-fc47fb99e853"
      },
      "outputs": [
        {
          "output_type": "stream",
          "name": "stdout",
          "text": [
            "26\n",
            "18\n",
            "88\n",
            "5.5\n",
            "2\n",
            "234256\n",
            "5\n"
          ]
        }
      ],
      "source": [
        "a = 22\n",
        "b = 4\n",
        "print(a+b)\n",
        "print(a-b)\n",
        "print(a*b)\n",
        "print(a/b)\n",
        "print(a%b)\n",
        "print(a**b)\n",
        "print(a//b)"
      ]
    },
    {
      "cell_type": "markdown",
      "source": [
        "2)Comparison operators : are used to compare two values."
      ],
      "metadata": {
        "id": "bF0NSL6bhdPn"
      }
    },
    {
      "cell_type": "code",
      "source": [
        "a = 22\n",
        "b = 4\n",
        "print(a==b)\n",
        "print(a!=b)\n",
        "print(a>b)\n",
        "print(a<b)\n",
        "print(a>=b)\n",
        "print(a<=b)"
      ],
      "metadata": {
        "colab": {
          "base_uri": "https://localhost:8080/"
        },
        "id": "mNB6xdlShdv6",
        "outputId": "f1f5fbb8-a9bf-4c2d-8f12-7a46ea3ce9e0"
      },
      "execution_count": 2,
      "outputs": [
        {
          "output_type": "stream",
          "name": "stdout",
          "text": [
            "False\n",
            "True\n",
            "True\n",
            "False\n",
            "True\n",
            "False\n"
          ]
        }
      ]
    },
    {
      "cell_type": "markdown",
      "source": [
        "3)Assignment operators: are used to assign values to variables."
      ],
      "metadata": {
        "id": "4n0xh48fhmlj"
      }
    },
    {
      "cell_type": "code",
      "source": [
        "a = 22\n",
        "b = 4\n",
        "a+=b\n",
        "print(a)"
      ],
      "metadata": {
        "colab": {
          "base_uri": "https://localhost:8080/"
        },
        "id": "FyhezwobhpOb",
        "outputId": "4924bfd6-bbae-47ae-b933-b12b899d5539"
      },
      "execution_count": 3,
      "outputs": [
        {
          "output_type": "stream",
          "name": "stdout",
          "text": [
            "26\n"
          ]
        }
      ]
    },
    {
      "cell_type": "code",
      "source": [
        "a-=b\n",
        "print(a)"
      ],
      "metadata": {
        "colab": {
          "base_uri": "https://localhost:8080/"
        },
        "id": "xkrzkTnUhr5z",
        "outputId": "e01ca99c-6826-4f45-860c-68d5025785b5"
      },
      "execution_count": 4,
      "outputs": [
        {
          "output_type": "stream",
          "name": "stdout",
          "text": [
            "22\n"
          ]
        }
      ]
    },
    {
      "cell_type": "code",
      "source": [
        "a*=b\n",
        "print(a)"
      ],
      "metadata": {
        "colab": {
          "base_uri": "https://localhost:8080/"
        },
        "id": "6d5WZTyQhufI",
        "outputId": "df268ae1-f37d-4c42-bc8c-0ebc8d656f21"
      },
      "execution_count": 5,
      "outputs": [
        {
          "output_type": "stream",
          "name": "stdout",
          "text": [
            "88\n"
          ]
        }
      ]
    },
    {
      "cell_type": "code",
      "source": [
        "a/=b\n",
        "print(a)"
      ],
      "metadata": {
        "colab": {
          "base_uri": "https://localhost:8080/"
        },
        "id": "mW7DleZohxEf",
        "outputId": "b4dce36c-4f39-4818-d9bb-7b24ba8be4d5"
      },
      "execution_count": 6,
      "outputs": [
        {
          "output_type": "stream",
          "name": "stdout",
          "text": [
            "22.0\n"
          ]
        }
      ]
    },
    {
      "cell_type": "code",
      "source": [
        "a%=b\n",
        "print(a)"
      ],
      "metadata": {
        "colab": {
          "base_uri": "https://localhost:8080/"
        },
        "id": "Oi_ZEZpPhzq8",
        "outputId": "6d4850e5-e1f5-42e0-84fd-30db7e3e7489"
      },
      "execution_count": 7,
      "outputs": [
        {
          "output_type": "stream",
          "name": "stdout",
          "text": [
            "2.0\n"
          ]
        }
      ]
    },
    {
      "cell_type": "code",
      "source": [
        "a**=b\n",
        "print(a)"
      ],
      "metadata": {
        "colab": {
          "base_uri": "https://localhost:8080/"
        },
        "id": "qu5ke4GDh2Lq",
        "outputId": "230a9188-908c-4adf-dbae-0e0a3a49a28c"
      },
      "execution_count": 8,
      "outputs": [
        {
          "output_type": "stream",
          "name": "stdout",
          "text": [
            "16.0\n"
          ]
        }
      ]
    },
    {
      "cell_type": "markdown",
      "source": [
        "\n",
        "4) Logical operators: are used to combine conditional statements:\n",
        "\n",
        "and : Returns True if both statements are true.\n",
        "\n",
        "or : Returns True if one of the statements is true.\n",
        "\n",
        "not : Reverse the result, returns False if the result is true."
      ],
      "metadata": {
        "id": "eD0egMi1h6Xk"
      }
    },
    {
      "cell_type": "code",
      "source": [
        "a = 22\n",
        "b = 4\n",
        "print(a>b and b<a)\n",
        "print(a>b or b<a)\n",
        "print(not(a>b and b<a))"
      ],
      "metadata": {
        "colab": {
          "base_uri": "https://localhost:8080/"
        },
        "id": "KLp72MiJh7ho",
        "outputId": "024a5120-77ea-4637-b44e-d6adf18ca841"
      },
      "execution_count": 9,
      "outputs": [
        {
          "output_type": "stream",
          "name": "stdout",
          "text": [
            "True\n",
            "True\n",
            "False\n"
          ]
        }
      ]
    },
    {
      "cell_type": "markdown",
      "source": [
        "5)Identity operators: are used to compare the objects, not if they are equal, but if they are actually the same object, with the same memory location.\n",
        "\n",
        "is : Returns True if both variables are the same object.\n",
        "\n",
        "is not : Returns True if both variables are not the same object."
      ],
      "metadata": {
        "id": "zyhq_rBUiF4N"
      }
    },
    {
      "cell_type": "code",
      "source": [
        "a = 22\n",
        "b = 4\n",
        "print(a is b)\n",
        "print(a is not b)"
      ],
      "metadata": {
        "colab": {
          "base_uri": "https://localhost:8080/"
        },
        "id": "Dd6APwlSiDNl",
        "outputId": "34226b45-ed35-4852-fdcd-3aa341d5695d"
      },
      "execution_count": 10,
      "outputs": [
        {
          "output_type": "stream",
          "name": "stdout",
          "text": [
            "False\n",
            "True\n"
          ]
        }
      ]
    },
    {
      "cell_type": "markdown",
      "source": [
        "6)Membership operators: are used to test if a sequence is presented in an object.\n",
        "\n",
        "in : Returns True if a sequence with the specified value is present in the object.\n",
        "\n",
        "not in : Returns True if a sequence with the specified value is not present in the object."
      ],
      "metadata": {
        "id": "KHS9-PO4iPMF"
      }
    },
    {
      "cell_type": "code",
      "source": [
        "a = [3,4,5,6,7,8]\n",
        "print(5 in a)\n",
        "print(7 in a)\n",
        "print(8 not in a)"
      ],
      "metadata": {
        "colab": {
          "base_uri": "https://localhost:8080/"
        },
        "id": "B-NxugR4iNCz",
        "outputId": "d574241d-be16-4fa9-c12e-3796b17bef5a"
      },
      "execution_count": 11,
      "outputs": [
        {
          "output_type": "stream",
          "name": "stdout",
          "text": [
            "True\n",
            "True\n",
            "False\n"
          ]
        }
      ]
    },
    {
      "cell_type": "markdown",
      "source": [
        "7)Bitwise operators: are used to compare (binary) numbers.\n",
        "\n",
        "& (AND) Sets each bit to 1 if both bits are 1.\n",
        "\n",
        "| (OR) Sets each bit to 1 if one of two bits is 1.\n",
        "\n",
        "^ (XOR) Sets each bit to 1 if only one of two bits is 1.\n",
        "\n",
        "~ (NOT) Inverts all the bits.\n",
        "\n",
        "<< (Zero fill left shift) Shift left by pushing zeros in from the right and let the leftmost bits fall off.\n",
        "\n",
        "(>>) (Signed right shift) Shift right by pushing copies of the leftmost bit in from the left, and let the rightmost bits fall off."
      ],
      "metadata": {
        "id": "JeBv8KOziTjl"
      }
    },
    {
      "cell_type": "code",
      "source": [
        "a = 22\n",
        "b = 4\n",
        "print(a&b)\n",
        "print(a|b)\n",
        "print(a^b)\n",
        "print(~a)\n",
        "print(a<<2)\n",
        "print(b<<2)\n",
        "print(a>>2)\n",
        "print(b>>2)"
      ],
      "metadata": {
        "colab": {
          "base_uri": "https://localhost:8080/"
        },
        "id": "uuBHeJPzigf9",
        "outputId": "8382f67d-ee26-4309-c1d4-7edf711254a3"
      },
      "execution_count": 12,
      "outputs": [
        {
          "output_type": "stream",
          "name": "stdout",
          "text": [
            "4\n",
            "22\n",
            "18\n",
            "-23\n",
            "88\n",
            "16\n",
            "5\n",
            "1\n"
          ]
        }
      ]
    }
  ]
}