{
  "nbformat": 4,
  "nbformat_minor": 0,
  "metadata": {
    "colab": {
      "provenance": []
    },
    "kernelspec": {
      "name": "python3",
      "display_name": "Python 3"
    },
    "language_info": {
      "name": "python"
    }
  },
  "cells": [
    {
      "cell_type": "markdown",
      "source": [
        "# Set( ):\n",
        "\n",
        "*   Unordered Collection – Elements in a set have no specific order.\n",
        "*   Duplicate values are automatically removed.\n",
        "\n",
        "*   You can add or remove elements, but individual elements are immutable.\n",
        "* Represented Using {} and separated by \" , \".\n",
        "\n",
        "\n",
        "\n"
      ],
      "metadata": {
        "id": "YucbAKIoC0cj"
      }
    },
    {
      "cell_type": "code",
      "execution_count": 1,
      "metadata": {
        "colab": {
          "base_uri": "https://localhost:8080/"
        },
        "id": "I2X8CCE9B35a",
        "outputId": "ace5f41c-6a7a-4b4b-9583-e9ae382e3ec0"
      },
      "outputs": [
        {
          "output_type": "stream",
          "name": "stdout",
          "text": [
            "{1, 2, 3, 4, 5, 6}\n",
            "<class 'set'>\n"
          ]
        }
      ],
      "source": [
        "a = {1,2,3,4,5,6}\n",
        "print(a)\n",
        "print(type(a))"
      ]
    },
    {
      "cell_type": "markdown",
      "source": [
        "#We can convert a list into a set using the set() function."
      ],
      "metadata": {
        "id": "U1gjWZGbDkGD"
      }
    },
    {
      "cell_type": "code",
      "source": [
        "a = set([1,2,3,4,5,6])\n",
        "print(a)\n",
        "print(type(a))"
      ],
      "metadata": {
        "colab": {
          "base_uri": "https://localhost:8080/"
        },
        "id": "IdknOp3BDnF7",
        "outputId": "f57fd099-a0a5-46b8-863e-faa57a42a73c"
      },
      "execution_count": 2,
      "outputs": [
        {
          "output_type": "stream",
          "name": "stdout",
          "text": [
            "{1, 2, 3, 4, 5, 6}\n",
            "<class 'set'>\n"
          ]
        }
      ]
    },
    {
      "cell_type": "markdown",
      "source": [
        "# Duplicates are automatically removed in the set."
      ],
      "metadata": {
        "id": "tkurWZrVDrI7"
      }
    },
    {
      "cell_type": "code",
      "source": [
        "a = {1,2,3,4,5,1,2,4,7,8,9}\n",
        "print(a)\n",
        "print(type(a))\n"
      ],
      "metadata": {
        "colab": {
          "base_uri": "https://localhost:8080/"
        },
        "id": "P4qC5gBDDuGa",
        "outputId": "a4f998d9-d464-4c3c-c5a5-c1acd7453b7d"
      },
      "execution_count": 3,
      "outputs": [
        {
          "output_type": "stream",
          "name": "stdout",
          "text": [
            "{1, 2, 3, 4, 5, 7, 8, 9}\n",
            "<class 'set'>\n"
          ]
        }
      ]
    },
    {
      "cell_type": "markdown",
      "source": [
        "# Set Methods:\n",
        "1) add():\n",
        "\n",
        "Adds an element to the set."
      ],
      "metadata": {
        "id": "bl-5opJfEEHH"
      }
    },
    {
      "cell_type": "code",
      "source": [
        "a = {1,2,3,4,5}\n",
        "a.add(6)\n",
        "print(a)"
      ],
      "metadata": {
        "id": "mpgsvs9nEHms",
        "outputId": "0abc0eee-b8bc-4135-e79e-edbee7f673d8",
        "colab": {
          "base_uri": "https://localhost:8080/"
        }
      },
      "execution_count": 4,
      "outputs": [
        {
          "output_type": "stream",
          "name": "stdout",
          "text": [
            "{1, 2, 3, 4, 5, 6}\n"
          ]
        }
      ]
    },
    {
      "cell_type": "markdown",
      "source": [
        "2) remove( ):\n",
        "\n",
        "*   Removes the specified element.\n",
        "*   raises an error if not found.\n",
        "\n"
      ],
      "metadata": {
        "id": "LjviAIHZEKgi"
      }
    },
    {
      "cell_type": "code",
      "source": [
        "a = {1,2,3,4,5,6}\n",
        "a.remove(6)\n",
        "print(a)"
      ],
      "metadata": {
        "id": "d5wwOpI_ET5k",
        "outputId": "9324466d-62a3-4a0e-8a44-49692389e08e",
        "colab": {
          "base_uri": "https://localhost:8080/"
        }
      },
      "execution_count": 5,
      "outputs": [
        {
          "output_type": "stream",
          "name": "stdout",
          "text": [
            "{1, 2, 3, 4, 5}\n"
          ]
        }
      ]
    },
    {
      "cell_type": "markdown",
      "source": [
        "3) update( ):\n",
        "\n",
        "used to add multiple elements from another set, list, tuple, or any iterable to an existing set."
      ],
      "metadata": {
        "id": "vIi1KjowEXfi"
      }
    },
    {
      "cell_type": "code",
      "source": [
        "a = {1,2,3,4,5}\n",
        "b = {6,7,8,9,10}\n",
        "a.update(b)\n",
        "print(a)"
      ],
      "metadata": {
        "id": "4tbL7MjoEaMz",
        "outputId": "3f656956-05f2-4195-bb3a-fb8d7519a0a9",
        "colab": {
          "base_uri": "https://localhost:8080/"
        }
      },
      "execution_count": 6,
      "outputs": [
        {
          "output_type": "stream",
          "name": "stdout",
          "text": [
            "{1, 2, 3, 4, 5, 6, 7, 8, 9, 10}\n"
          ]
        }
      ]
    },
    {
      "cell_type": "markdown",
      "source": [
        "4) clear( ):\n",
        "\n",
        "Used to remove all elements from a set, making it an empty set."
      ],
      "metadata": {
        "id": "ZMItWuZ7EzdS"
      }
    },
    {
      "cell_type": "code",
      "source": [
        "a.clear()\n",
        "print(a)"
      ],
      "metadata": {
        "id": "eN2-UOMTE3Bu",
        "outputId": "3dcda37f-c693-4330-bf1d-c13ec99f8764",
        "colab": {
          "base_uri": "https://localhost:8080/"
        }
      },
      "execution_count": 7,
      "outputs": [
        {
          "output_type": "stream",
          "name": "stdout",
          "text": [
            "set()\n"
          ]
        }
      ]
    },
    {
      "cell_type": "markdown",
      "source": [
        "# Set Operators:\n",
        "1) union( ):\n",
        "\n",
        "\n",
        "*   The union() method combines two or more sets.\n",
        "*   Returning a new set with all unique elements.\n"
      ],
      "metadata": {
        "id": "qO6UkXPDE6Cm"
      }
    },
    {
      "cell_type": "code",
      "source": [
        "#union\n",
        "\n",
        "a = {1,2,3,4,5}\n",
        "b = {4,5,6,7,8}\n",
        "a.union(b)\n"
      ],
      "metadata": {
        "id": "I7ng33iNFD8V",
        "outputId": "efd80751-c4ae-41df-b537-87db9de5bac0",
        "colab": {
          "base_uri": "https://localhost:8080/"
        }
      },
      "execution_count": 10,
      "outputs": [
        {
          "output_type": "execute_result",
          "data": {
            "text/plain": [
              "{1, 2, 3, 4, 5, 6, 7, 8}"
            ]
          },
          "metadata": {},
          "execution_count": 10
        }
      ]
    },
    {
      "cell_type": "code",
      "source": [
        "a = {1,2,3,4,5}\n",
        "b = {4,5,6,7,8}\n",
        "a|b"
      ],
      "metadata": {
        "id": "uGDufz_8FMca",
        "outputId": "29ce6f95-5563-4568-9d31-09d9c81973b4",
        "colab": {
          "base_uri": "https://localhost:8080/"
        }
      },
      "execution_count": 9,
      "outputs": [
        {
          "output_type": "execute_result",
          "data": {
            "text/plain": [
              "{1, 2, 3, 4, 5, 6, 7, 8}"
            ]
          },
          "metadata": {},
          "execution_count": 9
        }
      ]
    },
    {
      "cell_type": "markdown",
      "source": [
        "2)Intersection():\n",
        "\n",
        "\n",
        "*   Returns a new set containing only the common elements of two or more sets.\n",
        "*   The result contains only unique elements that exist in all sets.\n",
        "\n"
      ],
      "metadata": {
        "id": "52rn_eBGFYMz"
      }
    },
    {
      "cell_type": "code",
      "source": [
        "#Intersection\n",
        "\n",
        "a = {1,2,3,4,5}\n",
        "b = {4,5,6,7,8}\n",
        "a.intersection(b)"
      ],
      "metadata": {
        "id": "cQhQwTfOFpzw",
        "outputId": "171d0acd-ddf2-4bf7-91fe-cd4d753e14dc",
        "colab": {
          "base_uri": "https://localhost:8080/"
        }
      },
      "execution_count": 11,
      "outputs": [
        {
          "output_type": "execute_result",
          "data": {
            "text/plain": [
              "{4, 5}"
            ]
          },
          "metadata": {},
          "execution_count": 11
        }
      ]
    },
    {
      "cell_type": "code",
      "source": [
        "a = {1,2,3,4,5}\n",
        "b = {4,5,6,7,8}\n",
        "a&b"
      ],
      "metadata": {
        "id": "tuQ1zvlzFuGp",
        "outputId": "b7722520-cceb-45be-e55c-9524d8198491",
        "colab": {
          "base_uri": "https://localhost:8080/"
        }
      },
      "execution_count": 12,
      "outputs": [
        {
          "output_type": "execute_result",
          "data": {
            "text/plain": [
              "{4, 5}"
            ]
          },
          "metadata": {},
          "execution_count": 12
        }
      ]
    },
    {
      "cell_type": "markdown",
      "source": [
        "3) Difference of ('A-B'):\n",
        "\n",
        "\n",
        "*   \n",
        "Returns a new set containing elements that are in set A but not in set B.\n",
        "\n"
      ],
      "metadata": {
        "id": "gNYW_f0kF3-a"
      }
    },
    {
      "cell_type": "code",
      "source": [
        "#A-B\n",
        "a = {1,2,3,4,5}\n",
        "b = {4,5,6,7,8}\n",
        "a-b"
      ],
      "metadata": {
        "id": "BKCYRFisHA_r",
        "outputId": "0342dcd6-a00f-4731-d9e5-062fe5766b9d",
        "colab": {
          "base_uri": "https://localhost:8080/"
        }
      },
      "execution_count": 13,
      "outputs": [
        {
          "output_type": "execute_result",
          "data": {
            "text/plain": [
              "{1, 2, 3}"
            ]
          },
          "metadata": {},
          "execution_count": 13
        }
      ]
    },
    {
      "cell_type": "markdown",
      "source": [
        "4) Difference of ('B-A'):\n",
        "\n",
        "Returns a new set containing elements that are in set B but not in set A."
      ],
      "metadata": {
        "id": "mFdiCL41HOm6"
      }
    },
    {
      "cell_type": "code",
      "source": [
        "#B-A\n",
        "a = {1,2,3,4,5}\n",
        "b = {4,5,6,7,8}\n",
        "b-a"
      ],
      "metadata": {
        "id": "T4cHG9zbHUjZ",
        "outputId": "57dcfeb5-9cd2-4f0f-a302-a0cf21bf0f44",
        "colab": {
          "base_uri": "https://localhost:8080/"
        }
      },
      "execution_count": 14,
      "outputs": [
        {
          "output_type": "execute_result",
          "data": {
            "text/plain": [
              "{6, 7, 8}"
            ]
          },
          "metadata": {},
          "execution_count": 14
        }
      ]
    },
    {
      "cell_type": "markdown",
      "source": [
        "5) Symmetric_difference( ):\n",
        "\n",
        "*   \n",
        "Returns a new set containing elements that are in either set A or set B, but not in both.\n",
        "*   You can use the ^ (caret) operator.\n",
        "\n",
        "*   It returns a new set instead of modifying existing ones.\n",
        "*   The result contains only unique elements.\n",
        "\n",
        "\n",
        "\n",
        "\n"
      ],
      "metadata": {
        "id": "P8y4wmHqHai3"
      }
    },
    {
      "cell_type": "code",
      "source": [
        "#Symmetric_Difference\n",
        "a = {1, 2, 3, 4}\n",
        "b = {3, 4, 5, 6}\n",
        "result = a.symmetric_difference(b)\n",
        "print(result)"
      ],
      "metadata": {
        "id": "XwqWbU2aIyhs",
        "outputId": "d74d7d38-c294-411b-c663-a968f1efc1c9",
        "colab": {
          "base_uri": "https://localhost:8080/"
        }
      },
      "execution_count": 15,
      "outputs": [
        {
          "output_type": "stream",
          "name": "stdout",
          "text": [
            "{1, 2, 5, 6}\n"
          ]
        }
      ]
    },
    {
      "cell_type": "code",
      "source": [
        "a = {1, 2, 3, 4}\n",
        "b = {3, 4, 5, 6}\n",
        "a^b"
      ],
      "metadata": {
        "id": "Yq8btB2rI-gb",
        "outputId": "658cb67c-89bd-4f3a-9626-f410b1c4bc3c",
        "colab": {
          "base_uri": "https://localhost:8080/"
        }
      },
      "execution_count": 16,
      "outputs": [
        {
          "output_type": "execute_result",
          "data": {
            "text/plain": [
              "{1, 2, 5, 6}"
            ]
          },
          "metadata": {},
          "execution_count": 16
        }
      ]
    }
  ]
}