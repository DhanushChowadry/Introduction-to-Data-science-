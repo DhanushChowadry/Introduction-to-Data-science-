{
 "cells": [
  {
   "cell_type": "code",
   "execution_count": null,
   "id": "77f1f8d8-3bea-4f24-a8f4-52d4f89458f7",
   "metadata": {},
   "outputs": [],
   "source": [
    "#what is datatype?\n",
    "#write int with 10 examples?\n",
    "#write float with 7 examples?\n",
    "#write complex with 7 examples?\n",
    "#write boolean with 7 examples?\n",
    "#write type conversion and give type() function for it?"
   ]
  },
  {
   "cell_type": "code",
   "execution_count": null,
   "id": "10054699-b31f-4d5d-a960-a1ae847f77a0",
   "metadata": {},
   "outputs": [],
   "source": [
    "#what is datatype?\n",
    "A data type is a classification that specifies which type of value a\n",
    "variable can hold in programming. It determines the operations that \n",
    "can be performed on the data and how it is stored in memory."
   ]
  },
  {
   "cell_type": "code",
   "execution_count": null,
   "id": "cc3bb1cd-0532-4dc3-9c99-8e8f272341f3",
   "metadata": {},
   "outputs": [],
   "source": [
    "#write int with 10 examples?\n",
    "1.num1 = 10 (Positive integer) \n",
    "\n",
    "2.num2 = -25( Negative integer)  \n",
    "\n",
    "3.num3 = 0 ( Zero as an integer) \n",
    "\n",
    "4.num4 = 987654321 (Large integer) \n",
    "\n",
    "5.num5 = 0b1010 Binary integer (0b prefix)\n",
    "\n",
    "6.num6 = 0o17  Octal integer (0o prefix)  \n",
    "\n",
    "7.num7 = 0xA Hexadecimal integer (0x prefix)  \n",
    "\n",
    "8.num8 = 5 + 3 * 2 Integer from arithmetic operation \n",
    "\n",
    "9.num9 = int(4.9) Integer from a function \n",
    "\n",
    "10.num10 = int(\"123\") Integer input from user \n",
    "    \n"
   ]
  },
  {
   "cell_type": "code",
   "execution_count": null,
   "id": "e0e4134b-5a99-4905-9db8-fec0db7a14cd",
   "metadata": {},
   "outputs": [],
   "source": [
    "#write float with 7 examples?\n",
    "1.num1 = 10.5 Positive float    \n",
    "\n",
    "2.num2 = -25.75 Negative float    \n",
    "\n",
    "3.num3 = 0.0 Zero as a float  \n",
    "  \n",
    "4.num4 = 1.23e3 Scientific notation (exponential form)   \n",
    "\n",
    "5.num5 = 7 / 2 Float from division operation    \n",
    "\n",
    "6.num6 = float(5) Float using the float() function   \n",
    "\n",
    "7.num7 = float(\"12.34\")  Float from a string conversion  \n",
    " \n"
   ]
  },
  {
   "cell_type": "code",
   "execution_count": null,
   "id": "0c231b8c-286e-4ab6-a867-d1350e326d94",
   "metadata": {},
   "outputs": [],
   "source": [
    "#write complex with 7 examples?\n",
    "1.num1 = 2 + 3j Simple complex number (real + imaginary part)\n",
    " \n",
    "2.num2 = 4 - 5j  Complex number with negative imaginary part  \n",
    "\n",
    "3.num3 = 0 + 7j Complex number with only an imaginary part\n",
    "\n",
    "4.num4 = 8 + 0j  Complex number with only a real part  \n",
    "\n",
    "5.num5 = complex(3, 4) Complex number using the complex() function \n",
    "\n",
    "6.num6 = (2 + 3j) + (1 - 2j) Complex number from arithmetic operations\n",
    "\n",
    "7.num7 = complex(\"5+6j\") Complex number from user input (converted from string)  \n"
   ]
  },
  {
   "cell_type": "code",
   "execution_count": null,
   "id": "21ca1968-7181-4c45-9c1b-932278848058",
   "metadata": {},
   "outputs": [],
   "source": [
    "#write boolean with 7 examples?\n",
    "1.bool1 = True (Direct Boolean value)  \n",
    " \n",
    "\n",
    "2.bool2 = False (Another direct Boolean value)  \n",
    " \n",
    "3.bool3 = 10 > 5 (Boolean from comparison)\n",
    "# True  \n",
    "\n",
    "4.bool4 = 3 == 7 (Boolean from equality check)  \n",
    "# False  \n",
    "\n",
    "5.bool5 = True and False (Boolean from logical AND operation)  \n",
    "# False  \n",
    "\n",
    "6.bool6 = not (5 < 2) (Boolean from logical NOT operation)  \n",
    "# True  \n",
    "\n",
    "7.bool7 = bool(\"Hello\")  (Boolean from function return)  \n",
    "# True (Non-empty string is True)  \n"
   ]
  },
  {
   "cell_type": "code",
   "execution_count": null,
   "id": "df496a7f-62bb-4015-a1dd-680d4a0d8d11",
   "metadata": {},
   "outputs": [],
   "source": [
    "#write type conversion and give type() function for it?\n",
    "# Integer to Float\n",
    "num1 = 5\n",
    "num2 = float(num1)  # Converts int to float\n",
    "print(type(num2))  # Output: <class 'float'>\n",
    "\n",
    "# Float to Integer\n",
    "num3 = 4.7\n",
    "num4 = int(num3)  # Converts float to int (truncates decimal part)\n",
    "print(type(num4))  # Output: <class 'int'>\n",
    "\n",
    "# Integer to String\n",
    "num5 = 100\n",
    "num6 = str(num5)  # Converts int to string\n",
    "print(type(num6))  # Output: <class 'str'>\n",
    "\n",
    "# String to Integer\n",
    "num7 = \"50\"\n",
    "num8 = int(num7)  # Converts string to integer\n",
    "print(type(num8))  # Output: <class 'int'>\n",
    "\n",
    "# String to Float\n",
    "num9 = \"3.14\"\n",
    "num10 = float(num9)  # Converts string to float\n",
    "print(type(num10))  # Output: <class 'float'>\n",
    "\n",
    "# Integer to Boolean\n",
    "num11 = 0\n",
    "num12 = bool(num11)  # Converts int to boolean (0 is False, any other number is True)\n",
    "print(type(num12))  # Output: <class 'bool'>\n"
   ]
  }
 ],
 "metadata": {
  "kernelspec": {
   "display_name": "Python 3 (ipykernel)",
   "language": "python",
   "name": "python3"
  },
  "language_info": {
   "codemirror_mode": {
    "name": "ipython",
    "version": 3
   },
   "file_extension": ".py",
   "mimetype": "text/x-python",
   "name": "python",
   "nbconvert_exporter": "python",
   "pygments_lexer": "ipython3",
   "version": "3.12.7"
  }
 },
 "nbformat": 4,
 "nbformat_minor": 5
}
