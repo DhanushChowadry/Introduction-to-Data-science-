{
  "nbformat": 4,
  "nbformat_minor": 0,
  "metadata": {
    "colab": {
      "provenance": []
    },
    "kernelspec": {
      "name": "python3",
      "display_name": "Python 3"
    },
    "language_info": {
      "name": "python"
    }
  },
  "cells": [
    {
      "cell_type": "markdown",
      "source": [
        "# Functions:\n",
        "\n",
        "*   Functions are blocks of reusable code that perform a specific task.\n",
        "*   They make the code more modular, readable, and efficient.\n",
        "\n",
        "*  We have two types in functions:\n",
        "\n",
        "    1.   Built-in Function: That are ready to use.\n",
        "    2.   User define functions: are created by the programmer for specific tasks.\n",
        "\n",
        "\n",
        "\n",
        "\n"
      ],
      "metadata": {
        "id": "lKizvtZgbZQz"
      }
    },
    {
      "cell_type": "code",
      "execution_count": 2,
      "metadata": {
        "id": "_rVKe4lPM3Ft"
      },
      "outputs": [],
      "source": [
        "#syntax\n",
        "def function_name (parameters):\n",
        "\n",
        "  statement(s)\n",
        "\n",
        "  return #(optional)"
      ]
    },
    {
      "cell_type": "code",
      "source": [
        "a=int(input(\"enter the a number:\"))#give values\n",
        "b=int(input(\"enter the b number:\"))\n"
      ],
      "metadata": {
        "colab": {
          "base_uri": "https://localhost:8080/"
        },
        "id": "vK_yHwfKdub-",
        "outputId": "5ccb6035-9951-45c1-f07a-dac0ab1b804e"
      },
      "execution_count": 3,
      "outputs": [
        {
          "name": "stdout",
          "output_type": "stream",
          "text": [
            "enter the a number:23\n",
            "enter the b number:23\n"
          ]
        }
      ]
    },
    {
      "cell_type": "code",
      "source": [
        "def sum(a,b):\n",
        "  sum=a+b\n",
        "  print(sum)"
      ],
      "metadata": {
        "id": "DOhY8kvSeGqU"
      },
      "execution_count": 4,
      "outputs": []
    },
    {
      "cell_type": "code",
      "source": [
        "sum(a,b)"
      ],
      "metadata": {
        "colab": {
          "base_uri": "https://localhost:8080/"
        },
        "id": "s-dDeco3ePYL",
        "outputId": "810b96b3-f95f-43a4-e308-600a56c7f2ff"
      },
      "execution_count": 5,
      "outputs": [
        {
          "output_type": "stream",
          "name": "stdout",
          "text": [
            "46\n"
          ]
        }
      ]
    },
    {
      "cell_type": "code",
      "source": [
        "#With 2arithematic operators\n",
        "a=int(input(\"enter the a number:\"))\n",
        "b=int(input(\"enter the b number:\"))\n",
        "def arit(num1,num2):\n",
        "  sum=num1+num2\n",
        "  sub=num1-num2\n",
        "  mul=num1*num2\n",
        "  div=num1/num2\n",
        "  mod=num1%num2\n",
        "  print(sum,sub,mul,div,mod)"
      ],
      "metadata": {
        "colab": {
          "base_uri": "https://localhost:8080/"
        },
        "id": "Nv8Li6RdeVjz",
        "outputId": "8a510667-3bfb-4d8d-b6e2-81d7e26e0281"
      },
      "execution_count": 7,
      "outputs": [
        {
          "name": "stdout",
          "output_type": "stream",
          "text": [
            "enter the a number:34\n",
            "enter the b number:3\n"
          ]
        }
      ]
    },
    {
      "cell_type": "code",
      "source": [
        "arit(a,b)"
      ],
      "metadata": {
        "colab": {
          "base_uri": "https://localhost:8080/"
        },
        "id": "GUqc6f9ZeetM",
        "outputId": "8c178915-0437-46d3-9141-d93df5e6c293"
      },
      "execution_count": 8,
      "outputs": [
        {
          "output_type": "stream",
          "name": "stdout",
          "text": [
            "37 31 102 11.333333333333334 1\n"
          ]
        }
      ]
    },
    {
      "cell_type": "code",
      "source": [
        "user=input(\"enter the char:\")#by using function\n",
        "vowels=['a','e','i','o','u']\n",
        "def find_vowels(user):\n",
        "  if user.lower() in vowels:\n",
        "    print(\"it is a vowel\")\n",
        "  else:\n",
        "    print(\"it is not a vowel\")\n",
        "\n",
        "find_vowels(user)"
      ],
      "metadata": {
        "colab": {
          "base_uri": "https://localhost:8080/"
        },
        "id": "fKU1E5R3ey4v",
        "outputId": "557ee474-690d-497b-e527-a16ae864202a"
      },
      "execution_count": 10,
      "outputs": [
        {
          "output_type": "stream",
          "name": "stdout",
          "text": [
            "enter the char:A\n",
            "it is a vowel\n"
          ]
        }
      ]
    },
    {
      "cell_type": "code",
      "source": [
        "#to find which is vowel and which is not vowel in a string without function\n",
        "user=input(\"enter the string:\")\n",
        "vowels=['a','e','i','o','u']\n",
        "for i in user:\n",
        "  if i in vowels:\n",
        "    print(i,\"is a vowel\")\n",
        "  else:\n",
        "    print(i,\"is not a vowel\")"
      ],
      "metadata": {
        "colab": {
          "base_uri": "https://localhost:8080/"
        },
        "id": "gm1lYebhfFAj",
        "outputId": "ffcae640-6d13-4fba-c2d6-bd34118c7f88"
      },
      "execution_count": 13,
      "outputs": [
        {
          "output_type": "stream",
          "name": "stdout",
          "text": [
            "enter the string:e\n",
            "e is a vowel\n"
          ]
        }
      ]
    },
    {
      "cell_type": "markdown",
      "source": [
        "# return function:\n",
        "\n",
        "*   The return statement gives back a value from a function.\n",
        "\n",
        "*   It stops the function and sends a result back to where it was called.\n",
        "*   Can return multiple values as a tuple.\n",
        "\n",
        "\n",
        "*   A function can have multiple return statements but executes only one.\n",
        "\n"
      ],
      "metadata": {
        "id": "Y0EINzxLfccF"
      }
    },
    {
      "cell_type": "code",
      "source": [
        "#return statement\n",
        "def mul(a,b):\n",
        "  mul=a*b\n",
        "  return mul"
      ],
      "metadata": {
        "id": "wEZstFdOfeGt"
      },
      "execution_count": 17,
      "outputs": []
    },
    {
      "cell_type": "code",
      "source": [
        "mul(4,3)"
      ],
      "metadata": {
        "colab": {
          "base_uri": "https://localhost:8080/"
        },
        "id": "kROp3gxnfg5X",
        "outputId": "f95eb1bb-26fa-4169-af75-493e8abb671f"
      },
      "execution_count": 18,
      "outputs": [
        {
          "output_type": "execute_result",
          "data": {
            "text/plain": [
              "12"
            ]
          },
          "metadata": {},
          "execution_count": 18
        }
      ]
    },
    {
      "cell_type": "markdown",
      "source": [
        "# Lambda Function:\n",
        "\n",
        "*   They can take multiple arguments but must have only one expression.\n",
        "*   They don’t require a def keyword or a function name.\n",
        "\n"
      ],
      "metadata": {
        "id": "JD2QDv69mNbN"
      }
    },
    {
      "cell_type": "code",
      "source": [
        "f=lambda y:y+100\n",
        "print(f(5))"
      ],
      "metadata": {
        "colab": {
          "base_uri": "https://localhost:8080/"
        },
        "id": "dFuEleUBmZfL",
        "outputId": "a4f8b478-c6d8-4608-e9cb-8dbc0a277416"
      },
      "execution_count": 19,
      "outputs": [
        {
          "output_type": "stream",
          "name": "stdout",
          "text": [
            "105\n"
          ]
        }
      ]
    },
    {
      "cell_type": "code",
      "source": [
        "mul=lambda x,y:x*y#with multiple arguemnets but only one expression\n",
        "print(mul(3,5))"
      ],
      "metadata": {
        "colab": {
          "base_uri": "https://localhost:8080/"
        },
        "id": "8NHyI3ZymcVi",
        "outputId": "a64a898d-fb7e-4950-c76e-8ccfeef38047"
      },
      "execution_count": 20,
      "outputs": [
        {
          "output_type": "stream",
          "name": "stdout",
          "text": [
            "15\n"
          ]
        }
      ]
    },
    {
      "cell_type": "code",
      "source": [
        "#with inside function\n",
        "def find():\n",
        "  a=lambda x,y:x+y\n",
        "  return a\n",
        "\n"
      ],
      "metadata": {
        "id": "HQG4FAqmmhLz"
      },
      "execution_count": 21,
      "outputs": []
    },
    {
      "cell_type": "code",
      "source": [
        "h=find()"
      ],
      "metadata": {
        "id": "R-bZWFF8miVe"
      },
      "execution_count": 22,
      "outputs": []
    },
    {
      "cell_type": "code",
      "source": [
        "print(h(3,5))"
      ],
      "metadata": {
        "colab": {
          "base_uri": "https://localhost:8080/"
        },
        "id": "eL2rT8Juml0U",
        "outputId": "d42937f5-163f-4d6e-b292-84221c142652"
      },
      "execution_count": 23,
      "outputs": [
        {
          "output_type": "stream",
          "name": "stdout",
          "text": [
            "8\n"
          ]
        }
      ]
    },
    {
      "cell_type": "code",
      "source": [
        "a=lambda x,y,z,e:x+y*z/e#multiple arguments but single expression"
      ],
      "metadata": {
        "id": "-NenJOm0msgv"
      },
      "execution_count": 24,
      "outputs": []
    },
    {
      "cell_type": "code",
      "source": [
        "print(a(4,5,6,3))"
      ],
      "metadata": {
        "colab": {
          "base_uri": "https://localhost:8080/"
        },
        "id": "CPMP4Ansmtoo",
        "outputId": "386f9568-97c1-46f3-b486-191504c826d3"
      },
      "execution_count": 25,
      "outputs": [
        {
          "output_type": "stream",
          "name": "stdout",
          "text": [
            "14.0\n"
          ]
        }
      ]
    },
    {
      "cell_type": "markdown",
      "source": [
        "# Global Variable:\n",
        "\n",
        "*   Used to declare a variable as global inside a function.\n",
        "*   Allows modifying a global variable inside a function.\n",
        "*   Declared using the global keyword.\n",
        "\n"
      ],
      "metadata": {
        "id": "kecRqfgJmwVz"
      }
    },
    {
      "cell_type": "markdown",
      "source": [
        "# Local Variable:\n",
        "\n",
        "*   Variables created inside a function are local to that function.\n",
        "*   They cannot be accessed outside the function.\n",
        "*   Automatically deleted after the function finishes execution\n",
        "\n"
      ],
      "metadata": {
        "id": "gKvt5Ltam9qP"
      }
    },
    {
      "cell_type": "code",
      "source": [
        "#Global and Local Variable\n",
        "glo=\"hello global\"#we can use global variable anywhere\n",
        "def local():\n",
        "  local=\"i am local variable\"\n",
        "  print(local)"
      ],
      "metadata": {
        "id": "0kwScxYvnK0x"
      },
      "execution_count": 26,
      "outputs": []
    },
    {
      "cell_type": "code",
      "source": [
        "print(glo)"
      ],
      "metadata": {
        "colab": {
          "base_uri": "https://localhost:8080/"
        },
        "id": "NXlg60SvnPoy",
        "outputId": "a2118f5d-27e5-4ee9-d994-7c6ffd085335"
      },
      "execution_count": 27,
      "outputs": [
        {
          "output_type": "stream",
          "name": "stdout",
          "text": [
            "hello global\n"
          ]
        }
      ]
    },
    {
      "cell_type": "code",
      "source": [
        "print(local)#it gives the location of it"
      ],
      "metadata": {
        "colab": {
          "base_uri": "https://localhost:8080/"
        },
        "id": "OXzE8s9MnPir",
        "outputId": "fb71f79f-284d-434d-b31e-53b138f64096"
      },
      "execution_count": 28,
      "outputs": [
        {
          "output_type": "stream",
          "name": "stdout",
          "text": [
            "<function local at 0x7d41a6a65620>\n"
          ]
        }
      ]
    },
    {
      "cell_type": "code",
      "source": [
        "local()#to show value in local variable"
      ],
      "metadata": {
        "colab": {
          "base_uri": "https://localhost:8080/"
        },
        "id": "xeVxCHJrnT2K",
        "outputId": "efc15c5f-fa53-4003-9930-7862df5f4121"
      },
      "execution_count": 29,
      "outputs": [
        {
          "output_type": "stream",
          "name": "stdout",
          "text": [
            "i am local variable\n"
          ]
        }
      ]
    },
    {
      "cell_type": "code",
      "source": [
        "glo=\"hello global\"#we can use global variable anywhere\n",
        "def local():\n",
        "  local=\"i am local variable\"\n",
        "  print(local)\n",
        "\n",
        "  print(glo)"
      ],
      "metadata": {
        "id": "ODpTG2kMnaRM"
      },
      "execution_count": 30,
      "outputs": []
    },
    {
      "cell_type": "code",
      "source": [
        "print(local)"
      ],
      "metadata": {
        "colab": {
          "base_uri": "https://localhost:8080/"
        },
        "id": "8xh_B-QNndAa",
        "outputId": "641fb27f-31b2-4359-a11b-5a0adc90e2a5"
      },
      "execution_count": 31,
      "outputs": [
        {
          "output_type": "stream",
          "name": "stdout",
          "text": [
            "<function local at 0x7d41a6a656c0>\n"
          ]
        }
      ]
    },
    {
      "cell_type": "code",
      "source": [
        "local()#to show value in local variable and we can get global variable as well by printing it"
      ],
      "metadata": {
        "colab": {
          "base_uri": "https://localhost:8080/"
        },
        "id": "LqZ56XznneD2",
        "outputId": "8244f699-9ef7-4ae2-848f-0f42fe0eb6e9"
      },
      "execution_count": 32,
      "outputs": [
        {
          "output_type": "stream",
          "name": "stdout",
          "text": [
            "i am local variable\n",
            "hello global\n"
          ]
        }
      ]
    }
  ]
}