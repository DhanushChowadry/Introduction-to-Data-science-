{
 "cells": [
  {
   "cell_type": "code",
   "execution_count": null,
   "id": "66e1dc9c-cd7a-48b1-84ed-843980d55c36",
   "metadata": {},
   "outputs": [],
   "source": [
    "#what is python\n",
    "#why we use python\n",
    "#application of python\n",
    "#explain about comments with examples"
   ]
  },
  {
   "cell_type": "code",
   "execution_count": null,
   "id": "216f5212-0ca9-4778-b112-3bd68c416dcf",
   "metadata": {},
   "outputs": [],
   "source": [
    "#what is python?\n",
    "Python is a programming language that is interpreted, object-oriented,\n",
    "and considered to be high-level too.Python is one of the easiest yet \n",
    "most useful programming languages which is widely used in the software\n",
    "industry. People use Python for Competitive Programming, Web Development \n",
    "and creating software. Due to its easiest syntax, it is recommended for \n",
    "beginners who are new to the software engineering field. Its demand is\n",
    "growing at a very rapid pace due to its vast use cases in Modern \n",
    "Technological fields like Data Science, Machine learning, and Automation Tasks.\n"
   ]
  },
  {
   "cell_type": "code",
   "execution_count": null,
   "id": "2734aaa1-abd1-4e0a-84e5-2db899cb680c",
   "metadata": {},
   "outputs": [],
   "source": [
    "#why we use python?\n",
    "1.Easy to Learn & Readable.\n",
    "2.Versatile & Multi-Purpose.\n",
    "3.Extensive Libraries & Frameworks.\n",
    "4.Strong Community Support.\n",
    "5.Interpreted Language.\n",
    "6.Integration with Other Languages."
   ]
  },
  {
   "cell_type": "code",
   "execution_count": null,
   "id": "4441d349-1d49-468b-8f84-39018fc96ac8",
   "metadata": {},
   "outputs": [],
   "source": [
    "#Application of python?\n",
    "1.Web Development.\n",
    "2.Data Science & Analytics.\n",
    "3.Machine Learning & AI.\n",
    "4.Automation & Scripting.\n",
    "5.Cybersecurity.\n",
    "6.Game Development.\n",
    "7.Internet of Things (IoT).\n",
    "8.Scientific Computing.\n",
    "9.Cloud Computing.\n",
    "10.Finance."
   ]
  },
  {
   "cell_type": "code",
   "execution_count": null,
   "id": "d3ab5ed9-511d-4965-8642-6e6eb2bd88a4",
   "metadata": {},
   "outputs": [],
   "source": [
    "#Explain about comments with examples?\n",
    "Comments in Python are used to make code more readable and explain what a particular\n",
    "section does.They are ignored by the interpreter and do not affect the program’s execution.\n",
    "Types of Comments in Python;\n",
    "1.Single-Line Comment:-\n",
    "# This is a single-line comment\n",
    "ex:-print(\"Hello, World!\").\n",
    "\n",
    "2.Multi-Line Comments:-\n",
    "# This is a multi-line comment\n",
    "# that spans multiple lines\n",
    "ex:-print(\"Python is awesome\").\n",
    "\n",
    "\n"
   ]
  }
 ],
 "metadata": {
  "kernelspec": {
   "display_name": "Python 3 (ipykernel)",
   "language": "python",
   "name": "python3"
  },
  "language_info": {
   "codemirror_mode": {
    "name": "ipython",
    "version": 3
   },
   "file_extension": ".py",
   "mimetype": "text/x-python",
   "name": "python",
   "nbconvert_exporter": "python",
   "pygments_lexer": "ipython3",
   "version": "3.12.7"
  }
 },
 "nbformat": 4,
 "nbformat_minor": 5
}
