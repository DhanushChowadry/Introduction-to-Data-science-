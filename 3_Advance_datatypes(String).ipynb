{
  "nbformat": 4,
  "nbformat_minor": 0,
  "metadata": {
    "colab": {
      "provenance": []
    },
    "kernelspec": {
      "name": "python3",
      "display_name": "Python 3"
    },
    "language_info": {
      "name": "python"
    }
  },
  "cells": [
    {
      "cell_type": "markdown",
      "source": [
        "## String( ) :\n",
        "\n",
        "*   A string is a sequence of characters.\n",
        "*   Enclosed in single quotes (' '), double quotes (\" \"), or triple quotes\n",
        "    (''' ''') for multi-line text."
      ],
      "metadata": {
        "id": "H5VNvXX9lgc4"
      }
    },
    {
      "cell_type": "code",
      "execution_count": null,
      "metadata": {
        "colab": {
          "base_uri": "https://localhost:8080/"
        },
        "id": "xESmdqaflDP6",
        "outputId": "b14196a9-9750-46c3-8e3a-bc311f11fddc"
      },
      "outputs": [
        {
          "output_type": "stream",
          "name": "stdout",
          "text": [
            "i am learning datascience \n",
            "i am learning datascience\n",
            "i am learning datascience\n"
          ]
        }
      ],
      "source": [
        "a ='i am learning datascience '\n",
        "print(a)\n",
        "\n",
        "b = \"i am learning datascience\"\n",
        "print(b)\n",
        "\n",
        "c = '''i am learning datascience'''\n",
        "print(c)"
      ]
    },
    {
      "cell_type": "markdown",
      "source": [
        "# Indexing( ) :\n",
        "\n",
        "*   Indexing in Python strings allows you to access individual characters using their position.\n",
        "*  There are two types of indexing : positive and negative indexing.\n",
        "\n"
      ],
      "metadata": {
        "id": "IrqxsifZmYGq"
      }
    },
    {
      "cell_type": "code",
      "source": [
        "a = 'Hello'\n",
        "a[0]"
      ],
      "metadata": {
        "colab": {
          "base_uri": "https://localhost:8080/",
          "height": 36
        },
        "id": "simEGQT4mm6l",
        "outputId": "fa6d22bb-21e1-4ff1-d185-dd264ad78264"
      },
      "execution_count": null,
      "outputs": [
        {
          "output_type": "execute_result",
          "data": {
            "text/plain": [
              "'H'"
            ],
            "application/vnd.google.colaboratory.intrinsic+json": {
              "type": "string"
            }
          },
          "metadata": {},
          "execution_count": 3
        }
      ]
    },
    {
      "cell_type": "code",
      "source": [
        "a = 'python'\n",
        "a[2]"
      ],
      "metadata": {
        "colab": {
          "base_uri": "https://localhost:8080/",
          "height": 36
        },
        "id": "72tlFKL2msGb",
        "outputId": "6899646e-36d7-4cc9-802e-2ad6d721b03c"
      },
      "execution_count": null,
      "outputs": [
        {
          "output_type": "execute_result",
          "data": {
            "text/plain": [
              "'t'"
            ],
            "application/vnd.google.colaboratory.intrinsic+json": {
              "type": "string"
            }
          },
          "metadata": {},
          "execution_count": 5
        }
      ]
    },
    {
      "cell_type": "code",
      "source": [
        "a = 'hanuman'\n",
        "a[3]"
      ],
      "metadata": {
        "colab": {
          "base_uri": "https://localhost:8080/",
          "height": 36
        },
        "id": "kZdxd0XjmsPW",
        "outputId": "ef0ba85d-6073-411d-8133-8f0c400e4cc6"
      },
      "execution_count": null,
      "outputs": [
        {
          "output_type": "execute_result",
          "data": {
            "text/plain": [
              "'u'"
            ],
            "application/vnd.google.colaboratory.intrinsic+json": {
              "type": "string"
            }
          },
          "metadata": {},
          "execution_count": 6
        }
      ]
    },
    {
      "cell_type": "code",
      "source": [
        "a = 'hanuman'\n",
        "a[-1]"
      ],
      "metadata": {
        "colab": {
          "base_uri": "https://localhost:8080/",
          "height": 36
        },
        "id": "bJXC8dormsRu",
        "outputId": "cdc88dc9-5c6a-4850-b186-7e5fdbfb0a36"
      },
      "execution_count": null,
      "outputs": [
        {
          "output_type": "execute_result",
          "data": {
            "text/plain": [
              "'n'"
            ],
            "application/vnd.google.colaboratory.intrinsic+json": {
              "type": "string"
            }
          },
          "metadata": {},
          "execution_count": 7
        }
      ]
    },
    {
      "cell_type": "code",
      "source": [
        "a = 'hanuman'\n",
        "a[-4]"
      ],
      "metadata": {
        "colab": {
          "base_uri": "https://localhost:8080/",
          "height": 36
        },
        "id": "bnsr1FU3msVQ",
        "outputId": "f29c2793-e255-41a8-a2ea-ff897ac4554d"
      },
      "execution_count": null,
      "outputs": [
        {
          "output_type": "execute_result",
          "data": {
            "text/plain": [
              "'u'"
            ],
            "application/vnd.google.colaboratory.intrinsic+json": {
              "type": "string"
            }
          },
          "metadata": {},
          "execution_count": 8
        }
      ]
    },
    {
      "cell_type": "code",
      "source": [
        "a = 'hanuman'\n",
        "a[-6]"
      ],
      "metadata": {
        "colab": {
          "base_uri": "https://localhost:8080/",
          "height": 36
        },
        "id": "WAGRrXJcnC1z",
        "outputId": "a321853a-c3be-4f3d-c13e-65f914eaefcc"
      },
      "execution_count": null,
      "outputs": [
        {
          "output_type": "execute_result",
          "data": {
            "text/plain": [
              "'a'"
            ],
            "application/vnd.google.colaboratory.intrinsic+json": {
              "type": "string"
            }
          },
          "metadata": {},
          "execution_count": 9
        }
      ]
    },
    {
      "cell_type": "markdown",
      "source": [
        "# Slicing( ) :\n",
        "Slicing is used to extract a portion (substring) of a string."
      ],
      "metadata": {
        "id": "NsdIvdNGnGv2"
      }
    },
    {
      "cell_type": "code",
      "source": [
        "a='hanuman'\n",
        "a[0:]"
      ],
      "metadata": {
        "colab": {
          "base_uri": "https://localhost:8080/",
          "height": 36
        },
        "id": "uKBtjKtBnK17",
        "outputId": "6c802de5-6582-4407-c455-7b6c6e7d48f1"
      },
      "execution_count": null,
      "outputs": [
        {
          "output_type": "execute_result",
          "data": {
            "text/plain": [
              "'hanuman'"
            ],
            "application/vnd.google.colaboratory.intrinsic+json": {
              "type": "string"
            }
          },
          "metadata": {},
          "execution_count": 10
        }
      ]
    },
    {
      "cell_type": "code",
      "source": [
        "a='hanuman'\n",
        "a[:7]"
      ],
      "metadata": {
        "colab": {
          "base_uri": "https://localhost:8080/",
          "height": 36
        },
        "id": "aRGOjol6nVMW",
        "outputId": "31714d1d-4ecb-4492-c509-6494778642ea"
      },
      "execution_count": null,
      "outputs": [
        {
          "output_type": "execute_result",
          "data": {
            "text/plain": [
              "'hanuman'"
            ],
            "application/vnd.google.colaboratory.intrinsic+json": {
              "type": "string"
            }
          },
          "metadata": {},
          "execution_count": 11
        }
      ]
    },
    {
      "cell_type": "code",
      "source": [
        "a='hanuman'\n",
        "a[0:5]"
      ],
      "metadata": {
        "colab": {
          "base_uri": "https://localhost:8080/",
          "height": 36
        },
        "id": "XAMAMV30nVI1",
        "outputId": "fca63362-a70b-438d-c911-c7ea0a0d1e7f"
      },
      "execution_count": null,
      "outputs": [
        {
          "output_type": "execute_result",
          "data": {
            "text/plain": [
              "'hanum'"
            ],
            "application/vnd.google.colaboratory.intrinsic+json": {
              "type": "string"
            }
          },
          "metadata": {},
          "execution_count": 12
        }
      ]
    },
    {
      "cell_type": "code",
      "source": [
        "#[Start:End:Stepsize]\n",
        "#Skip the values based on the stepsize\n",
        "a = 'NITHISH'\n",
        "a[0:7:2]"
      ],
      "metadata": {
        "colab": {
          "base_uri": "https://localhost:8080/",
          "height": 36
        },
        "id": "tx6bvYrVnVGY",
        "outputId": "7045c58a-02fd-463c-c468-820435ed0bbc"
      },
      "execution_count": null,
      "outputs": [
        {
          "output_type": "execute_result",
          "data": {
            "text/plain": [
              "'NTIH'"
            ],
            "application/vnd.google.colaboratory.intrinsic+json": {
              "type": "string"
            }
          },
          "metadata": {},
          "execution_count": 13
        }
      ]
    },
    {
      "cell_type": "code",
      "source": [
        "a = 'NITHISH'\n",
        "a[-6:-1]"
      ],
      "metadata": {
        "colab": {
          "base_uri": "https://localhost:8080/",
          "height": 36
        },
        "id": "nhJsggGlntDo",
        "outputId": "293951c8-e4b7-4140-a15b-66234981bfd9"
      },
      "execution_count": null,
      "outputs": [
        {
          "output_type": "execute_result",
          "data": {
            "text/plain": [
              "'ITHIS'"
            ],
            "application/vnd.google.colaboratory.intrinsic+json": {
              "type": "string"
            }
          },
          "metadata": {},
          "execution_count": 14
        }
      ]
    },
    {
      "cell_type": "code",
      "source": [
        "a = 'NITHISH'\n",
        "a[-9:-1]"
      ],
      "metadata": {
        "colab": {
          "base_uri": "https://localhost:8080/",
          "height": 36
        },
        "id": "s6B4Eq8BnxrV",
        "outputId": "363e8f15-2c36-4e2d-88ce-f9cdd1b71a38"
      },
      "execution_count": null,
      "outputs": [
        {
          "output_type": "execute_result",
          "data": {
            "text/plain": [
              "'NITHIS'"
            ],
            "application/vnd.google.colaboratory.intrinsic+json": {
              "type": "string"
            }
          },
          "metadata": {},
          "execution_count": 15
        }
      ]
    },
    {
      "cell_type": "markdown",
      "source": [
        "# String Format:\n",
        "1) format( ) method:\n",
        "\n",
        "\n",
        "* The format() method allows inserting variables into a string using {} placeholders, supporting both positional and named arguments.  \n",
        "* It provides advanced formatting options like alignment, padding, and number formatting (e.g., {:.2f} for two decimal places)."
      ],
      "metadata": {
        "id": "hrhqN5vkn42W"
      }
    },
    {
      "cell_type": "code",
      "source": [
        "name = 'Dhan'\n",
        "age = '20'\n",
        "print('My name is {} and My age is {} year old'.format(name,age))"
      ],
      "metadata": {
        "colab": {
          "base_uri": "https://localhost:8080/"
        },
        "id": "ytolaU_ln8iv",
        "outputId": "db6b8c7f-9fd5-4a86-d4e6-12bedeabf1a9"
      },
      "execution_count": null,
      "outputs": [
        {
          "output_type": "stream",
          "name": "stdout",
          "text": [
            "My name is Dhan and My age is 20 year old\n"
          ]
        }
      ]
    },
    {
      "cell_type": "code",
      "source": [
        "name = 'VMEG'\n",
        "place = 'SHAMSHABAD'\n",
        "print('{} college is in {}'.format(name,place))"
      ],
      "metadata": {
        "colab": {
          "base_uri": "https://localhost:8080/"
        },
        "id": "P0KWSzFRobn8",
        "outputId": "ce1b01e6-d1bc-4597-ee23-084693f0362c"
      },
      "execution_count": null,
      "outputs": [
        {
          "output_type": "stream",
          "name": "stdout",
          "text": [
            "VMEG college is in SHAMSHABAD\n"
          ]
        }
      ]
    },
    {
      "cell_type": "markdown",
      "source": [
        "# 2) f.string method\n",
        "\n",
        "*   f-strings let you insert variables directly into a string using {}.\n",
        "*   They are faster than .format() formatting because they are evaluated at runtime directly.\n",
        "\n"
      ],
      "metadata": {
        "id": "nr7cqP_nohtM"
      }
    },
    {
      "cell_type": "code",
      "source": [
        "name = 'Dhan'\n",
        "age = '20'\n",
        "print(f'My name is {name} and My age is {age} year old')"
      ],
      "metadata": {
        "colab": {
          "base_uri": "https://localhost:8080/"
        },
        "id": "jq76JYy5ot2z",
        "outputId": "99565290-16d7-471c-8c38-0eb258d9b18e"
      },
      "execution_count": null,
      "outputs": [
        {
          "output_type": "stream",
          "name": "stdout",
          "text": [
            "My name is Dhan and My age is 20 year old\n"
          ]
        }
      ]
    },
    {
      "cell_type": "code",
      "source": [
        "name = 'VMEG'\n",
        "place = 'SHAMSHABAD'\n",
        "print(f'{name} college is in {place}')"
      ],
      "metadata": {
        "colab": {
          "base_uri": "https://localhost:8080/"
        },
        "id": "wr_eVZ5fo8Ty",
        "outputId": "2541aed9-2df0-464b-fc54-38fbe4731d5c"
      },
      "execution_count": null,
      "outputs": [
        {
          "output_type": "stream",
          "name": "stdout",
          "text": [
            "VMEG college is in SHAMSHABAD\n"
          ]
        }
      ]
    },
    {
      "cell_type": "markdown",
      "source": [
        "# 3) concatination:\n",
        "\n",
        "*  Joining two or more strings using the + operator.\n",
        "*  Using += allows adding strings to an existing string.\n",
        "\n",
        "\n"
      ],
      "metadata": {
        "id": "pmGjIZFIo_mr"
      }
    },
    {
      "cell_type": "code",
      "source": [
        "a = 'hello'\n",
        "b = 'world'\n",
        "print(a+\" \"+b)"
      ],
      "metadata": {
        "colab": {
          "base_uri": "https://localhost:8080/"
        },
        "id": "o-LVnLLVpVwy",
        "outputId": "d9f7e96c-28f8-411e-cd2b-12f5fc195607"
      },
      "execution_count": null,
      "outputs": [
        {
          "output_type": "stream",
          "name": "stdout",
          "text": [
            "hello world\n"
          ]
        }
      ]
    },
    {
      "cell_type": "code",
      "source": [
        "a = 'hello'\n",
        "a += 'world'\n",
        "print(a)"
      ],
      "metadata": {
        "colab": {
          "base_uri": "https://localhost:8080/"
        },
        "id": "hXVqr1JCpaXA",
        "outputId": "7baacd4c-7379-48b6-c030-9583085ed158"
      },
      "execution_count": null,
      "outputs": [
        {
          "output_type": "stream",
          "name": "stdout",
          "text": [
            "helloworld\n"
          ]
        }
      ]
    },
    {
      "cell_type": "code",
      "source": [
        "a = 'hello'\n",
        "b = 'world'\n",
        "print(a+b)"
      ],
      "metadata": {
        "colab": {
          "base_uri": "https://localhost:8080/"
        },
        "id": "NYfHxbYGphEt",
        "outputId": "0790fac3-bb84-4b66-c74c-404e7e8f0856"
      },
      "execution_count": null,
      "outputs": [
        {
          "output_type": "stream",
          "name": "stdout",
          "text": [
            "helloworld\n"
          ]
        }
      ]
    },
    {
      "cell_type": "markdown",
      "source": [
        "# 4) Repetition( ):\n",
        "\n",
        "*   Repeating a string multiple times using the * operator.\n",
        "*   It is useful for creating patterns or repeating characters easily.\n"
      ],
      "metadata": {
        "id": "44lFRRFfppCQ"
      }
    },
    {
      "cell_type": "code",
      "source": [
        "a = \"Booking start at 10PM\"\n",
        "a * 5"
      ],
      "metadata": {
        "colab": {
          "base_uri": "https://localhost:8080/",
          "height": 36
        },
        "id": "QQV4RJI-p2KP",
        "outputId": "4c0f976c-502a-43c5-8024-36fed94d6a27"
      },
      "execution_count": null,
      "outputs": [
        {
          "output_type": "execute_result",
          "data": {
            "text/plain": [
              "'Booking start at 10PMBooking start at 10PMBooking start at 10PMBooking start at 10PMBooking start at 10PM'"
            ],
            "application/vnd.google.colaboratory.intrinsic+json": {
              "type": "string"
            }
          },
          "metadata": {},
          "execution_count": 23
        }
      ]
    },
    {
      "cell_type": "code",
      "source": [
        "print(\"hello\" * 3)"
      ],
      "metadata": {
        "colab": {
          "base_uri": "https://localhost:8080/"
        },
        "id": "qkSTBswlp8tS",
        "outputId": "c2ecb9b7-6bb2-4605-cdbb-7cfc8f0afd18"
      },
      "execution_count": null,
      "outputs": [
        {
          "output_type": "stream",
          "name": "stdout",
          "text": [
            "hellohellohello\n"
          ]
        }
      ]
    },
    {
      "cell_type": "markdown",
      "source": [
        "# String Methods:\n",
        "\n",
        "\n",
        "\n",
        "\n",
        "1) len( ):\n",
        "\n",
        "\n",
        "*   Returns the number of characters in a string, including spaces.\n",
        "*   It helps in finding the length of a string for loops, validations, and processing.\n",
        "\n"
      ],
      "metadata": {
        "id": "TuMbeXvCqKUY"
      }
    },
    {
      "cell_type": "code",
      "source": [
        "a = \"Booking start at 10PM\"\n",
        "len(a)"
      ],
      "metadata": {
        "colab": {
          "base_uri": "https://localhost:8080/"
        },
        "id": "qxOyoU85qX9a",
        "outputId": "a773b9a6-693e-46c8-cbff-71cf48c6259c"
      },
      "execution_count": null,
      "outputs": [
        {
          "output_type": "execute_result",
          "data": {
            "text/plain": [
              "21"
            ]
          },
          "metadata": {},
          "execution_count": 25
        }
      ]
    },
    {
      "cell_type": "code",
      "source": [
        "b = \"hello\"\n",
        "len(b)"
      ],
      "metadata": {
        "colab": {
          "base_uri": "https://localhost:8080/"
        },
        "id": "P9vvahnJqcSq",
        "outputId": "a737829d-42c3-4a23-a376-f2c43a7e404c"
      },
      "execution_count": null,
      "outputs": [
        {
          "output_type": "execute_result",
          "data": {
            "text/plain": [
              "5"
            ]
          },
          "metadata": {},
          "execution_count": 26
        }
      ]
    },
    {
      "cell_type": "markdown",
      "source": [
        "2) upper( ):\n",
        "\n",
        "\n",
        "*  Converts all letters in a string to uppercase.\n",
        "*  It does not change the original string; it returns a new uppercase version.\n",
        "\n"
      ],
      "metadata": {
        "id": "AggOdRk8qfgy"
      }
    },
    {
      "cell_type": "code",
      "source": [
        "a = \"booking start at 10pm\"\n",
        "a.upper()"
      ],
      "metadata": {
        "colab": {
          "base_uri": "https://localhost:8080/",
          "height": 36
        },
        "id": "4DF4kyqHsD2Z",
        "outputId": "fb50e058-cd21-4366-98f4-a4a7a3777872"
      },
      "execution_count": null,
      "outputs": [
        {
          "output_type": "execute_result",
          "data": {
            "text/plain": [
              "'BOOKING START AT 10PM'"
            ],
            "application/vnd.google.colaboratory.intrinsic+json": {
              "type": "string"
            }
          },
          "metadata": {},
          "execution_count": 27
        }
      ]
    },
    {
      "cell_type": "code",
      "source": [
        "print(\"hello_world\".upper())"
      ],
      "metadata": {
        "colab": {
          "base_uri": "https://localhost:8080/"
        },
        "id": "eVsPJovzsZCs",
        "outputId": "c7986763-ef7c-4596-e429-d681af656834"
      },
      "execution_count": null,
      "outputs": [
        {
          "output_type": "stream",
          "name": "stdout",
          "text": [
            "HELLO_WORLD\n"
          ]
        }
      ]
    },
    {
      "cell_type": "markdown",
      "source": [
        "\n",
        "3) lower( ) :\n",
        "\n",
        "\n",
        "*   Converts all letters in a string to lowercase.\n",
        "*  It does not modify the original string but returns a new lowercase version.\n"
      ],
      "metadata": {
        "id": "_qPVj7agsaGm"
      }
    },
    {
      "cell_type": "code",
      "source": [
        "a = \"BOOKING START AT 10PM\"\n",
        "a.lower()"
      ],
      "metadata": {
        "colab": {
          "base_uri": "https://localhost:8080/",
          "height": 36
        },
        "id": "98Zedf5fsib6",
        "outputId": "9515663d-a775-4538-c5d2-04c7d5c96f26"
      },
      "execution_count": null,
      "outputs": [
        {
          "output_type": "execute_result",
          "data": {
            "text/plain": [
              "'booking start at 10pm'"
            ],
            "application/vnd.google.colaboratory.intrinsic+json": {
              "type": "string"
            }
          },
          "metadata": {},
          "execution_count": 29
        }
      ]
    },
    {
      "cell_type": "code",
      "source": [
        "print(\"HELLO_WORLD\".lower())"
      ],
      "metadata": {
        "colab": {
          "base_uri": "https://localhost:8080/"
        },
        "id": "cLkmSevLsofw",
        "outputId": "70b1c87a-eb20-430f-bae5-45388c691e83"
      },
      "execution_count": null,
      "outputs": [
        {
          "output_type": "stream",
          "name": "stdout",
          "text": [
            "hello_world\n"
          ]
        }
      ]
    },
    {
      "cell_type": "markdown",
      "source": [
        "4) count( ):\n",
        "\n",
        "* Counts how many times a specific substring appears in a string.\n",
        "*  It is case-sensitive, [\"Hello\".count(\"h\") and \"Hello\".count(\"H\") give different results].\n",
        "\n"
      ],
      "metadata": {
        "id": "oh0PAZRIsvOu"
      }
    },
    {
      "cell_type": "code",
      "source": [
        "a = \"hello hello hello\"\n",
        "a.count('h')"
      ],
      "metadata": {
        "colab": {
          "base_uri": "https://localhost:8080/"
        },
        "id": "gByQAaQPs7s5",
        "outputId": "8ec6068a-a9a4-4ab5-a108-937b555ed7e9"
      },
      "execution_count": null,
      "outputs": [
        {
          "output_type": "execute_result",
          "data": {
            "text/plain": [
              "3"
            ]
          },
          "metadata": {},
          "execution_count": 33
        }
      ]
    },
    {
      "cell_type": "code",
      "source": [
        "print(\"BOOKING START AT 10PM\".count('O'))"
      ],
      "metadata": {
        "colab": {
          "base_uri": "https://localhost:8080/"
        },
        "id": "asrUEp7ZtAwa",
        "outputId": "8838162a-f285-4227-820d-e22bc12e83ae"
      },
      "execution_count": null,
      "outputs": [
        {
          "output_type": "stream",
          "name": "stdout",
          "text": [
            "2\n"
          ]
        }
      ]
    },
    {
      "cell_type": "markdown",
      "source": [
        "5) split( ):\n",
        "\n",
        "\n",
        "*   Breaks a string into a list of words based on a separator (default is space).\n",
        "*  It helps in processing sentences by dividing them into smaller parts.\n",
        "\n"
      ],
      "metadata": {
        "id": "ChuB8Wu3tERu"
      }
    },
    {
      "cell_type": "code",
      "source": [
        "a = \"BOOKING START AT 10PM\"\n",
        "a.split()"
      ],
      "metadata": {
        "colab": {
          "base_uri": "https://localhost:8080/"
        },
        "id": "95WL-QqvtNe7",
        "outputId": "5e0cdf8c-80a6-4558-eec7-b3b30c122c62"
      },
      "execution_count": null,
      "outputs": [
        {
          "output_type": "execute_result",
          "data": {
            "text/plain": [
              "['BOOKING', 'START', 'AT', '10PM']"
            ]
          },
          "metadata": {},
          "execution_count": 35
        }
      ]
    },
    {
      "cell_type": "code",
      "source": [
        "print(\"BOOKING START AT 10PM\".split())"
      ],
      "metadata": {
        "colab": {
          "base_uri": "https://localhost:8080/"
        },
        "id": "ssBZN70SuBHo",
        "outputId": "5d38deac-f913-47f2-ec9a-d53ce2310b09"
      },
      "execution_count": null,
      "outputs": [
        {
          "output_type": "stream",
          "name": "stdout",
          "text": [
            "['BOOKING', 'START', 'AT', '10PM']\n"
          ]
        }
      ]
    },
    {
      "cell_type": "markdown",
      "source": [
        "6) strip( ):\n",
        "\n",
        "\n",
        "*  Removes spaces (or specified characters) from the beginning and end of a string.\n",
        "*  It does not change the original string but returns a new trimmed version.\n",
        "\n"
      ],
      "metadata": {
        "id": "KJ6ttgBCuEpr"
      }
    },
    {
      "cell_type": "code",
      "source": [
        "a = \"  BOOKING START AT 10PM  \"\n",
        "a.strip()"
      ],
      "metadata": {
        "colab": {
          "base_uri": "https://localhost:8080/",
          "height": 36
        },
        "id": "ayzOoEjEuTg_",
        "outputId": "6dc492e9-5ea1-4fff-a51a-4a0a80d206d2"
      },
      "execution_count": null,
      "outputs": [
        {
          "output_type": "execute_result",
          "data": {
            "text/plain": [
              "'BOOKING START AT 10PM'"
            ],
            "application/vnd.google.colaboratory.intrinsic+json": {
              "type": "string"
            }
          },
          "metadata": {},
          "execution_count": 37
        }
      ]
    },
    {
      "cell_type": "code",
      "source": [
        "print(\"  BOOKING START AT 10PM  \".strip())"
      ],
      "metadata": {
        "colab": {
          "base_uri": "https://localhost:8080/"
        },
        "id": "iTDGW_5wuW6m",
        "outputId": "ac83539c-e540-4415-c37c-e6526ac4b7fa"
      },
      "execution_count": null,
      "outputs": [
        {
          "output_type": "stream",
          "name": "stdout",
          "text": [
            "BOOKING START AT 10PM\n"
          ]
        }
      ]
    },
    {
      "cell_type": "markdown",
      "source": [
        "7) center( ):\n",
        "\n",
        "The center(width, fillchar) method in Python returns a new string that is centered within the given width, using the specified fill character (default is a space)."
      ],
      "metadata": {
        "id": "m5nw41Mu5d9w"
      }
    },
    {
      "cell_type": "code",
      "source": [
        "a = \"hello\"\n",
        "print(a.center(9, \"_\"))"
      ],
      "metadata": {
        "colab": {
          "base_uri": "https://localhost:8080/"
        },
        "id": "ZQpmTWtK6lwF",
        "outputId": "4954de55-ba97-4c0b-e5a2-42b07a241c71"
      },
      "execution_count": null,
      "outputs": [
        {
          "output_type": "stream",
          "name": "stdout",
          "text": [
            "__hello__\n"
          ]
        }
      ]
    },
    {
      "cell_type": "markdown",
      "source": [
        "8) endswith( ):\n",
        "\n",
        "\n",
        "*   string ends with the specified suffix and returns True or False.\n",
        "*   It can also check within a specific range using optional start and end parameters.\n",
        "\n"
      ],
      "metadata": {
        "id": "0XXOUfoc6w6m"
      }
    },
    {
      "cell_type": "code",
      "source": [
        "a = \"hello world\"\n",
        "print(a.endswith(\"world\"))"
      ],
      "metadata": {
        "colab": {
          "base_uri": "https://localhost:8080/"
        },
        "id": "EPFiHY-e7AL8",
        "outputId": "5594fa0b-f37c-41ad-ec57-386135691f5b"
      },
      "execution_count": null,
      "outputs": [
        {
          "output_type": "stream",
          "name": "stdout",
          "text": [
            "True\n"
          ]
        }
      ]
    },
    {
      "cell_type": "code",
      "source": [
        "print(\"hello world\".endswith(\"d\"))"
      ],
      "metadata": {
        "colab": {
          "base_uri": "https://localhost:8080/"
        },
        "id": "uf0NqHnW7L_C",
        "outputId": "28aed8be-d216-47d2-e92b-6a122f43fd84"
      },
      "execution_count": null,
      "outputs": [
        {
          "output_type": "stream",
          "name": "stdout",
          "text": [
            "True\n"
          ]
        }
      ]
    },
    {
      "cell_type": "markdown",
      "source": [
        "9) expandtabs():\n",
        "\n",
        "\n",
        "*  Replaces tab characters (\\t) in a string with spaces.\n",
        "*  The tabsize parameter (default is 8) specifies the number of spaces per tab.\n",
        "\n"
      ],
      "metadata": {
        "id": "5BNiIS4e7Ukd"
      }
    },
    {
      "cell_type": "code",
      "source": [
        "a = \"Hello\\tWorld\"\n",
        "print(a.expandtabs(4))"
      ],
      "metadata": {
        "colab": {
          "base_uri": "https://localhost:8080/"
        },
        "id": "zUBkez0g78U_",
        "outputId": "ea680488-bf6a-4341-cf29-1200ef75ef75"
      },
      "execution_count": null,
      "outputs": [
        {
          "output_type": "stream",
          "name": "stdout",
          "text": [
            "Hello   World\n"
          ]
        }
      ]
    },
    {
      "cell_type": "code",
      "source": [
        "print(\"Hello\\tWorld\".expandtabs(4))"
      ],
      "metadata": {
        "colab": {
          "base_uri": "https://localhost:8080/"
        },
        "id": "0dFbinuY8CLE",
        "outputId": "0e004117-ceb3-4aeb-bb07-1f455e692b33"
      },
      "execution_count": null,
      "outputs": [
        {
          "output_type": "stream",
          "name": "stdout",
          "text": [
            "Hello   World\n"
          ]
        }
      ]
    },
    {
      "cell_type": "markdown",
      "source": [
        "\n",
        "10) find( ):\n",
        "\n",
        "\n",
        "\n",
        "*   Returns the lowest index of the specified substring within the string.\n",
        "*   If the substring is not found, it returns -1.\n",
        "\n"
      ],
      "metadata": {
        "id": "HzCYtaTB8YdI"
      }
    },
    {
      "cell_type": "code",
      "source": [
        "a = \"hello world\"\n",
        "print(a.find(\"world\"))"
      ],
      "metadata": {
        "colab": {
          "base_uri": "https://localhost:8080/"
        },
        "id": "9AzUKeAf8jR1",
        "outputId": "deb00c85-2529-4dff-a164-8a60dbdfa948"
      },
      "execution_count": null,
      "outputs": [
        {
          "output_type": "stream",
          "name": "stdout",
          "text": [
            "6\n"
          ]
        }
      ]
    },
    {
      "cell_type": "code",
      "source": [
        "print(\"Hello World\".find(\"Python\"))"
      ],
      "metadata": {
        "colab": {
          "base_uri": "https://localhost:8080/"
        },
        "id": "Xukn4aMP84C9",
        "outputId": "ddeecdac-826e-4901-fa35-82916011b671"
      },
      "execution_count": null,
      "outputs": [
        {
          "output_type": "stream",
          "name": "stdout",
          "text": [
            "-1\n"
          ]
        }
      ]
    },
    {
      "cell_type": "markdown",
      "source": [
        "11) replace( ):\n",
        "\n",
        "\n",
        "*   Returns a new string where all occurrences of the old substring are replaced with new.\n",
        "*  Replace(old, new, count) The optional count parameter specifies how many replacements to make.\n",
        "\n"
      ],
      "metadata": {
        "id": "qv2X5aKu86hf"
      }
    },
    {
      "cell_type": "code",
      "source": [
        "a = \"hello world\"\n",
        "print(a.replace(\"world\", \"Python\"))"
      ],
      "metadata": {
        "colab": {
          "base_uri": "https://localhost:8080/"
        },
        "id": "KQQB4wTr_ufm",
        "outputId": "e4abf58b-83c5-4770-b111-719ffda9ae93"
      },
      "execution_count": null,
      "outputs": [
        {
          "output_type": "stream",
          "name": "stdout",
          "text": [
            "hello Python\n"
          ]
        }
      ]
    },
    {
      "cell_type": "code",
      "source": [
        "print(\"hello world\".replace(\"o\",\"#\",1))"
      ],
      "metadata": {
        "colab": {
          "base_uri": "https://localhost:8080/"
        },
        "id": "BVh-oPOc_-2R",
        "outputId": "812f51ec-af1e-418b-8ee8-2af5bbaf7f0a"
      },
      "execution_count": null,
      "outputs": [
        {
          "output_type": "stream",
          "name": "stdout",
          "text": [
            "hell# world\n"
          ]
        }
      ]
    },
    {
      "cell_type": "markdown",
      "source": [
        "\n",
        "12) translate( ):\n",
        "\n",
        "Replaces characters in a string based on a translation table created using str.maketrans()."
      ],
      "metadata": {
        "id": "qawGOtl-Aihq"
      }
    },
    {
      "cell_type": "code",
      "source": [
        "a = str.maketrans(\"aeiou\", \"12345\")\n",
        "b = \"hello world\"\n",
        "print(b.translate(a))"
      ],
      "metadata": {
        "colab": {
          "base_uri": "https://localhost:8080/"
        },
        "id": "0BLSiosCAty9",
        "outputId": "f146c640-2827-4859-c531-5bbbf475e55f"
      },
      "execution_count": null,
      "outputs": [
        {
          "output_type": "stream",
          "name": "stdout",
          "text": [
            "h2ll4 w4rld\n"
          ]
        }
      ]
    },
    {
      "cell_type": "code",
      "source": [
        "print(\"hello world\".translate(str.maketrans(\"aeiou\", \"12345\")))"
      ],
      "metadata": {
        "colab": {
          "base_uri": "https://localhost:8080/"
        },
        "id": "uUqaPA7UCQcB",
        "outputId": "d2642231-a21c-488c-f505-2a32da239514"
      },
      "execution_count": null,
      "outputs": [
        {
          "output_type": "stream",
          "name": "stdout",
          "text": [
            "h2ll4 w4rld\n"
          ]
        }
      ]
    }
  ]
}