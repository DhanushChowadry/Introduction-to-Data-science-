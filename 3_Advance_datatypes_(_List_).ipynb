{
  "nbformat": 4,
  "nbformat_minor": 0,
  "metadata": {
    "colab": {
      "provenance": []
    },
    "kernelspec": {
      "name": "python3",
      "display_name": "Python 3"
    },
    "language_info": {
      "name": "python"
    }
  },
  "cells": [
    {
      "cell_type": "code",
      "execution_count": null,
      "metadata": {
        "id": "fHYz4GAq5gXM"
      },
      "outputs": [],
      "source": [
        "#explain about list in theory format with 5 examples?\n",
        "#explain index And slicing with 5 examples each?\n",
        "#explain about python list methods with examples?"
      ]
    },
    {
      "cell_type": "markdown",
      "source": [
        "#Explain about list in theory format with 5 examples?\n",
        "A list is a fundamental data structure used in computer science and mathematics to store an ordered collection of elements. It is a sequence of elements where duplicates are allowed, and the order of elements is maintained. Lists can contain elements of different data types, such as numbers, characters, or even other lists."
      ],
      "metadata": {
        "id": "ETrk3Y3SCuMT"
      }
    },
    {
      "cell_type": "code",
      "source": [
        "numbers = [10, 20, 30, 40, 50]  # A list containing integer values\n",
        "print(numbers)"
      ],
      "metadata": {
        "colab": {
          "base_uri": "https://localhost:8080/"
        },
        "id": "6OoyOPriDseN",
        "outputId": "3e30493d-eb38-494e-baf2-c6dd15509f7a"
      },
      "execution_count": null,
      "outputs": [
        {
          "output_type": "stream",
          "name": "stdout",
          "text": [
            "[10, 20, 30, 40, 50]\n"
          ]
        }
      ]
    },
    {
      "cell_type": "code",
      "source": [
        "fruits = [\"apple\", \"banana\", \"cherry\", \"mango\"]  # A list of fruit names\n",
        "print(fruits)"
      ],
      "metadata": {
        "colab": {
          "base_uri": "https://localhost:8080/"
        },
        "id": "J95iNoKcDsbE",
        "outputId": "bbc94867-e0b1-4f78-fc72-667473cf44b1"
      },
      "execution_count": null,
      "outputs": [
        {
          "output_type": "stream",
          "name": "stdout",
          "text": [
            "['apple', 'banana', 'cherry', 'mango']\n"
          ]
        }
      ]
    },
    {
      "cell_type": "code",
      "source": [
        "mixed_list = [1, \"hello\", 3.14, True]  # A list with different data types\n",
        "print(mixed_list)"
      ],
      "metadata": {
        "colab": {
          "base_uri": "https://localhost:8080/"
        },
        "id": "j95nY-sJDsQS",
        "outputId": "4e27aa91-8bb7-41ff-b3a0-ba0db1a5a229"
      },
      "execution_count": null,
      "outputs": [
        {
          "output_type": "stream",
          "name": "stdout",
          "text": [
            "[1, 'hello', 3.14, True]\n"
          ]
        }
      ]
    },
    {
      "cell_type": "code",
      "source": [
        "matrix = [[1, 2, 3], [4, 5, 6], [7, 8, 9]]  # A 2D list representing a matrix\n",
        "print(matrix)"
      ],
      "metadata": {
        "colab": {
          "base_uri": "https://localhost:8080/"
        },
        "id": "AycoY0a5DsM_",
        "outputId": "3fcd23f4-7716-46a6-9339-8e93df5ad63d"
      },
      "execution_count": null,
      "outputs": [
        {
          "output_type": "stream",
          "name": "stdout",
          "text": [
            "[[1, 2, 3], [4, 5, 6], [7, 8, 9]]\n"
          ]
        }
      ]
    },
    {
      "cell_type": "code",
      "source": [
        "empty_list = []  # A list with no elements\n",
        "print(empty_list)"
      ],
      "metadata": {
        "colab": {
          "base_uri": "https://localhost:8080/"
        },
        "id": "B92E_ZovEWzd",
        "outputId": "15756c39-0ebf-4b74-f2ad-5107a449d990"
      },
      "execution_count": null,
      "outputs": [
        {
          "output_type": "stream",
          "name": "stdout",
          "text": [
            "[]\n"
          ]
        }
      ]
    },
    {
      "cell_type": "markdown",
      "source": [
        "#Explain index with 5 examples?\n",
        "Indexing refers to accessing individual elements of a list using their position (index). Python uses zero-based indexing, meaning the first element is at index 0. Negative indexing allows access from the end of the list (-1 refers to the last element)."
      ],
      "metadata": {
        "id": "kM2osXFADtXC"
      }
    },
    {
      "cell_type": "code",
      "source": [
        "ind=[1,2,3,4,5,6,7,8,9]\n",
        "ind[3]"
      ],
      "metadata": {
        "colab": {
          "base_uri": "https://localhost:8080/"
        },
        "id": "73M53l-HCs7-",
        "outputId": "2889c1ca-3100-4032-d745-696f445a4752"
      },
      "execution_count": null,
      "outputs": [
        {
          "output_type": "execute_result",
          "data": {
            "text/plain": [
              "4"
            ]
          },
          "metadata": {},
          "execution_count": 7
        }
      ]
    },
    {
      "cell_type": "code",
      "source": [
        "ind[8]"
      ],
      "metadata": {
        "colab": {
          "base_uri": "https://localhost:8080/"
        },
        "id": "yCaTGhULC-IT",
        "outputId": "95920b09-8c8a-43e1-9e16-a9a117babb70"
      },
      "execution_count": null,
      "outputs": [
        {
          "output_type": "execute_result",
          "data": {
            "text/plain": [
              "9"
            ]
          },
          "metadata": {},
          "execution_count": 8
        }
      ]
    },
    {
      "cell_type": "code",
      "source": [
        "ind[-4]"
      ],
      "metadata": {
        "colab": {
          "base_uri": "https://localhost:8080/"
        },
        "id": "CnbBJpDJDBpp",
        "outputId": "ca801627-d266-47f2-8911-d30e7544d8b4"
      },
      "execution_count": null,
      "outputs": [
        {
          "output_type": "execute_result",
          "data": {
            "text/plain": [
              "6"
            ]
          },
          "metadata": {},
          "execution_count": 9
        }
      ]
    },
    {
      "cell_type": "code",
      "source": [
        "ind[1]"
      ],
      "metadata": {
        "colab": {
          "base_uri": "https://localhost:8080/"
        },
        "id": "q8XphgHCDE8L",
        "outputId": "866a3be8-e53f-44d6-b1c8-6b2190f3bffa"
      },
      "execution_count": null,
      "outputs": [
        {
          "output_type": "execute_result",
          "data": {
            "text/plain": [
              "2"
            ]
          },
          "metadata": {},
          "execution_count": 10
        }
      ]
    },
    {
      "cell_type": "code",
      "source": [
        "ind[-1]\n"
      ],
      "metadata": {
        "colab": {
          "base_uri": "https://localhost:8080/"
        },
        "id": "yAGYP5koC3VJ",
        "outputId": "a2a1c7e7-a549-4ad7-d571-ec9b12df45c9"
      },
      "execution_count": null,
      "outputs": [
        {
          "output_type": "execute_result",
          "data": {
            "text/plain": [
              "9"
            ]
          },
          "metadata": {},
          "execution_count": 11
        }
      ]
    },
    {
      "cell_type": "markdown",
      "source": [
        "#Explain Slicing with 5 examples?\n",
        "Slicing is used to extract a portion of a list.\n",
        "\n",
        "The syntax is:-mul[start value:ending value]\n"
      ],
      "metadata": {
        "id": "7ChugrcnE6E0"
      }
    },
    {
      "cell_type": "code",
      "source": [
        "mul=[1,2,3,4,'hi',5,9,5,'yes']\n",
        "mul[1:7]"
      ],
      "metadata": {
        "colab": {
          "base_uri": "https://localhost:8080/"
        },
        "id": "SYcliDS0E2kZ",
        "outputId": "7e78356b-33a5-439a-ae94-d524b303ed86"
      },
      "execution_count": null,
      "outputs": [
        {
          "output_type": "execute_result",
          "data": {
            "text/plain": [
              "[2, 3, 4, 'hi', 5, 9]"
            ]
          },
          "metadata": {},
          "execution_count": 12
        }
      ]
    },
    {
      "cell_type": "code",
      "source": [
        "mul[:4]"
      ],
      "metadata": {
        "colab": {
          "base_uri": "https://localhost:8080/"
        },
        "id": "V782WO5oFTg6",
        "outputId": "d1f7f6da-e6a7-4c60-829e-631a1d4fe1d1"
      },
      "execution_count": null,
      "outputs": [
        {
          "output_type": "execute_result",
          "data": {
            "text/plain": [
              "[1, 2, 3, 4]"
            ]
          },
          "metadata": {},
          "execution_count": 13
        }
      ]
    },
    {
      "cell_type": "code",
      "source": [
        "mul[3:]"
      ],
      "metadata": {
        "colab": {
          "base_uri": "https://localhost:8080/"
        },
        "id": "azbZ81rQFTiv",
        "outputId": "f4c502f3-9dcc-4ac8-a226-e893a67ad74b"
      },
      "execution_count": null,
      "outputs": [
        {
          "output_type": "execute_result",
          "data": {
            "text/plain": [
              "[4, 'hi', 5, 9, 5, 'yes']"
            ]
          },
          "metadata": {},
          "execution_count": 14
        }
      ]
    },
    {
      "cell_type": "code",
      "source": [
        "mul[-7:-2]"
      ],
      "metadata": {
        "colab": {
          "base_uri": "https://localhost:8080/"
        },
        "id": "XqOyojY9FTk7",
        "outputId": "417d30e4-70d2-4b7f-8621-dde44b613374"
      },
      "execution_count": null,
      "outputs": [
        {
          "output_type": "execute_result",
          "data": {
            "text/plain": [
              "[3, 4, 'hi', 5, 9]"
            ]
          },
          "metadata": {},
          "execution_count": 15
        }
      ]
    },
    {
      "cell_type": "code",
      "source": [
        "mul[-7:]"
      ],
      "metadata": {
        "colab": {
          "base_uri": "https://localhost:8080/"
        },
        "id": "9XW8nUy5FTog",
        "outputId": "0cb1cb44-cf2c-4841-c693-b3ac2f46b520"
      },
      "execution_count": null,
      "outputs": [
        {
          "output_type": "execute_result",
          "data": {
            "text/plain": [
              "[3, 4, 'hi', 5, 9, 5, 'yes']"
            ]
          },
          "metadata": {},
          "execution_count": 16
        }
      ]
    },
    {
      "cell_type": "markdown",
      "source": [
        "#Explain about python list methods with examples?"
      ],
      "metadata": {
        "id": "Zq917ws9DB5T"
      }
    },
    {
      "cell_type": "markdown",
      "source": [
        "1.append( )\n",
        "\n",
        "1. Adds a single element to the end of the list.\n",
        "2. Modifies the original list.\n",
        "\n",
        "\n"
      ],
      "metadata": {
        "id": "0uh7-aKOAFOy"
      }
    },
    {
      "cell_type": "code",
      "source": [
        "#append\n",
        "a=[1,2,3,4,5]\n",
        "a.append(6)\n",
        "print(a)"
      ],
      "metadata": {
        "id": "v6-vkE3eDBRk",
        "colab": {
          "base_uri": "https://localhost:8080/"
        },
        "outputId": "15867d31-7038-46f4-b072-bbf3d949a0df"
      },
      "execution_count": null,
      "outputs": [
        {
          "output_type": "stream",
          "name": "stdout",
          "text": [
            "[1, 2, 3, 4, 5, 6]\n"
          ]
        }
      ]
    },
    {
      "cell_type": "markdown",
      "source": [
        "2.Extend( )\n",
        "\n",
        "\n",
        "1. Adds multiple elements (iterable) at the end of the list.\n",
        "2. Similar to append(), but adds multiple values.\n",
        "\n"
      ],
      "metadata": {
        "id": "DBnVgkGlAVIm"
      }
    },
    {
      "cell_type": "code",
      "source": [
        "#extend\n",
        "a=[1,2,3,4,5]\n",
        "a.extend([6,7,8,9])\n",
        "print(a)"
      ],
      "metadata": {
        "colab": {
          "base_uri": "https://localhost:8080/"
        },
        "id": "5BzmnAzLAUqB",
        "outputId": "d5c074f4-6d31-4893-9e95-90c693405c06"
      },
      "execution_count": null,
      "outputs": [
        {
          "output_type": "stream",
          "name": "stdout",
          "text": [
            "[1, 2, 3, 4, 5, 6, 7, 8, 9]\n"
          ]
        }
      ]
    },
    {
      "cell_type": "markdown",
      "source": [
        "3.pop( )\n",
        "\n",
        "1. Removes and returns the element at a given index.\n",
        "2. Default is the last element."
      ],
      "metadata": {
        "id": "6cek1mHRAUXU"
      }
    },
    {
      "cell_type": "code",
      "source": [
        "#pop\n",
        "a=[1,2,3,4,5,6]\n",
        "a.pop(3)\n",
        "print(a)"
      ],
      "metadata": {
        "colab": {
          "base_uri": "https://localhost:8080/"
        },
        "id": "BzeL25p-Aobn",
        "outputId": "5e6a3026-1f5c-48a3-8f2b-e5bc6ab62dee"
      },
      "execution_count": null,
      "outputs": [
        {
          "output_type": "stream",
          "name": "stdout",
          "text": [
            "[1, 2, 3, 5, 6]\n"
          ]
        }
      ]
    },
    {
      "cell_type": "markdown",
      "source": [
        "4.Insert( )\n",
        "\n",
        "1. Inserts an element at a specific index.\n",
        "2. Moves the existing elements forward."
      ],
      "metadata": {
        "id": "9pOMAxTzBC1P"
      }
    },
    {
      "cell_type": "code",
      "source": [
        "#insert\n",
        "a=[2,4,6,10,12]\n",
        "a.insert (3,8)\n",
        "print(a)"
      ],
      "metadata": {
        "colab": {
          "base_uri": "https://localhost:8080/"
        },
        "id": "StqG3h1FBGf0",
        "outputId": "bc0104ce-06be-44dd-884d-99459cd5e959"
      },
      "execution_count": null,
      "outputs": [
        {
          "output_type": "stream",
          "name": "stdout",
          "text": [
            "[2, 4, 6, 8, 10, 12]\n"
          ]
        }
      ]
    },
    {
      "cell_type": "markdown",
      "source": [
        "5.len ( )\n",
        "\n",
        "1. Returns the total number of elements.\n",
        "2. It works with various data structures like lists, tuples, strings, dictionaries, and sets."
      ],
      "metadata": {
        "id": "2rFfeDTRBbs_"
      }
    },
    {
      "cell_type": "code",
      "source": [
        "#len\n",
        "a=[1,2,3,4,5,6]\n",
        "len(a)"
      ],
      "metadata": {
        "colab": {
          "base_uri": "https://localhost:8080/"
        },
        "id": "ve-AJPbRBoR1",
        "outputId": "40c3e93f-09da-45dc-e3a9-c66ae4c3cc3a"
      },
      "execution_count": null,
      "outputs": [
        {
          "output_type": "execute_result",
          "data": {
            "text/plain": [
              "6"
            ]
          },
          "metadata": {},
          "execution_count": 21
        }
      ]
    },
    {
      "cell_type": "markdown",
      "source": [
        "6.count( )\n",
        "\n",
        "1. Returns the number of occurrences of value in the iterable.\n",
        "2. Works with lists, tuples, and strings.\n",
        "3. If the value is not found, it returns 0."
      ],
      "metadata": {
        "id": "rDqYyYKDB8Iw"
      }
    },
    {
      "cell_type": "code",
      "source": [
        "#count\n",
        "a=[1,2,3,3,4,5,6]\n",
        "a.count(3)"
      ],
      "metadata": {
        "colab": {
          "base_uri": "https://localhost:8080/"
        },
        "id": "Kft3TSm4B7yc",
        "outputId": "173bb09e-2b89-4df8-c243-a5943b7e2454"
      },
      "execution_count": null,
      "outputs": [
        {
          "output_type": "execute_result",
          "data": {
            "text/plain": [
              "2"
            ]
          },
          "metadata": {},
          "execution_count": 22
        }
      ]
    },
    {
      "cell_type": "markdown",
      "source": [
        "7.sort ( ) integer values\n",
        "\n",
        "1. sorts the list in ascending order by default."
      ],
      "metadata": {
        "id": "ql1fiaF8CO5J"
      }
    },
    {
      "cell_type": "code",
      "source": [
        "# SORT() integer values\n",
        "\n",
        "a=[1,5,8,2,9,5,4]\n",
        "\n",
        "a.sort()\n",
        "a"
      ],
      "metadata": {
        "colab": {
          "base_uri": "https://localhost:8080/"
        },
        "id": "seX6IHoLCXHG",
        "outputId": "3be7d652-3b39-437b-b95d-37eff98b3a80"
      },
      "execution_count": null,
      "outputs": [
        {
          "output_type": "execute_result",
          "data": {
            "text/plain": [
              "[1, 2, 4, 5, 5, 8, 9]"
            ]
          },
          "metadata": {},
          "execution_count": 23
        }
      ]
    },
    {
      "cell_type": "markdown",
      "source": [
        "8.sort() string Values\n",
        "\n",
        "Arranges strings in A-Z order.\n",
        "It follows ASCII values (uppercase letters come before lowercase letters)."
      ],
      "metadata": {
        "id": "KPj0f1SbCbsH"
      }
    },
    {
      "cell_type": "code",
      "source": [
        "# sort() string values\n",
        "\n",
        "a=['apple','grape','banana','orange']\n",
        "a.sort()\n",
        "a"
      ],
      "metadata": {
        "colab": {
          "base_uri": "https://localhost:8080/"
        },
        "id": "Fzcsm35qCp3H",
        "outputId": "584a4f64-c4f5-402e-86f2-955d33314cd6"
      },
      "execution_count": null,
      "outputs": [
        {
          "output_type": "execute_result",
          "data": {
            "text/plain": [
              "['apple', 'banana', 'grape', 'orange']"
            ]
          },
          "metadata": {},
          "execution_count": 24
        }
      ]
    },
    {
      "cell_type": "markdown",
      "source": [
        "9.reverse()\n",
        "\n",
        "1. It reverses the order of elements.\n",
        "2. Works only for lists (not for tuples, sets, or dictionaries)."
      ],
      "metadata": {
        "id": "O4UJaq88CqXZ"
      }
    },
    {
      "cell_type": "code",
      "source": [
        "#reverse\n",
        "rev=[1,2,3,4,5,6]\n",
        "rev.reverse()\n",
        "rev"
      ],
      "metadata": {
        "colab": {
          "base_uri": "https://localhost:8080/"
        },
        "id": "DOc0q8vvCurB",
        "outputId": "516cc5d4-281f-4c77-c875-07254b728e37"
      },
      "execution_count": null,
      "outputs": [
        {
          "output_type": "execute_result",
          "data": {
            "text/plain": [
              "[6, 5, 4, 3, 2, 1]"
            ]
          },
          "metadata": {},
          "execution_count": 25
        }
      ]
    },
    {
      "cell_type": "markdown",
      "source": [
        "10.clear( )\n",
        "\n",
        "1. Removes all elements from the list but keeps the list itself.\n",
        "2. It modifies the original list instead of creating a new one."
      ],
      "metadata": {
        "id": "GkaHIZ6tCzD3"
      }
    },
    {
      "cell_type": "code",
      "source": [
        "#clear\n",
        "c= [2,4,6,8,10,12]\n",
        "c.clear()\n",
        "print(c)"
      ],
      "metadata": {
        "colab": {
          "base_uri": "https://localhost:8080/"
        },
        "id": "t0aand-ACxw1",
        "outputId": "e4476bac-d7f8-4e16-8985-db2d0af1bf00"
      },
      "execution_count": null,
      "outputs": [
        {
          "output_type": "stream",
          "name": "stdout",
          "text": [
            "[]\n"
          ]
        }
      ]
    },
    {
      "cell_type": "markdown",
      "source": [
        "11.copy()\n",
        "\n",
        "1. creates a new list with the same elements as the original.\n",
        "2. It is useful when you need to preserve the original list."
      ],
      "metadata": {
        "id": "fdOJ6iG_DISf"
      }
    },
    {
      "cell_type": "code",
      "source": [
        "#copy\n",
        "c =[2,4,6,8,10,12]\n",
        "list_1= c.copy()\n",
        "print(list_1)"
      ],
      "metadata": {
        "colab": {
          "base_uri": "https://localhost:8080/"
        },
        "id": "HvRd0YOLDVSD",
        "outputId": "c03fe88f-2640-402c-d7be-23de620769c6"
      },
      "execution_count": null,
      "outputs": [
        {
          "output_type": "stream",
          "name": "stdout",
          "text": [
            "[2, 4, 6, 8, 10, 12]\n"
          ]
        }
      ]
    },
    {
      "cell_type": "markdown",
      "source": [
        "12.index()\n",
        "\n",
        "1. Returns the index of the first occurrence of value.\n",
        "2. If the value is not found, it raises a ValueError."
      ],
      "metadata": {
        "id": "1Fyvbn0BDl7a"
      }
    },
    {
      "cell_type": "code",
      "source": [
        "#index\n",
        "a = [2,4,6,8,10,12]\n",
        "a.index(8)"
      ],
      "metadata": {
        "colab": {
          "base_uri": "https://localhost:8080/"
        },
        "id": "oiuTV0wQDpeU",
        "outputId": "6298aca5-ce0a-45b6-a315-cd32681e9def"
      },
      "execution_count": null,
      "outputs": [
        {
          "output_type": "execute_result",
          "data": {
            "text/plain": [
              "3"
            ]
          },
          "metadata": {},
          "execution_count": 28
        }
      ]
    },
    {
      "cell_type": "markdown",
      "source": [],
      "metadata": {
        "id": "dyUWjCOGkXYw"
      }
    }
  ]
}