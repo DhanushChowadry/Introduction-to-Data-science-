{
  "nbformat": 4,
  "nbformat_minor": 0,
  "metadata": {
    "colab": {
      "provenance": []
    },
    "kernelspec": {
      "name": "python3",
      "display_name": "Python 3"
    },
    "language_info": {
      "name": "python"
    }
  },
  "cells": [
    {
      "cell_type": "code",
      "execution_count": null,
      "metadata": {
        "id": "fHYz4GAq5gXM"
      },
      "outputs": [],
      "source": [
        "#explain about list in theory format with 5 examples?\n",
        "#explain index And slicing with 5 examples each?"
      ]
    },
    {
      "cell_type": "markdown",
      "source": [
        "#Explain about list in theory format with 5 examples?\n",
        "A list is a fundamental data structure used in computer science and mathematics to store an ordered collection of elements. It is a sequence of elements where duplicates are allowed, and the order of elements is maintained. Lists can contain elements of different data types, such as numbers, characters, or even other lists."
      ],
      "metadata": {
        "id": "ETrk3Y3SCuMT"
      }
    },
    {
      "cell_type": "code",
      "source": [
        "numbers = [10, 20, 30, 40, 50]  # A list containing integer values\n",
        "print(numbers)"
      ],
      "metadata": {
        "colab": {
          "base_uri": "https://localhost:8080/"
        },
        "id": "6OoyOPriDseN",
        "outputId": "c01ec9c9-2a3a-4ddd-ebf1-d5686fc5e1c2"
      },
      "execution_count": null,
      "outputs": [
        {
          "output_type": "stream",
          "name": "stdout",
          "text": [
            "[10, 20, 30, 40, 50]\n"
          ]
        }
      ]
    },
    {
      "cell_type": "code",
      "source": [
        "fruits = [\"apple\", \"banana\", \"cherry\", \"mango\"]  # A list of fruit names\n",
        "print(fruits)"
      ],
      "metadata": {
        "colab": {
          "base_uri": "https://localhost:8080/"
        },
        "id": "J95iNoKcDsbE",
        "outputId": "0cfbfc5a-e488-4082-8739-5cbc50b18f8d"
      },
      "execution_count": null,
      "outputs": [
        {
          "output_type": "stream",
          "name": "stdout",
          "text": [
            "['apple', 'banana', 'cherry', 'mango']\n"
          ]
        }
      ]
    },
    {
      "cell_type": "code",
      "source": [
        "mixed_list = [1, \"hello\", 3.14, True]  # A list with different data types\n",
        "print(mixed_list)"
      ],
      "metadata": {
        "colab": {
          "base_uri": "https://localhost:8080/"
        },
        "id": "j95nY-sJDsQS",
        "outputId": "0d51ab25-b81e-43be-d461-a83118b80c0b"
      },
      "execution_count": null,
      "outputs": [
        {
          "output_type": "stream",
          "name": "stdout",
          "text": [
            "[1, 'hello', 3.14, True]\n"
          ]
        }
      ]
    },
    {
      "cell_type": "code",
      "source": [
        "matrix = [[1, 2, 3], [4, 5, 6], [7, 8, 9]]  # A 2D list representing a matrix\n",
        "print(matrix)"
      ],
      "metadata": {
        "colab": {
          "base_uri": "https://localhost:8080/"
        },
        "id": "AycoY0a5DsM_",
        "outputId": "d4393873-9cfb-410d-9152-2976fead710b"
      },
      "execution_count": null,
      "outputs": [
        {
          "output_type": "stream",
          "name": "stdout",
          "text": [
            "[[1, 2, 3], [4, 5, 6], [7, 8, 9]]\n"
          ]
        }
      ]
    },
    {
      "cell_type": "code",
      "source": [
        "empty_list = []  # A list with no elements\n",
        "print(empty_list)"
      ],
      "metadata": {
        "colab": {
          "base_uri": "https://localhost:8080/"
        },
        "id": "B92E_ZovEWzd",
        "outputId": "b03d62e4-2dd8-4b31-9add-c7a36f829a33"
      },
      "execution_count": null,
      "outputs": [
        {
          "output_type": "stream",
          "name": "stdout",
          "text": [
            "[]\n"
          ]
        }
      ]
    },
    {
      "cell_type": "markdown",
      "source": [
        "#Explain index with 5 examples?\n",
        "Indexing refers to accessing individual elements of a list using their position (index). Python uses zero-based indexing, meaning the first element is at index 0. Negative indexing allows access from the end of the list (-1 refers to the last element)."
      ],
      "metadata": {
        "id": "kM2osXFADtXC"
      }
    },
    {
      "cell_type": "code",
      "source": [
        "ind=[1,2,3,4,5,6,7,8,9]\n",
        "ind[3]"
      ],
      "metadata": {
        "colab": {
          "base_uri": "https://localhost:8080/"
        },
        "id": "73M53l-HCs7-",
        "outputId": "ffa0c165-d39a-496c-f45d-244144012c85"
      },
      "execution_count": null,
      "outputs": [
        {
          "output_type": "execute_result",
          "data": {
            "text/plain": [
              "4"
            ]
          },
          "metadata": {},
          "execution_count": 4
        }
      ]
    },
    {
      "cell_type": "code",
      "source": [
        "ind[8]"
      ],
      "metadata": {
        "colab": {
          "base_uri": "https://localhost:8080/"
        },
        "id": "yCaTGhULC-IT",
        "outputId": "cb9b2722-4b10-4a50-944d-c992be88b3c8"
      },
      "execution_count": null,
      "outputs": [
        {
          "output_type": "execute_result",
          "data": {
            "text/plain": [
              "9"
            ]
          },
          "metadata": {},
          "execution_count": 5
        }
      ]
    },
    {
      "cell_type": "code",
      "source": [
        "ind[-4]"
      ],
      "metadata": {
        "colab": {
          "base_uri": "https://localhost:8080/"
        },
        "id": "CnbBJpDJDBpp",
        "outputId": "26db8fa1-3786-4573-ed3f-216eceb31393"
      },
      "execution_count": null,
      "outputs": [
        {
          "output_type": "execute_result",
          "data": {
            "text/plain": [
              "6"
            ]
          },
          "metadata": {},
          "execution_count": 6
        }
      ]
    },
    {
      "cell_type": "code",
      "source": [
        "ind[1]"
      ],
      "metadata": {
        "colab": {
          "base_uri": "https://localhost:8080/"
        },
        "id": "q8XphgHCDE8L",
        "outputId": "490b2527-e999-4f3f-fba9-abfb95efaa20"
      },
      "execution_count": null,
      "outputs": [
        {
          "output_type": "execute_result",
          "data": {
            "text/plain": [
              "2"
            ]
          },
          "metadata": {},
          "execution_count": 7
        }
      ]
    },
    {
      "cell_type": "code",
      "source": [
        "ind[-1]\n"
      ],
      "metadata": {
        "colab": {
          "base_uri": "https://localhost:8080/"
        },
        "id": "yAGYP5koC3VJ",
        "outputId": "e8d7093d-d9cf-4591-f1c8-d6167fb1f1a7"
      },
      "execution_count": null,
      "outputs": [
        {
          "output_type": "execute_result",
          "data": {
            "text/plain": [
              "9"
            ]
          },
          "metadata": {},
          "execution_count": 2
        }
      ]
    },
    {
      "cell_type": "markdown",
      "source": [
        "#Explain Slicing with 5 examples?\n",
        "Slicing is used to extract a portion of a list.\n",
        "The syntax is:-mul[start value:ending value]\n"
      ],
      "metadata": {
        "id": "7ChugrcnE6E0"
      }
    },
    {
      "cell_type": "code",
      "source": [
        "mul=[1,2,3,4,'hi',5,9,5,'yes']\n",
        "mul[1:7]"
      ],
      "metadata": {
        "colab": {
          "base_uri": "https://localhost:8080/"
        },
        "id": "SYcliDS0E2kZ",
        "outputId": "66292231-01f8-49bc-d4f0-a74f52e66228"
      },
      "execution_count": null,
      "outputs": [
        {
          "output_type": "execute_result",
          "data": {
            "text/plain": [
              "[2, 3, 4, 'hi', 5, 9]"
            ]
          },
          "metadata": {},
          "execution_count": 19
        }
      ]
    },
    {
      "cell_type": "code",
      "source": [
        "mul[:4]"
      ],
      "metadata": {
        "colab": {
          "base_uri": "https://localhost:8080/"
        },
        "id": "V782WO5oFTg6",
        "outputId": "0c851fcb-1731-4e94-8b5c-b349d7d069f7"
      },
      "execution_count": null,
      "outputs": [
        {
          "output_type": "execute_result",
          "data": {
            "text/plain": [
              "[1, 2, 3, 4]"
            ]
          },
          "metadata": {},
          "execution_count": 20
        }
      ]
    },
    {
      "cell_type": "code",
      "source": [
        "mul[3:]"
      ],
      "metadata": {
        "colab": {
          "base_uri": "https://localhost:8080/"
        },
        "id": "azbZ81rQFTiv",
        "outputId": "ea0a8926-c830-40a5-ec0b-18d18786dbd0"
      },
      "execution_count": null,
      "outputs": [
        {
          "output_type": "execute_result",
          "data": {
            "text/plain": [
              "[4, 'hi', 5, 9, 5, 'yes']"
            ]
          },
          "metadata": {},
          "execution_count": 21
        }
      ]
    },
    {
      "cell_type": "code",
      "source": [
        "mul[-7:-2]"
      ],
      "metadata": {
        "colab": {
          "base_uri": "https://localhost:8080/"
        },
        "id": "XqOyojY9FTk7",
        "outputId": "ad637c96-80a5-46f5-9b6d-65c2362edd21"
      },
      "execution_count": null,
      "outputs": [
        {
          "output_type": "execute_result",
          "data": {
            "text/plain": [
              "[3, 4, 'hi', 5, 9]"
            ]
          },
          "metadata": {},
          "execution_count": 22
        }
      ]
    },
    {
      "cell_type": "code",
      "source": [
        "mul[-7:]"
      ],
      "metadata": {
        "colab": {
          "base_uri": "https://localhost:8080/"
        },
        "id": "9XW8nUy5FTog",
        "outputId": "05403a9b-dca6-43c9-e317-bf35f82dc24a"
      },
      "execution_count": null,
      "outputs": [
        {
          "output_type": "execute_result",
          "data": {
            "text/plain": [
              "[3, 4, 'hi', 5, 9, 5, 'yes']"
            ]
          },
          "metadata": {},
          "execution_count": 23
        }
      ]
    }
  ]
}