{
  "nbformat": 4,
  "nbformat_minor": 0,
  "metadata": {
    "colab": {
      "provenance": []
    },
    "kernelspec": {
      "name": "python3",
      "display_name": "Python 3"
    },
    "language_info": {
      "name": "python"
    }
  },
  "cells": [
    {
      "cell_type": "code",
      "execution_count": null,
      "metadata": {
        "id": "mCpypw64x478"
      },
      "outputs": [],
      "source": [
        "#what is datatype?\n",
        "#write int with 10 examples?\n",
        "#write float with 7 examples?\n",
        "#write complex with 7 examples?\n",
        "#write boolean with 7 examples?\n",
        "#write type conversion and give type() function for it?"
      ]
    },
    {
      "cell_type": "markdown",
      "source": [
        "#what is datatype?\n",
        "A data type is a classification that specifies which type of value a\n",
        "variable can hold in programming. It determines the operations that\n",
        "can be performed on the data and how it is stored in memory."
      ],
      "metadata": {
        "id": "dCNHIoGYx_6T"
      }
    },
    {
      "cell_type": "code",
      "source": [
        "#write int with 10 examples?\n",
        "a = 10\n",
        "print(a)\n",
        "\n",
        "b = 5 + 3\n",
        "print(b)\n",
        "\n",
        "c = 15-7\n",
        "print(c)\n",
        "\n",
        "d = 4 * 3\n",
        "print(d)\n",
        "\n",
        "e = 10 // 3\n",
        "print(e)\n",
        "\n",
        "f = 10 % 3\n",
        "print(f)\n",
        "\n",
        "g = 2 ** 3\n",
        "print(g)\n",
        "\n",
        "h = int(\"123\")\n",
        "print(h)\n",
        "\n",
        "i = int(3.14)\n",
        "print(i)\n",
        "\n",
        "j = int(\"abc\", 16)\n",
        "print(j)"
      ],
      "metadata": {
        "id": "zfoYJo1oyEe-",
        "colab": {
          "base_uri": "https://localhost:8080/"
        },
        "outputId": "b6da78bf-fc02-4a4d-aae7-83c5b18f53e6"
      },
      "execution_count": null,
      "outputs": [
        {
          "output_type": "stream",
          "name": "stdout",
          "text": [
            "10\n",
            "8\n",
            "8\n",
            "12\n",
            "3\n",
            "1\n",
            "8\n",
            "123\n",
            "3\n",
            "2748\n"
          ]
        }
      ]
    },
    {
      "cell_type": "code",
      "source": [
        "#write float with 7 examples?\n",
        "x = 10.5\n",
        "y = 5.2 + 3.8\n",
        "z = 2.5 * 4\n",
        "a = 10 / 2\n",
        "b = 3.14 * 2\n",
        "c = round(7.567, 2)\n",
        "d = float(7)\n",
        "e = 9.81\n",
        "numbers = [1.1, 2.2, 3.3]\n",
        "print(x,y,z,a,b,c,d,e,numbers)"
      ],
      "metadata": {
        "colab": {
          "base_uri": "https://localhost:8080/"
        },
        "id": "vf8qrcG4ypwT",
        "outputId": "5b8ca6fd-b052-497f-916e-e8e2f7467999"
      },
      "execution_count": null,
      "outputs": [
        {
          "output_type": "stream",
          "name": "stdout",
          "text": [
            "10.5 9.0 10.0 5.0 6.28 7.57 7.0 9.81 [1.1, 2.2, 3.3]\n"
          ]
        }
      ]
    },
    {
      "cell_type": "code",
      "source": [
        "#write complex with 7 examples?\n",
        "a = 2 + 3j\n",
        "b = (3 + 4j) + (1 + 2j)\n",
        "c = (2 + 3j) * (1 + 1j)\n",
        "d = a.real\n",
        "e = a.imag\n",
        "f = 4 + 5j\n",
        "h = (2 + 3j) / (1 + 1j)\n",
        "print(a,b,c,d,e,f,h)"
      ],
      "metadata": {
        "colab": {
          "base_uri": "https://localhost:8080/"
        },
        "id": "b7m5Ur1yzkh0",
        "outputId": "d0b57e61-58ee-40d6-de92-558ac9d6c110"
      },
      "execution_count": null,
      "outputs": [
        {
          "output_type": "stream",
          "name": "stdout",
          "text": [
            "(2+3j) (4+6j) (-1+5j) 2.0 3.0 (4+5j) (2.5+0.5j)\n"
          ]
        }
      ]
    },
    {
      "cell_type": "code",
      "source": [
        "#write boolean with 7 examples?\n",
        "a = True\n",
        "b = 5 > 3\n",
        "c = (10 == 10)\n",
        "d = (10 != 5)\n",
        "e = True and False #using AND logical operator\n",
        "f = True or False  #using OR operator\n",
        "g = not True\n",
        "h = bool(1)  # Non-zero numbers are True\n",
        "i = bool(\"\")  # Empty string is False\n",
        "print(a,b,c,d,e,f)"
      ],
      "metadata": {
        "colab": {
          "base_uri": "https://localhost:8080/"
        },
        "id": "QtYNapIsztgA",
        "outputId": "5f063a37-bbac-4053-dae2-9ff071673a0d"
      },
      "execution_count": null,
      "outputs": [
        {
          "output_type": "stream",
          "name": "stdout",
          "text": [
            "True True True True False True\n"
          ]
        }
      ]
    },
    {
      "cell_type": "markdown",
      "source": [
        "#write type conversion and give type() function for it?\n",
        "Type conversion is the process of converting a variable from one datatype to another."
      ],
      "metadata": {
        "id": "zgEJ2OV7z3_L"
      }
    },
    {
      "cell_type": "code",
      "source": [
        "#1.Convert int to float\n",
        "x = 10\n",
        "y = float(x)\n",
        "print(y, type(y))\n",
        "\n",
        "#2.Convert float to int\n",
        "a = 9.99\n",
        "b = int(a)\n",
        "print(b, type(b))\n",
        "\n",
        "#3.Convert int to complex\n",
        "x = 7\n",
        "y = complex(x)\n",
        "print(y, type(y))\n",
        "\n",
        "#4.Positive Float to Boolean\n",
        "x = 3.14\n",
        "y = bool(x)\n",
        "print(y, type(y))"
      ],
      "metadata": {
        "colab": {
          "base_uri": "https://localhost:8080/"
        },
        "id": "kvsvxmKcz0Ph",
        "outputId": "f3e4ebea-c152-4b1e-f89a-eb52c634384c"
      },
      "execution_count": null,
      "outputs": [
        {
          "output_type": "stream",
          "name": "stdout",
          "text": [
            "10.0 <class 'float'>\n",
            "9 <class 'int'>\n",
            "(7+0j) <class 'complex'>\n",
            "True <class 'bool'>\n"
          ]
        }
      ]
    }
  ]
}