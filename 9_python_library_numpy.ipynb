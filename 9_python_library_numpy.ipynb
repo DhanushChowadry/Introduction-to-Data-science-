{
  "nbformat": 4,
  "nbformat_minor": 0,
  "metadata": {
    "colab": {
      "provenance": []
    },
    "kernelspec": {
      "name": "python3",
      "display_name": "Python 3"
    },
    "language_info": {
      "name": "python"
    }
  },
  "cells": [
    {
      "cell_type": "markdown",
      "source": [
        "# Numpy:\n",
        "\n",
        "*   \n",
        "NumPy (Numerical Python) is a powerful library in Python for numerical computing.\n",
        "*   It provides support for large, multi-dimensional arrays and matrices, along with a collection of mathematical functions to operate on these data structures efficiently.\n",
        "\n"
      ],
      "metadata": {
        "id": "Wv3vqXOBqD1B"
      }
    },
    {
      "cell_type": "markdown",
      "source": [
        "# Install numpy:"
      ],
      "metadata": {
        "id": "JSNk9X19qYQP"
      }
    },
    {
      "cell_type": "code",
      "execution_count": 1,
      "metadata": {
        "colab": {
          "base_uri": "https://localhost:8080/"
        },
        "id": "KPmYzj6Dpywj",
        "outputId": "a888daf9-7a02-47a2-8a32-19c95b41ac65"
      },
      "outputs": [
        {
          "output_type": "stream",
          "name": "stdout",
          "text": [
            "Requirement already satisfied: numpy in /usr/local/lib/python3.11/dist-packages (1.26.4)\n"
          ]
        }
      ],
      "source": [
        "!pip install numpy"
      ]
    },
    {
      "cell_type": "markdown",
      "source": [
        "# Import numpy:"
      ],
      "metadata": {
        "id": "3sYrtDkHqf59"
      }
    },
    {
      "cell_type": "code",
      "source": [
        "import numpy as np"
      ],
      "metadata": {
        "id": "M6tUrRcyqhMx"
      },
      "execution_count": 2,
      "outputs": []
    },
    {
      "cell_type": "code",
      "source": [
        "a = np.array ([1,2,3])#1-D\n",
        "print(a)\n"
      ],
      "metadata": {
        "colab": {
          "base_uri": "https://localhost:8080/"
        },
        "id": "ZZdg7W_NqjS8",
        "outputId": "ae23b6bc-43d0-42a9-e508-093b35bbd64e"
      },
      "execution_count": 4,
      "outputs": [
        {
          "output_type": "stream",
          "name": "stdout",
          "text": [
            "[1 2 3]\n"
          ]
        }
      ]
    },
    {
      "cell_type": "code",
      "source": [
        "b = np.array([[1,2,3],[4,5,6]])#2-D\n",
        "print(b)"
      ],
      "metadata": {
        "colab": {
          "base_uri": "https://localhost:8080/"
        },
        "id": "9VcYJSAbqn_G",
        "outputId": "51404a5b-550d-445f-bf7e-b18cf0998471"
      },
      "execution_count": 5,
      "outputs": [
        {
          "output_type": "stream",
          "name": "stdout",
          "text": [
            "[[1 2 3]\n",
            " [4 5 6]]\n"
          ]
        }
      ]
    },
    {
      "cell_type": "code",
      "source": [
        "c = np.array([[[1,2,3],[4,5,6],[7,8,9]]])#3-D\n",
        "print(c)"
      ],
      "metadata": {
        "colab": {
          "base_uri": "https://localhost:8080/"
        },
        "id": "VYxoO3qCquto",
        "outputId": "7c6c464a-e80c-447c-ee92-c84db1d22065"
      },
      "execution_count": 6,
      "outputs": [
        {
          "output_type": "stream",
          "name": "stdout",
          "text": [
            "[[[1 2 3]\n",
            "  [4 5 6]\n",
            "  [7 8 9]]]\n"
          ]
        }
      ]
    },
    {
      "cell_type": "markdown",
      "source": [
        "# Create a array of zero:"
      ],
      "metadata": {
        "id": "gCP8D6-lq6La"
      }
    },
    {
      "cell_type": "code",
      "source": [
        "np.zeros((4,6))#3 rows and 4 coloums"
      ],
      "metadata": {
        "colab": {
          "base_uri": "https://localhost:8080/"
        },
        "id": "6CsDB4bHqx21",
        "outputId": "0e0f3cef-17fd-463e-dd2d-79beef3b981e"
      },
      "execution_count": 7,
      "outputs": [
        {
          "output_type": "execute_result",
          "data": {
            "text/plain": [
              "array([[0., 0., 0., 0., 0., 0.],\n",
              "       [0., 0., 0., 0., 0., 0.],\n",
              "       [0., 0., 0., 0., 0., 0.],\n",
              "       [0., 0., 0., 0., 0., 0.]])"
            ]
          },
          "metadata": {},
          "execution_count": 7
        }
      ]
    },
    {
      "cell_type": "markdown",
      "source": [
        "# Create a array of ones:"
      ],
      "metadata": {
        "id": "WjQ8xkURrAcS"
      }
    },
    {
      "cell_type": "code",
      "source": [
        "np.ones((3,2,4))  #np.ones((shape_of_the_dimention , no.of_rows , no.of_columns))"
      ],
      "metadata": {
        "colab": {
          "base_uri": "https://localhost:8080/"
        },
        "id": "e_kvuut_q9Eu",
        "outputId": "084209bc-d6f3-4e2c-9acb-1678ce6502b0"
      },
      "execution_count": 8,
      "outputs": [
        {
          "output_type": "execute_result",
          "data": {
            "text/plain": [
              "array([[[1., 1., 1., 1.],\n",
              "        [1., 1., 1., 1.]],\n",
              "\n",
              "       [[1., 1., 1., 1.],\n",
              "        [1., 1., 1., 1.]],\n",
              "\n",
              "       [[1., 1., 1., 1.],\n",
              "        [1., 1., 1., 1.]]])"
            ]
          },
          "metadata": {},
          "execution_count": 8
        }
      ]
    },
    {
      "cell_type": "markdown",
      "source": [
        "# Create a array of evenly spaced values(using step value):"
      ],
      "metadata": {
        "id": "ugWKnqqOrJ25"
      }
    },
    {
      "cell_type": "code",
      "source": [
        "d=np.arange(1,20,3)#steps n-1(3-1=2)\n",
        "print(d)"
      ],
      "metadata": {
        "colab": {
          "base_uri": "https://localhost:8080/"
        },
        "id": "Ku0tWybRrHKD",
        "outputId": "3aba0e28-079b-435b-ab50-1bfb04a65877"
      },
      "execution_count": 14,
      "outputs": [
        {
          "output_type": "stream",
          "name": "stdout",
          "text": [
            "[ 1  4  7 10 13 16 19]\n"
          ]
        }
      ]
    },
    {
      "cell_type": "code",
      "source": [
        "e = np.arange(1,1000,10)\n",
        "print(e)"
      ],
      "metadata": {
        "colab": {
          "base_uri": "https://localhost:8080/"
        },
        "id": "WZ35HwDTrM8f",
        "outputId": "24bdb563-3546-443f-bf0a-1c32e53eb346"
      },
      "execution_count": 10,
      "outputs": [
        {
          "output_type": "stream",
          "name": "stdout",
          "text": [
            "[  1  11  21  31  41  51  61  71  81  91 101 111 121 131 141 151 161 171\n",
            " 181 191 201 211 221 231 241 251 261 271 281 291 301 311 321 331 341 351\n",
            " 361 371 381 391 401 411 421 431 441 451 461 471 481 491 501 511 521 531\n",
            " 541 551 561 571 581 591 601 611 621 631 641 651 661 671 681 691 701 711\n",
            " 721 731 741 751 761 771 781 791 801 811 821 831 841 851 861 871 881 891\n",
            " 901 911 921 931 941 951 961 971 981 991]\n"
          ]
        }
      ]
    },
    {
      "cell_type": "markdown",
      "source": [
        "# Create a array of evenly spaced values(no.of samples):"
      ],
      "metadata": {
        "id": "1Mjn84MarRIJ"
      }
    },
    {
      "cell_type": "code",
      "source": [
        "np.linspace(0,1,5)"
      ],
      "metadata": {
        "colab": {
          "base_uri": "https://localhost:8080/"
        },
        "id": "syS7cPYkrO3Y",
        "outputId": "07a9c8fc-2fe1-45b1-bf11-c0f21f4d6c94"
      },
      "execution_count": 13,
      "outputs": [
        {
          "output_type": "execute_result",
          "data": {
            "text/plain": [
              "array([0.  , 0.25, 0.5 , 0.75, 1.  ])"
            ]
          },
          "metadata": {},
          "execution_count": 13
        }
      ]
    },
    {
      "cell_type": "markdown",
      "source": [
        "# Create a constant array:"
      ],
      "metadata": {
        "id": "i57e2fVhrWgj"
      }
    },
    {
      "cell_type": "code",
      "source": [
        "e=np.full((3),6)#columns\n",
        "print(e)\n",
        "print(\"dim\",e.ndim)#to find no of dimension"
      ],
      "metadata": {
        "colab": {
          "base_uri": "https://localhost:8080/"
        },
        "id": "MmmzFqvzrTuX",
        "outputId": "c144673b-2b6b-4466-9203-098c138f4d8c"
      },
      "execution_count": 15,
      "outputs": [
        {
          "output_type": "stream",
          "name": "stdout",
          "text": [
            "[6 6 6]\n",
            "dim 1\n"
          ]
        }
      ]
    },
    {
      "cell_type": "code",
      "source": [
        "#create 2D\n",
        "e=np.full((3,4),6)#rows and columns\n",
        "print(e)\n",
        "print(\"no.of dimensions\",e.ndim)"
      ],
      "metadata": {
        "colab": {
          "base_uri": "https://localhost:8080/"
        },
        "id": "SLrVEqPtrbQm",
        "outputId": "75a13d57-7640-41c4-9752-70a94c18f9d5"
      },
      "execution_count": 16,
      "outputs": [
        {
          "output_type": "stream",
          "name": "stdout",
          "text": [
            "[[6 6 6 6]\n",
            " [6 6 6 6]\n",
            " [6 6 6 6]]\n",
            "no.of dimensions 2\n"
          ]
        }
      ]
    },
    {
      "cell_type": "code",
      "source": [
        "#create 3D\n",
        "e=np.full((2,3,3),7)\n",
        "print(e)\n",
        "print(\"no.of dimensions\",e.ndim)"
      ],
      "metadata": {
        "colab": {
          "base_uri": "https://localhost:8080/"
        },
        "id": "VsS54X5Gr1lc",
        "outputId": "319ce7f1-79fd-4472-d64b-67094d2fdcf0"
      },
      "execution_count": 17,
      "outputs": [
        {
          "output_type": "stream",
          "name": "stdout",
          "text": [
            "[[[7 7 7]\n",
            "  [7 7 7]\n",
            "  [7 7 7]]\n",
            "\n",
            " [[7 7 7]\n",
            "  [7 7 7]\n",
            "  [7 7 7]]]\n",
            "no.of dimensions 3\n"
          ]
        }
      ]
    },
    {
      "cell_type": "markdown",
      "source": [
        "# Create a identity matrix:"
      ],
      "metadata": {
        "id": "-txRpHxdr9u8"
      }
    },
    {
      "cell_type": "code",
      "source": [
        "#create a 2x2 matrix\n",
        "f=np.eye(5)\n",
        "print(f)"
      ],
      "metadata": {
        "colab": {
          "base_uri": "https://localhost:8080/"
        },
        "id": "zxtyZWnXr5jE",
        "outputId": "5f215e48-e1b1-4743-c03a-8d3bc94fa346"
      },
      "execution_count": 18,
      "outputs": [
        {
          "output_type": "stream",
          "name": "stdout",
          "text": [
            "[[1. 0. 0. 0. 0.]\n",
            " [0. 1. 0. 0. 0.]\n",
            " [0. 0. 1. 0. 0.]\n",
            " [0. 0. 0. 1. 0.]\n",
            " [0. 0. 0. 0. 1.]]\n"
          ]
        }
      ]
    },
    {
      "cell_type": "markdown",
      "source": [
        "# Create a array with random values:"
      ],
      "metadata": {
        "id": "puevSCsMsEa8"
      }
    },
    {
      "cell_type": "code",
      "source": [
        "np.random.random((3,4))"
      ],
      "metadata": {
        "colab": {
          "base_uri": "https://localhost:8080/"
        },
        "id": "Qr3F-wvmsBVP",
        "outputId": "6a034e7d-477a-4afa-a546-2763c0cbf15a"
      },
      "execution_count": 19,
      "outputs": [
        {
          "output_type": "execute_result",
          "data": {
            "text/plain": [
              "array([[0.18298167, 0.20386417, 0.04250283, 0.96904762],\n",
              "       [0.42218832, 0.88759776, 0.86732306, 0.20879869],\n",
              "       [0.96455815, 0.10065108, 0.7378031 , 0.16124416]])"
            ]
          },
          "metadata": {},
          "execution_count": 19
        }
      ]
    },
    {
      "cell_type": "code",
      "source": [
        "np.random.randint(1,40)#gives integer values between the start and end"
      ],
      "metadata": {
        "colab": {
          "base_uri": "https://localhost:8080/"
        },
        "id": "oC0InhyKsHrr",
        "outputId": "41bb6ad3-8bb6-4334-f856-bcab4aa5b201"
      },
      "execution_count": 20,
      "outputs": [
        {
          "output_type": "execute_result",
          "data": {
            "text/plain": [
              "9"
            ]
          },
          "metadata": {},
          "execution_count": 20
        }
      ]
    },
    {
      "cell_type": "markdown",
      "source": [
        "# Shape of an array:"
      ],
      "metadata": {
        "id": "X4DYnHl3sNjM"
      }
    },
    {
      "cell_type": "code",
      "source": [
        "arr=np.array([[1,2,3],\n",
        "             [4,5,6],\n",
        "             [7,8,9],\n",
        "             [5,7,8]])\n",
        "print(arr.shape)#tells how many rows and columns in array\n",
        "#4 denotes no of rows\n",
        "#3 denotes no of columns"
      ],
      "metadata": {
        "colab": {
          "base_uri": "https://localhost:8080/"
        },
        "id": "dtZqgIeTsM7l",
        "outputId": "e34787d0-39a2-4a73-9ed8-15b7e839d5f6"
      },
      "execution_count": 21,
      "outputs": [
        {
          "output_type": "stream",
          "name": "stdout",
          "text": [
            "(4, 3)\n"
          ]
        }
      ]
    },
    {
      "cell_type": "markdown",
      "source": [
        "#to find no of elements(size) in array"
      ],
      "metadata": {
        "id": "1r8GTNg1sb7E"
      }
    },
    {
      "cell_type": "code",
      "source": [
        "arr=np.array([[1,2,3,4],\n",
        "              [5,6,7,8],\n",
        "              [6,7,8,9],\n",
        "              [2,3,5,6]])\n",
        "print(arr.size)"
      ],
      "metadata": {
        "colab": {
          "base_uri": "https://localhost:8080/"
        },
        "id": "8SabdSY-sT8e",
        "outputId": "3eb733a3-b69e-45fb-ad43-3d118bb5ab45"
      },
      "execution_count": 23,
      "outputs": [
        {
          "output_type": "stream",
          "name": "stdout",
          "text": [
            "16\n"
          ]
        }
      ]
    },
    {
      "cell_type": "markdown",
      "source": [
        "# Find length of the array:"
      ],
      "metadata": {
        "id": "ZGA2E5GsshQq"
      }
    },
    {
      "cell_type": "code",
      "source": [
        "arr=np.array([[1,2,3,4],\n",
        "              [5,6,7,8],\n",
        "              [6,7,8,9],\n",
        "              [2,3,5,6]])\n",
        "print(len(arr))\n",
        "#it will count only the rows"
      ],
      "metadata": {
        "colab": {
          "base_uri": "https://localhost:8080/"
        },
        "id": "OV-0gMKesXsF",
        "outputId": "5bf1409d-d36d-4dc7-cf34-7b0e2e5c7d84"
      },
      "execution_count": 24,
      "outputs": [
        {
          "output_type": "stream",
          "name": "stdout",
          "text": [
            "4\n"
          ]
        }
      ]
    },
    {
      "cell_type": "markdown",
      "source": [
        "# Access array elements:"
      ],
      "metadata": {
        "id": "5eKBkByJsoE0"
      }
    },
    {
      "cell_type": "markdown",
      "source": [
        "Access 1D array elements using index value:\n"
      ],
      "metadata": {
        "id": "IBOrwuAUs4TN"
      }
    },
    {
      "cell_type": "code",
      "source": [
        "arr=np.array([1,2,3,4])#by index method\n",
        "print(arr[3])"
      ],
      "metadata": {
        "colab": {
          "base_uri": "https://localhost:8080/"
        },
        "id": "_LQMdky7sk2I",
        "outputId": "fc36df68-4305-4b76-9d6a-b75624bafd42"
      },
      "execution_count": 25,
      "outputs": [
        {
          "output_type": "stream",
          "name": "stdout",
          "text": [
            "4\n"
          ]
        }
      ]
    },
    {
      "cell_type": "code",
      "source": [
        "arr=np.array([1,2,3,4])#by index method\n",
        "print(arr[-4])"
      ],
      "metadata": {
        "colab": {
          "base_uri": "https://localhost:8080/"
        },
        "id": "WGSuGjJvsrQE",
        "outputId": "d8f50d05-2ffe-45e7-bfea-f45949aed20b"
      },
      "execution_count": 26,
      "outputs": [
        {
          "output_type": "stream",
          "name": "stdout",
          "text": [
            "1\n"
          ]
        }
      ]
    },
    {
      "cell_type": "markdown",
      "source": [
        "Access 2D array elements using index values:"
      ],
      "metadata": {
        "id": "XeUkCxpvs6E3"
      }
    },
    {
      "cell_type": "code",
      "source": [
        "p = np.array([[1,2,3],[4,5,6]])\n",
        "print(p)\n",
        "print(p[1,2])     #print( variable_name [index of 1D array , index of value])"
      ],
      "metadata": {
        "colab": {
          "base_uri": "https://localhost:8080/"
        },
        "id": "LZxRKj1ts0tO",
        "outputId": "ad0e84d4-aec3-4754-d3d0-934de3edbd83"
      },
      "execution_count": 27,
      "outputs": [
        {
          "output_type": "stream",
          "name": "stdout",
          "text": [
            "[[1 2 3]\n",
            " [4 5 6]]\n",
            "6\n"
          ]
        }
      ]
    },
    {
      "cell_type": "markdown",
      "source": [
        "Access 3D array using index value:"
      ],
      "metadata": {
        "id": "U5iTNqSYtAR9"
      }
    },
    {
      "cell_type": "code",
      "source": [
        "q = np.array([[[1,2,3],[4,5,6],[7,8,9]]])\n",
        "print(q)\n"
      ],
      "metadata": {
        "colab": {
          "base_uri": "https://localhost:8080/"
        },
        "id": "bp1adrlus-QB",
        "outputId": "7999c462-3919-448d-bb3b-6311f600bf02"
      },
      "execution_count": 28,
      "outputs": [
        {
          "output_type": "stream",
          "name": "stdout",
          "text": [
            "[[[1 2 3]\n",
            "  [4 5 6]\n",
            "  [7 8 9]]]\n"
          ]
        }
      ]
    },
    {
      "cell_type": "markdown",
      "source": [
        "#arithematic operations for array index"
      ],
      "metadata": {
        "id": "RCwe34fNtLJy"
      }
    },
    {
      "cell_type": "code",
      "source": [
        "#1-D arrays\n",
        "arr=np.array([1,2,3,4,5,6])\n",
        "print(arr[2] * arr[3] - arr[-2])#(3*4-5)"
      ],
      "metadata": {
        "colab": {
          "base_uri": "https://localhost:8080/"
        },
        "id": "szoj6kNZtFFL",
        "outputId": "6852f099-632a-4415-99ca-28922c5f7c50"
      },
      "execution_count": 31,
      "outputs": [
        {
          "output_type": "stream",
          "name": "stdout",
          "text": [
            "7\n"
          ]
        }
      ]
    },
    {
      "cell_type": "code",
      "source": [
        "#access the element in rows and columns(by index method)\n",
        "#2-D arrays\n",
        "arr=np.array([[1,2,3,4],#0\n",
        "              [5,6,7,8],#1\n",
        "              [6,7,8,9],#2\n",
        "              [2,3,5,6]])#3\n",
        "print(arr[2,3])#arr[1D index,value index]"
      ],
      "metadata": {
        "colab": {
          "base_uri": "https://localhost:8080/"
        },
        "id": "6vec7LLwtRsw",
        "outputId": "13eef709-d3c9-435f-d37a-b3b70d8827a3"
      },
      "execution_count": 30,
      "outputs": [
        {
          "output_type": "stream",
          "name": "stdout",
          "text": [
            "9\n"
          ]
        }
      ]
    },
    {
      "cell_type": "code",
      "source": [
        "#3-D arrays\n",
        "                 #0  #1d    #1\n",
        "arr=np.array([[[1,2,3,4],[5,6,7,8]],#0 #2d\n",
        "              [[2,3,5,6],[3,4,7,8]],#1\n",
        "              [[2,4,6,8],[4,5,7,8]],#2\n",
        "              [[5,6,9,8],[5,3,2,6]]])#3\n",
        "#access by index\n",
        "print(arr[2,1,1])#(2D,1D,element)"
      ],
      "metadata": {
        "colab": {
          "base_uri": "https://localhost:8080/"
        },
        "id": "ane-lztHtVmW",
        "outputId": "16cc5a46-c72d-45db-cfd2-16a656f12482"
      },
      "execution_count": 32,
      "outputs": [
        {
          "output_type": "stream",
          "name": "stdout",
          "text": [
            "5\n"
          ]
        }
      ]
    },
    {
      "cell_type": "markdown",
      "source": [
        "# Data types in numpy\n",
        "\n",
        "\n",
        "\n",
        "1. i - integer\n",
        "2. b - boolean\n",
        "3. f - float\n",
        "4. c - complex\n",
        "5. M - Datetime\n",
        "5. O - object\n",
        "6. S - string"
      ],
      "metadata": {
        "id": "OULh7-xZtkSf"
      }
    },
    {
      "cell_type": "code",
      "source": [
        "arr=np.array([1,2,3,4],dtype='f')\n",
        "print(arr)\n",
        "print(arr.dtype)"
      ],
      "metadata": {
        "colab": {
          "base_uri": "https://localhost:8080/"
        },
        "id": "Y2Me7-t9td6R",
        "outputId": "bf784ae6-efab-4b5c-ca3e-c6e7fc93b44c"
      },
      "execution_count": 33,
      "outputs": [
        {
          "output_type": "stream",
          "name": "stdout",
          "text": [
            "[1. 2. 3. 4.]\n",
            "float32\n"
          ]
        }
      ]
    },
    {
      "cell_type": "code",
      "source": [
        "arr=np.array([1.4,2.5,3.3,4.1],dtype='i')\n",
        "print(arr)\n",
        "print(arr.dtype)"
      ],
      "metadata": {
        "colab": {
          "base_uri": "https://localhost:8080/"
        },
        "id": "cKexdknDtyM2",
        "outputId": "8c277d37-ef11-4dd5-f54c-3b8368d270cb"
      },
      "execution_count": 34,
      "outputs": [
        {
          "output_type": "stream",
          "name": "stdout",
          "text": [
            "[1 2 3 4]\n",
            "int32\n"
          ]
        }
      ]
    },
    {
      "cell_type": "code",
      "source": [
        "#change data type from float to integer using 'i' as parameter value\n",
        "arr=np.array([1.3,2.2,3.1,4.5])\n",
        "newarr=arr.astype('i')\n",
        "print(newarr)\n",
        "print(newarr.dtype)"
      ],
      "metadata": {
        "colab": {
          "base_uri": "https://localhost:8080/"
        },
        "id": "jdRZRp4Rt08r",
        "outputId": "979833f7-ade8-4e13-dba3-cb86ec2977d7"
      },
      "execution_count": 35,
      "outputs": [
        {
          "output_type": "stream",
          "name": "stdout",
          "text": [
            "[1 2 3 4]\n",
            "int32\n"
          ]
        }
      ]
    },
    {
      "cell_type": "code",
      "source": [
        "#change data type from integer to boolean\n",
        "arr=np.array([1,0,3,4,-9])\n",
        "newarr=arr.astype(bool)\n",
        "print(newarr)\n",
        "print(newarr.dtype)"
      ],
      "metadata": {
        "colab": {
          "base_uri": "https://localhost:8080/"
        },
        "id": "HVmG45Mrt36q",
        "outputId": "05199d14-c29b-4639-95d4-87985ade7643"
      },
      "execution_count": 36,
      "outputs": [
        {
          "output_type": "stream",
          "name": "stdout",
          "text": [
            "[ True False  True  True  True]\n",
            "bool\n"
          ]
        }
      ]
    },
    {
      "cell_type": "code",
      "source": [
        "#type convertion int to complex\n",
        "t = np.array([1,2,3],dtype='c')\n",
        "print(t)\n",
        "print(t.dtype)"
      ],
      "metadata": {
        "colab": {
          "base_uri": "https://localhost:8080/"
        },
        "id": "xC13BImdt6p-",
        "outputId": "8f44cd03-000c-4160-d902-13d4e3346b53"
      },
      "execution_count": 37,
      "outputs": [
        {
          "output_type": "stream",
          "name": "stdout",
          "text": [
            "[b'1' b'2' b'3']\n",
            "|S1\n"
          ]
        }
      ]
    },
    {
      "cell_type": "markdown",
      "source": [
        "# Copy Method:\n",
        "\n",
        "*   The .copy() method is used to create a deep copy of an array.\n",
        "*   This means that the copied array has its own separate memory location, and changes to the original array do not affect the copied array.\n",
        "\n",
        "\n"
      ],
      "metadata": {
        "id": "pFBJDoVIuIkG"
      }
    },
    {
      "cell_type": "code",
      "source": [
        "#copy method\n",
        "a=np.array([1,2,3,4])\n",
        "b=a.copy()\n",
        "a[2]=9\n",
        "print(a)\n",
        "print(b)"
      ],
      "metadata": {
        "colab": {
          "base_uri": "https://localhost:8080/"
        },
        "id": "sMZ_ibZkuBQG",
        "outputId": "6260b078-bc7c-4e52-f736-fa349c1f36bb"
      },
      "execution_count": 38,
      "outputs": [
        {
          "output_type": "stream",
          "name": "stdout",
          "text": [
            "[1 2 9 4]\n",
            "[1 2 3 4]\n"
          ]
        }
      ]
    },
    {
      "cell_type": "markdown",
      "source": [
        "View Method:\n",
        "\n",
        "*   The .view() method creates a shallow copy (or view) of an array.\n",
        "*   This means that the new array shares the same data as the original array but has a different object identity.\n",
        "\n",
        "*   Any modifications made to one array will affect the other.\n"
      ],
      "metadata": {
        "id": "RpMh7fisudWv"
      }
    },
    {
      "cell_type": "code",
      "source": [
        "#view method\n",
        "a=np.array([1,2,3,4])\n",
        "b=a.view()\n",
        "a[2]=9\n",
        "print(a)\n",
        "print(b)"
      ],
      "metadata": {
        "colab": {
          "base_uri": "https://localhost:8080/"
        },
        "id": "Osf4m1TxuZbD",
        "outputId": "f956eec5-20a4-4217-e8ca-ea15d244b863"
      },
      "execution_count": 39,
      "outputs": [
        {
          "output_type": "stream",
          "name": "stdout",
          "text": [
            "[1 2 9 4]\n",
            "[1 2 9 4]\n"
          ]
        }
      ]
    },
    {
      "cell_type": "markdown",
      "source": [
        "# Reshaping array:\n",
        "\n",
        "*   changing the shape of an array.\n",
        "*   we can add or remove the numbers.\n",
        "\n"
      ],
      "metadata": {
        "id": "1z1X5GY8usBy"
      }
    },
    {
      "cell_type": "code",
      "source": [
        "#convert the following 1-D arrays into 2-D arrays with 12 elements\n",
        "arr=np.array([1,2,3,4,5,6,7,8,9,10,11,12])\n",
        "print(arr.size)#1-D\n",
        "newarr=arr.reshape(4,3)#(row,column)\n",
        "print(newarr)#2-D"
      ],
      "metadata": {
        "colab": {
          "base_uri": "https://localhost:8080/"
        },
        "id": "oNBMqL6Jup_A",
        "outputId": "ef5bad4f-be26-4aff-b658-9bdab11dae8f"
      },
      "execution_count": 40,
      "outputs": [
        {
          "output_type": "stream",
          "name": "stdout",
          "text": [
            "12\n",
            "[[ 1  2  3]\n",
            " [ 4  5  6]\n",
            " [ 7  8  9]\n",
            " [10 11 12]]\n"
          ]
        }
      ]
    },
    {
      "cell_type": "code",
      "source": [
        "#convert the following 1-D array into 3-D arrays with 12 elements\n",
        "arr=np.array([1,2,3,4,5,6,7,8,9,10,11,12])\n",
        "print(arr.size)#1-D\n",
        "newarr=arr.reshape(2,3,2)#(shape,row,column)\n",
        "print(newarr)#3-D"
      ],
      "metadata": {
        "colab": {
          "base_uri": "https://localhost:8080/"
        },
        "id": "JfYJrHfNu9vD",
        "outputId": "ba29844e-e996-4c0b-814b-21306a9f6b06"
      },
      "execution_count": 41,
      "outputs": [
        {
          "output_type": "stream",
          "name": "stdout",
          "text": [
            "12\n",
            "[[[ 1  2]\n",
            "  [ 3  4]\n",
            "  [ 5  6]]\n",
            "\n",
            " [[ 7  8]\n",
            "  [ 9 10]\n",
            "  [11 12]]]\n"
          ]
        }
      ]
    },
    {
      "cell_type": "code",
      "source": [
        "#convert the following 2-D arrays into 3-D arrays\n",
        "arr=np.array([[1,2,3,4,5,6],[7,8,9,10,11,12]])\n",
        "print(arr.size)#2-D\n",
        "newarr=arr.reshape(2,3,2)#(shape,row,column)\n",
        "print(newarr)#3-D"
      ],
      "metadata": {
        "colab": {
          "base_uri": "https://localhost:8080/"
        },
        "id": "lVHVb19BvAPd",
        "outputId": "0721bd9f-b536-4da0-a04c-81abd7d28931"
      },
      "execution_count": 42,
      "outputs": [
        {
          "output_type": "stream",
          "name": "stdout",
          "text": [
            "12\n",
            "[[[ 1  2]\n",
            "  [ 3  4]\n",
            "  [ 5  6]]\n",
            "\n",
            " [[ 7  8]\n",
            "  [ 9 10]\n",
            "  [11 12]]]\n"
          ]
        }
      ]
    },
    {
      "cell_type": "code",
      "source": [
        "#convert the following 1-D arrays into 3-D arrays\n",
        "arr=np.array([1,2,3,4,5,6,7,8,9,10,11,12])\n",
        "print(arr.size)#1-D\n",
        "newarr=arr.reshape(3,2,2)#(shape,row,column)\n",
        "print(newarr)#3-D"
      ],
      "metadata": {
        "colab": {
          "base_uri": "https://localhost:8080/"
        },
        "id": "-mteX55DvCfZ",
        "outputId": "9c1d134d-47b0-48e4-c986-09855e7b87b0"
      },
      "execution_count": 43,
      "outputs": [
        {
          "output_type": "stream",
          "name": "stdout",
          "text": [
            "12\n",
            "[[[ 1  2]\n",
            "  [ 3  4]]\n",
            "\n",
            " [[ 5  6]\n",
            "  [ 7  8]]\n",
            "\n",
            " [[ 9 10]\n",
            "  [11 12]]]\n"
          ]
        }
      ]
    },
    {
      "cell_type": "markdown",
      "source": [
        "# Arthmetic operations:"
      ],
      "metadata": {
        "id": "U4b4dJi9vGP2"
      }
    },
    {
      "cell_type": "code",
      "source": [
        "a=np.array([1,2,3,4])\n",
        "b=np.array([5,6,7,8])\n",
        "print(np.add(a,b))\n",
        "print(np.subtract(a,b))\n",
        "print(np.multiply(a,b))\n",
        "print(np.divide(a,b))\n",
        "print(np.sqrt(a))\n",
        "print(np.sqrt(b))"
      ],
      "metadata": {
        "colab": {
          "base_uri": "https://localhost:8080/"
        },
        "id": "cTVah4j7vFir",
        "outputId": "2be57079-1480-4d4c-b5fc-d632c8c80c64"
      },
      "execution_count": 44,
      "outputs": [
        {
          "output_type": "stream",
          "name": "stdout",
          "text": [
            "[ 6  8 10 12]\n",
            "[-4 -4 -4 -4]\n",
            "[ 5 12 21 32]\n",
            "[0.2        0.33333333 0.42857143 0.5       ]\n",
            "[1.         1.41421356 1.73205081 2.        ]\n",
            "[2.23606798 2.44948974 2.64575131 2.82842712]\n"
          ]
        }
      ]
    },
    {
      "cell_type": "markdown",
      "source": [
        "#sorting arrays:\n",
        "\n",
        "*   It means putting elements in an ordered sequence(ascending order).\n",
        "\n",
        "\n"
      ],
      "metadata": {
        "id": "Sx2Sdt3_vQGX"
      }
    },
    {
      "cell_type": "code",
      "source": [
        "a=np.array([3,4,2,1,6,5])\n",
        "print(np.sort(a))"
      ],
      "metadata": {
        "colab": {
          "base_uri": "https://localhost:8080/"
        },
        "id": "lm6z5RcEvM1g",
        "outputId": "762b32e6-4721-47cc-9c7d-9acf8f885a46"
      },
      "execution_count": 45,
      "outputs": [
        {
          "output_type": "stream",
          "name": "stdout",
          "text": [
            "[1 2 3 4 5 6]\n"
          ]
        }
      ]
    },
    {
      "cell_type": "markdown",
      "source": [
        "# Slicing Method:"
      ],
      "metadata": {
        "id": "FbQn0QoZvmXN"
      }
    },
    {
      "cell_type": "markdown",
      "source": [
        "Positive Slicing"
      ],
      "metadata": {
        "id": "VZaTcro1vpON"
      }
    },
    {
      "cell_type": "code",
      "source": [
        "#slice elements from index 1 to index 5 from the following array\n",
        "a=np.array([1,2,3,4,5,6,7,8,9,10])\n",
        "print(a[1:7])#starting point:ending point(n-1)"
      ],
      "metadata": {
        "colab": {
          "base_uri": "https://localhost:8080/"
        },
        "id": "hn8uNc7wvls3",
        "outputId": "6de36eec-120a-4adf-d896-3a569911d167"
      },
      "execution_count": 46,
      "outputs": [
        {
          "output_type": "stream",
          "name": "stdout",
          "text": [
            "[2 3 4 5 6 7]\n"
          ]
        }
      ]
    },
    {
      "cell_type": "code",
      "source": [
        "#slice elements from index 4 to the end of the array\n",
        "a=np.array([1,2,3,4,5,6,7,8,9,10])\n",
        "print(a[4:])"
      ],
      "metadata": {
        "colab": {
          "base_uri": "https://localhost:8080/"
        },
        "id": "5KDy8GHJvwMw",
        "outputId": "202516ea-c698-453c-82e7-f34eac20b157"
      },
      "execution_count": 47,
      "outputs": [
        {
          "output_type": "stream",
          "name": "stdout",
          "text": [
            "[ 5  6  7  8  9 10]\n"
          ]
        }
      ]
    },
    {
      "cell_type": "code",
      "source": [
        "#slice elements from the beginning to index 6\n",
        "a=np.array([1,2,3,4,5,6,7,8,9,10])\n",
        "print(a[:6])"
      ],
      "metadata": {
        "colab": {
          "base_uri": "https://localhost:8080/"
        },
        "id": "gsgpCNwMvyHG",
        "outputId": "02fbabf8-bf4d-4b0f-f6a3-fe7f63e627d0"
      },
      "execution_count": 48,
      "outputs": [
        {
          "output_type": "stream",
          "name": "stdout",
          "text": [
            "[1 2 3 4 5 6]\n"
          ]
        }
      ]
    },
    {
      "cell_type": "markdown",
      "source": [
        "Negative Slicing"
      ],
      "metadata": {
        "id": "J3NaI2eov443"
      }
    },
    {
      "cell_type": "code",
      "source": [
        "#slice from the index 3 from the end to index 1 from the end\n",
        "a=np.array([1,2,3,4,5,6,7,8,9,10])\n",
        "print(a[-3:-1])"
      ],
      "metadata": {
        "colab": {
          "base_uri": "https://localhost:8080/"
        },
        "id": "z7zWCK_cvz--",
        "outputId": "37a0ec3b-b149-488a-ed5e-c9efffa9391a"
      },
      "execution_count": 49,
      "outputs": [
        {
          "output_type": "stream",
          "name": "stdout",
          "text": [
            "[8 9]\n"
          ]
        }
      ]
    },
    {
      "cell_type": "code",
      "source": [
        "#slice from the index 4 from the end to index 2 from the end\n",
        "a=np.array([1,2,3,4,5,6,7,8,9,10])\n",
        "print(a[-4:-2])"
      ],
      "metadata": {
        "colab": {
          "base_uri": "https://localhost:8080/"
        },
        "id": "05sCIQZSwBt2",
        "outputId": "fb1ea47f-3f95-449c-b56a-857550369c8b"
      },
      "execution_count": 50,
      "outputs": [
        {
          "output_type": "stream",
          "name": "stdout",
          "text": [
            "[7 8]\n"
          ]
        }
      ]
    },
    {
      "cell_type": "markdown",
      "source": [
        "1-D & 2-D & 3-D Slicing"
      ],
      "metadata": {
        "id": "YXSDz3DYwNYd"
      }
    },
    {
      "cell_type": "code",
      "source": [
        "#use the step value to determine the step of the slicing\n",
        "a=np.array([1,2,3,4,5,6,7,8,9,4,1,5,3,6,2,7,2])#1-D\n",
        "print(a[0:13:2]) #step is apply like step-1"
      ],
      "metadata": {
        "colab": {
          "base_uri": "https://localhost:8080/"
        },
        "id": "eO0ceVG5wDTm",
        "outputId": "1d153b12-4d5c-4f58-f10e-f49a8d2c8155"
      },
      "execution_count": 55,
      "outputs": [
        {
          "output_type": "stream",
          "name": "stdout",
          "text": [
            "[1 3 5 7 9 1 3]\n"
          ]
        }
      ]
    },
    {
      "cell_type": "code",
      "source": [
        "#return every other element from the entire array\n",
        "a=np.array([1,2,3,4,5,6,7,8,9,4,1,5,3,6,2,7,2])\n",
        "print(a[::3])"
      ],
      "metadata": {
        "colab": {
          "base_uri": "https://localhost:8080/"
        },
        "id": "BAnV2A5vwGfZ",
        "outputId": "b579482e-0434-48f1-ad14-0c40d1296eb3"
      },
      "execution_count": 52,
      "outputs": [
        {
          "output_type": "stream",
          "name": "stdout",
          "text": [
            "[1 4 7 4 3 7]\n"
          ]
        }
      ]
    },
    {
      "cell_type": "code",
      "source": [
        "#slicing 2-D array\n",
        "#from the second element,slice elements from index 1 to index 4\n",
        "a=np.array([[1,2,3,4,5],[6,7,8,9,10]])\n",
        "print(a[1,1:4])"
      ],
      "metadata": {
        "colab": {
          "base_uri": "https://localhost:8080/"
        },
        "id": "RjuqfHzEwIXp",
        "outputId": "565568ee-648b-4244-f1d6-ddb0e3988302"
      },
      "execution_count": 53,
      "outputs": [
        {
          "output_type": "stream",
          "name": "stdout",
          "text": [
            "[7 8 9]\n"
          ]
        }
      ]
    },
    {
      "cell_type": "code",
      "source": [
        "#return both element index 3\n",
        "a=np.array([[1,2,3,4,5],#0\n",
        "            [6,7,8,9,10],#1\n",
        "            [6,7,8,9,10],#2 1D\n",
        "            [6,7,8,9,10]])#3 1D\n",
        "print(a[0:2,3])#(1D element)"
      ],
      "metadata": {
        "colab": {
          "base_uri": "https://localhost:8080/"
        },
        "id": "TWb2Of5KwKae",
        "outputId": "5b926eda-deae-4662-da60-c0c44d5f7801"
      },
      "execution_count": 54,
      "outputs": [
        {
          "output_type": "stream",
          "name": "stdout",
          "text": [
            "[4 9]\n"
          ]
        }
      ]
    }
  ]
}