{
  "nbformat": 4,
  "nbformat_minor": 0,
  "metadata": {
    "colab": {
      "provenance": []
    },
    "kernelspec": {
      "name": "python3",
      "display_name": "Python 3"
    },
    "language_info": {
      "name": "python"
    }
  },
  "cells": [
    {
      "cell_type": "markdown",
      "source": [
        "# Conditional Statements:\n",
        "1) If statement: If statement is the simplest form of a conditional statement. It executes a block of code if the given condition is true."
      ],
      "metadata": {
        "id": "HZFRYJ5akd-W"
      }
    },
    {
      "cell_type": "code",
      "execution_count": 1,
      "metadata": {
        "colab": {
          "base_uri": "https://localhost:8080/"
        },
        "id": "8H8yYlfskFAX",
        "outputId": "9b0e014f-2407-4b6d-e744-213d5e679577"
      },
      "outputs": [
        {
          "output_type": "stream",
          "name": "stdout",
          "text": [
            "positive number\n"
          ]
        }
      ],
      "source": [
        "num=8\n",
        "if num>0:\n",
        "  print(\"positive number\")\n",
        "else:\n",
        "  print(\"negative number\")"
      ]
    },
    {
      "cell_type": "code",
      "source": [
        "a = int(input(\"Enter a number:\"))\n",
        "if a > 0:\n",
        "  print(\"Given Number is positive\")"
      ],
      "metadata": {
        "colab": {
          "base_uri": "https://localhost:8080/"
        },
        "id": "CHCtLuJ3kxum",
        "outputId": "acd1eac7-2549-4034-98c0-8c0c7ecb55f7"
      },
      "execution_count": 2,
      "outputs": [
        {
          "output_type": "stream",
          "name": "stdout",
          "text": [
            "Enter a number:34\n",
            "Given Number is positive\n"
          ]
        }
      ]
    },
    {
      "cell_type": "markdown",
      "source": [
        "2) if-else( ):Executes one block if the condition is True then gives the output, otherwise executes another block."
      ],
      "metadata": {
        "id": "yerl7n9Sk25N"
      }
    },
    {
      "cell_type": "code",
      "source": [
        "num=int(input(\"enter the number\"))\n",
        "if num>0:\n",
        "  print(\"positive number\")\n",
        "else:\n",
        "  print(\"negative number\")"
      ],
      "metadata": {
        "colab": {
          "base_uri": "https://localhost:8080/"
        },
        "id": "ckzAC2ZOk5UV",
        "outputId": "3d7b784e-9fb5-403f-e7d1-77c81cc0b1a8"
      },
      "execution_count": 3,
      "outputs": [
        {
          "output_type": "stream",
          "name": "stdout",
          "text": [
            "enter the number23\n",
            "positive number\n"
          ]
        }
      ]
    },
    {
      "cell_type": "code",
      "source": [
        "a = int(input(\"Enter your age\"))\n",
        "if a >= 18:\n",
        "  print(\"You are eligible for voting\")\n",
        "else:\n",
        "  print(\"You are not eligible for voting\")"
      ],
      "metadata": {
        "colab": {
          "base_uri": "https://localhost:8080/"
        },
        "id": "1-WZ6Djsk-Bh",
        "outputId": "27153287-acdf-4e58-b394-0bb94feaa076"
      },
      "execution_count": 4,
      "outputs": [
        {
          "output_type": "stream",
          "name": "stdout",
          "text": [
            "Enter your age45\n",
            "You are eligible for voting\n"
          ]
        }
      ]
    },
    {
      "cell_type": "markdown",
      "source": [
        "3) elif: Allows checking multiple conditions."
      ],
      "metadata": {
        "id": "iM5uOPZ7k9qv"
      }
    },
    {
      "cell_type": "code",
      "source": [
        "num=int(input(\"enter the number\"))\n",
        "if num>0:\n",
        "  print(\"positive number\")\n",
        "elif num==0:\n",
        "  print(\"zero\")\n",
        "else:\n",
        "  print(\"negative number\")"
      ],
      "metadata": {
        "colab": {
          "base_uri": "https://localhost:8080/"
        },
        "id": "272Qp4mXlEOn",
        "outputId": "dd80f723-b828-460c-9b21-4f5319c1e166"
      },
      "execution_count": 5,
      "outputs": [
        {
          "output_type": "stream",
          "name": "stdout",
          "text": [
            "enter the number34\n",
            "positive number\n"
          ]
        }
      ]
    },
    {
      "cell_type": "markdown",
      "source": [
        "# #Test"
      ],
      "metadata": {
        "id": "NspysIUPlOv0"
      }
    },
    {
      "cell_type": "code",
      "source": [
        "#even or odd\n",
        "n=int(input(\"enter the number\"))\n",
        "if n%2==0:\n",
        "  print(\"it is even\")\n",
        "else:\n",
        "  print(\"it is odd\")"
      ],
      "metadata": {
        "colab": {
          "base_uri": "https://localhost:8080/"
        },
        "id": "s5U-3yt7lLO2",
        "outputId": "fd797afa-c826-4a67-a6d5-5e44590928ec"
      },
      "execution_count": 6,
      "outputs": [
        {
          "output_type": "stream",
          "name": "stdout",
          "text": [
            "enter the number45\n",
            "it is odd\n"
          ]
        }
      ]
    },
    {
      "cell_type": "code",
      "source": [
        "#grading system\n",
        "marks=int(input(\"enter the marks\"))\n",
        "if marks>=90 and marks>=80:\n",
        "  print(\"A+\")\n",
        "elif marks<=80 and marks>=70:\n",
        "  print(\"A\")\n",
        "elif marks<=70 and marks>=60:\n",
        "  print(\"B+\")\n",
        "elif marks<=60 and marks>=50:\n",
        "  print(\"B\")\n",
        "else:\n",
        "  print(\"fail\")"
      ],
      "metadata": {
        "colab": {
          "base_uri": "https://localhost:8080/"
        },
        "id": "20vjsjeKlXMO",
        "outputId": "e4ba53d3-250e-4b2d-8ff3-6b405d4a3eee"
      },
      "execution_count": 7,
      "outputs": [
        {
          "output_type": "stream",
          "name": "stdout",
          "text": [
            "enter the marks34\n",
            "fail\n"
          ]
        }
      ]
    },
    {
      "cell_type": "code",
      "source": [
        "#smallest number among 3\n",
        "a,b,c=11,23,56\n",
        "if a<b and a<c:\n",
        "  print(\"a is smallest\")\n",
        "elif b<a and b<c:\n",
        "  print(\"b is smallest\")\n",
        "else:\n",
        "  print(\"c is smallest\")"
      ],
      "metadata": {
        "colab": {
          "base_uri": "https://localhost:8080/"
        },
        "id": "BKVwp-O8lc1g",
        "outputId": "c0a3090b-3644-4765-f3e6-595e5b129aa9"
      },
      "execution_count": 8,
      "outputs": [
        {
          "output_type": "stream",
          "name": "stdout",
          "text": [
            "a is smallest\n"
          ]
        }
      ]
    },
    {
      "cell_type": "code",
      "source": [
        "#greatest number among 3\n",
        "a,b,c=23,45,34\n",
        "if a>b and a>c:\n",
        "  print(\"a is large\")\n",
        "elif b>a and b>c:\n",
        "  print(\"b is large\")\n",
        "else:\n",
        "  print(\"c is large\")"
      ],
      "metadata": {
        "colab": {
          "base_uri": "https://localhost:8080/"
        },
        "id": "53Vb3P5Flf4s",
        "outputId": "8b3f8aaa-c33b-4065-d716-f4e067de9fab"
      },
      "execution_count": 9,
      "outputs": [
        {
          "output_type": "stream",
          "name": "stdout",
          "text": [
            "b is large\n"
          ]
        }
      ]
    },
    {
      "cell_type": "code",
      "source": [
        "#character is vowel or not\n",
        "v=input(\"enter the character\")\n",
        "if v=='a' or v=='e' or v=='i' or v=='o' or v=='u' or v=='A' or v=='E' or v=='I' or v=='O' or v=='U':\n",
        "  print(\"vowel\")\n",
        "else:\n",
        "  print(\"not vowel\")"
      ],
      "metadata": {
        "colab": {
          "base_uri": "https://localhost:8080/"
        },
        "id": "Y2Veb4sulimY",
        "outputId": "055f4a65-d9fc-4098-8b0e-472cb3b57950"
      },
      "execution_count": 10,
      "outputs": [
        {
          "output_type": "stream",
          "name": "stdout",
          "text": [
            "enter the characteru\n",
            "vowel\n"
          ]
        }
      ]
    },
    {
      "cell_type": "code",
      "source": [
        "# write a program to swap two numbers\n",
        "a=9\n",
        "b=10\n",
        "print(\"before swapping\",a,b)\n",
        "if True:\n",
        "  a,b = b,a\n",
        "print(\"after swapping\",a,b)\n"
      ],
      "metadata": {
        "colab": {
          "base_uri": "https://localhost:8080/"
        },
        "id": "KHuMPy8wlmDp",
        "outputId": "d2ae0488-f86b-44bc-9c91-3e8450a91261"
      },
      "execution_count": 15,
      "outputs": [
        {
          "output_type": "stream",
          "name": "stdout",
          "text": [
            "before swapping 9 10\n",
            "after swapping 10 9\n"
          ]
        }
      ]
    }
  ]
}