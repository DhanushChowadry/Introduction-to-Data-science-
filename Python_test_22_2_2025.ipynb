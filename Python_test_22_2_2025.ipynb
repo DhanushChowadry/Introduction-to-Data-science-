{
  "nbformat": 4,
  "nbformat_minor": 0,
  "metadata": {
    "colab": {
      "provenance": []
    },
    "kernelspec": {
      "name": "python3",
      "display_name": "Python 3"
    },
    "language_info": {
      "name": "python"
    }
  },
  "cells": [
    {
      "cell_type": "markdown",
      "source": [
        "#what is Python?\n",
        "Python is high-level programming language which is used to built web development,data analysis,automation,recommendation system and gamming system.\n",
        "It was developed in 1991 by Guido van rossum.\n",
        "\n",
        "#what are the key features of python?\n",
        "\n",
        "1.   Easy to learn & understand.\n",
        "2.   It is easy to connect to database.\n",
        "\n",
        "*   List item\n",
        "*   List item\n",
        "\n",
        "\n",
        "3.   70% to 80% of program is easily understandable.\n",
        "4.   Way of connection is easy.\n",
        "5.   High-portable language.\n",
        "\n",
        "#Why python is different from other programming languages?\n",
        "1. python is easy to learn and understand from other languages.\n",
        "2. It has easy connection to database.\n",
        "3. 70 to 80% of the code can be understandable.\n",
        "4. The connection to network is very easy and fast.\n",
        "\n",
        "#what are python's datatypes?\n",
        "There are two data types;\n",
        "\n",
        "*  primitive data types:-integer,boolean,float,complex.\n",
        "*  Non-primitive data types:-list,string,tuple,dictionary,set.\n",
        "\n",
        "#what is the difference between list and tuple?\n",
        "1. List():-Collection of elements,values,items.\n",
        "\n",
        "*   It is described in [].\n",
        "*   Each element can be separated by ,\n",
        "*   It is mutable object.\n",
        "*   List is having ordered values.\n",
        "\n",
        "2. Tuple():-collection of elements.\n",
        "\n",
        "*   It is represented in ().\n",
        "*   It is immutable object.\n",
        "*   It is having ordered values.\n",
        "\n",
        "#How do u comment in python?\n",
        "1. /* ......................................*/\n",
        "\n",
        "2. \"\"\"......................................\"\"\"\n",
        "\n",
        "3. #.......\n",
        "\n",
        "#what is the difference between break,continue and pass?\n",
        "\n",
        "1. break:-The break statement in Python is used to exit or break out of a loop and move to next line of the code.\n",
        "2. continue:-continue statement forces to execute the next iteration of the loop while skipping the rest of the code inside the loop for the current iteration .\n",
        "3. pass:-(no iteration)pass statement it will directly move to the next iteration by skipping the present iteration.\n",
        "\n",
        "#what is the difference between the is and ==?\n",
        "1. is:-It is used to identify the object is present in the list or not.\n",
        "2. ==:-It checks whether the two values are equal or not in the list.\n",
        "\n",
        "#How do You define a function in python?\n",
        "Using \"def\" keyword we can identify the function and if it created once then\n",
        "we can use it multiple times.\n",
        "\n",
        "ex:- def user():\n",
        "\n",
        "\n",
        "\n",
        "\n",
        "\n",
        "\n",
        "\n",
        "\n",
        "\n",
        "\n",
        "\n",
        "\n"
      ],
      "metadata": {
        "id": "u8HmGVMgH2UK"
      }
    },
    {
      "cell_type": "code",
      "execution_count": 1,
      "metadata": {
        "colab": {
          "base_uri": "https://localhost:8080/"
        },
        "id": "WzcuA2sZG0xO",
        "outputId": "fa6e55ad-929b-4dbe-c7d4-2c4b7f70e351"
      },
      "outputs": [
        {
          "output_type": "stream",
          "name": "stdout",
          "text": [
            "dlrow olleh\n"
          ]
        }
      ],
      "source": [
        "#python code to reverse a string?\n",
        "r=\"hello world\"[::-1]\n",
        "print(r)"
      ]
    },
    {
      "cell_type": "code",
      "source": [
        "#check if a number is even or odd?\n",
        "e=int(input(\"enter a number:\"))\n",
        "if e%2==0:\n",
        "  print(\"even number\")\n",
        "else:\n",
        "  print(\"odd number\")"
      ],
      "metadata": {
        "colab": {
          "base_uri": "https://localhost:8080/"
        },
        "id": "WUcw8qHKUcAE",
        "outputId": "ed13bc59-41d1-4f38-9c42-e1b5430533b9"
      },
      "execution_count": 3,
      "outputs": [
        {
          "output_type": "stream",
          "name": "stdout",
          "text": [
            "enter a number:4\n",
            "even number\n"
          ]
        }
      ]
    },
    {
      "cell_type": "code",
      "source": [
        "#check if a string is a palindrome\n",
        "u=input(\"enter a string:\")\n",
        "if u==u[::-1]:\n",
        "  print(\"palindrome\")\n",
        "else:\n",
        "  print(\"not a palindrome\")"
      ],
      "metadata": {
        "colab": {
          "base_uri": "https://localhost:8080/"
        },
        "id": "KsoLlAyIUlfn",
        "outputId": "35f92189-805a-4100-c753-e7d4e2dd5288"
      },
      "execution_count": 6,
      "outputs": [
        {
          "output_type": "stream",
          "name": "stdout",
          "text": [
            "enter a string:121\n",
            "palindrome\n"
          ]
        }
      ]
    },
    {
      "cell_type": "code",
      "source": [
        "#calculate the factorial of a number?\n",
        "a= int(input(\"Enter a number: \"))\n",
        "\n",
        "f = 1\n",
        "for i in range(1, a + 1):\n",
        "    f *= i\n",
        "print(f\"The factorial of {a} is {f}\")\n"
      ],
      "metadata": {
        "colab": {
          "base_uri": "https://localhost:8080/"
        },
        "id": "waP9yM3cVDWR",
        "outputId": "15986013-a7c7-4b2a-d675-83923da03253"
      },
      "execution_count": 17,
      "outputs": [
        {
          "output_type": "stream",
          "name": "stdout",
          "text": [
            "Enter a number: 4\n",
            "The factorial of 4 is 24\n"
          ]
        }
      ]
    },
    {
      "cell_type": "code",
      "source": [
        "#Find the GCD of two numbers?\n",
        "import math\n",
        "math.gcd(25,5)"
      ],
      "metadata": {
        "colab": {
          "base_uri": "https://localhost:8080/"
        },
        "id": "RWOPiAhuXZ2v",
        "outputId": "ad6adbda-16f9-4a8c-ea39-1aa639338c05"
      },
      "execution_count": 18,
      "outputs": [
        {
          "output_type": "execute_result",
          "data": {
            "text/plain": [
              "5"
            ]
          },
          "metadata": {},
          "execution_count": 18
        }
      ]
    },
    {
      "cell_type": "code",
      "source": [
        "#Remove Duplicates from the list?\n",
        "a=[10,20,30,40,10,20,50]\n",
        "b=set(a)\n",
        "print(b)"
      ],
      "metadata": {
        "colab": {
          "base_uri": "https://localhost:8080/"
        },
        "id": "g8SS3NqpWhyb",
        "outputId": "54869c00-4686-4d0d-81ab-f06563d32a89"
      },
      "execution_count": 13,
      "outputs": [
        {
          "output_type": "stream",
          "name": "stdout",
          "text": [
            "{40, 10, 50, 20, 30}\n"
          ]
        }
      ]
    },
    {
      "cell_type": "code",
      "source": [
        "#Find the common elements in two lists?\n",
        "a=[1,2,3,4,5,6,7]\n",
        "b=[3,4,5,6,7,8,9]\n",
        "set(a) & set(b)\n"
      ],
      "metadata": {
        "colab": {
          "base_uri": "https://localhost:8080/"
        },
        "id": "5QpINVqkVfk6",
        "outputId": "380d2ee3-abb3-4016-c513-738d5317ce1b"
      },
      "execution_count": 14,
      "outputs": [
        {
          "output_type": "execute_result",
          "data": {
            "text/plain": [
              "{3, 4, 5, 6, 7}"
            ]
          },
          "metadata": {},
          "execution_count": 14
        }
      ]
    }
  ]
}