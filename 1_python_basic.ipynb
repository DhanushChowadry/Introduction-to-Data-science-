{
  "nbformat": 4,
  "nbformat_minor": 0,
  "metadata": {
    "colab": {
      "provenance": []
    },
    "kernelspec": {
      "name": "python3",
      "display_name": "Python 3"
    },
    "language_info": {
      "name": "python"
    }
  },
  "cells": [
    {
      "cell_type": "code",
      "execution_count": null,
      "metadata": {
        "id": "ti57fK87s3T3"
      },
      "outputs": [],
      "source": [
        "#what is python\n",
        "#why we use python\n",
        "#application of python\n",
        "#explain about comments with examples\n"
      ]
    },
    {
      "cell_type": "markdown",
      "source": [
        "#what is python?\n",
        "Python is a programming language that is interpreted, object-oriented,\n",
        "and considered to be high-level too.Python is one of the easiest yet\n",
        "most useful programming languages which is widely used in the software\n",
        "industry. People use Python for Competitive Programming, Web Development\n",
        "and creating software. Due to its easiest syntax, it is recommended for\n",
        "beginners who are new to the software engineering field. Its demand is\n",
        "growing at a very rapid pace due to its vast use cases in Modern\n",
        "Technological fields like Data Science, Machine learning, and Automation Tasks."
      ],
      "metadata": {
        "id": "mqJgSYWEwIcv"
      }
    },
    {
      "cell_type": "markdown",
      "source": [
        "#why we use python?\n",
        "1.Easy to Learn & Readable.\n",
        "2.Versatile & Multi-Purpose.\n",
        "3.Extensive Libraries & Frameworks.\n",
        "4.Strong Community Support.\n",
        "5.Interpreted Language.\n",
        "6.Integration with Other Languages.\n"
      ],
      "metadata": {
        "id": "Ul6beJnqwTvo"
      }
    },
    {
      "cell_type": "markdown",
      "source": [
        "#Application of python?\n",
        "1.Web Development.\n",
        "2.Data Science & Analytics.\n",
        "3.Machine Learning & AI.\n",
        "4.Automation & Scripting.\n",
        "5.Cybersecurity.\n",
        "6.Game Development.\n",
        "7.Internet of Things (IoT).\n",
        "8.Scientific Computing.\n",
        "9.Cloud Computing.\n",
        "10.Finance."
      ],
      "metadata": {
        "id": "b-1eEP1-wXyM"
      }
    },
    {
      "cell_type": "markdown",
      "source": [
        "#Explain about comments with examples?\n",
        "Comments in Python are used to make code more readable and explain what a particular\n",
        "section does.They are ignored by the interpreter and do not affect the program’s execution.\n"
      ],
      "metadata": {
        "id": "S1_js6xGwcpf"
      }
    },
    {
      "cell_type": "code",
      "source": [
        "#This is a single-line comment:-\n",
        "print(\"Hello, World!\")"
      ],
      "metadata": {
        "colab": {
          "base_uri": "https://localhost:8080/"
        },
        "id": "m-drxoHnxRtm",
        "outputId": "6a05e948-b003-426e-f3fe-0b9921b4fc52"
      },
      "execution_count": null,
      "outputs": [
        {
          "output_type": "stream",
          "name": "stdout",
          "text": [
            "Hello, World!\n"
          ]
        }
      ]
    }
  ]
}