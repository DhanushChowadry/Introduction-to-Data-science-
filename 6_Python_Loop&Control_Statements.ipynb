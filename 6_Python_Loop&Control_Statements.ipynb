{
  "nbformat": 4,
  "nbformat_minor": 0,
  "metadata": {
    "colab": {
      "provenance": []
    },
    "kernelspec": {
      "name": "python3",
      "display_name": "Python 3"
    },
    "language_info": {
      "name": "python"
    }
  },
  "cells": [
    {
      "cell_type": "markdown",
      "source": [
        "# Loop Statements:\n",
        "1) While Loop:\n",
        "\n",
        "*   \n",
        "With the while loop we can execute a set of statements as long as a condition is true.\n",
        "*\n",
        "It is useful when the number of iterations is unknown beforehand.  \n",
        "\n",
        "\n",
        "*  remember to increment i, or else the loop will continue forever.\n",
        "\n",
        "\n"
      ],
      "metadata": {
        "id": "LyRR7GHqGDV8"
      }
    },
    {
      "cell_type": "markdown",
      "source": [
        "# Syntax:\n",
        "while condition:\n",
        "    # Code block to execute"
      ],
      "metadata": {
        "id": "hz2TNdTMG56h"
      }
    },
    {
      "cell_type": "code",
      "source": [
        "#while statement\n",
        "#Example-1\n",
        "i=0\n",
        "while i<=5:\n",
        "  print(i)\n",
        "  i=i+1"
      ],
      "metadata": {
        "colab": {
          "base_uri": "https://localhost:8080/"
        },
        "id": "TLuMmKrzGLXb",
        "outputId": "a26712f5-8883-467b-f849-fe6fa6b16de6"
      },
      "execution_count": 3,
      "outputs": [
        {
          "output_type": "stream",
          "name": "stdout",
          "text": [
            "0\n",
            "1\n",
            "2\n",
            "3\n",
            "4\n",
            "5\n"
          ]
        }
      ]
    },
    {
      "cell_type": "code",
      "source": [
        "#Example-2:\n",
        "x = 1\n",
        "while x <= 5:\n",
        "    x += 1\n",
        "    print(x)"
      ],
      "metadata": {
        "colab": {
          "base_uri": "https://localhost:8080/"
        },
        "id": "b4mYEVKcHYAV",
        "outputId": "fe5828e3-0a11-4899-c373-85c9e8dd487c"
      },
      "execution_count": 5,
      "outputs": [
        {
          "output_type": "stream",
          "name": "stdout",
          "text": [
            "2\n",
            "3\n",
            "4\n",
            "5\n",
            "6\n"
          ]
        }
      ]
    },
    {
      "cell_type": "code",
      "source": [
        "#Example-3:\n",
        "x = 1\n",
        "while x <= 5:\n",
        "    print(x)\n",
        "    x += 1"
      ],
      "metadata": {
        "colab": {
          "base_uri": "https://localhost:8080/"
        },
        "id": "pEUW19TmH8ge",
        "outputId": "641291e2-7007-4285-b3c8-a606e4ba59de"
      },
      "execution_count": 6,
      "outputs": [
        {
          "output_type": "stream",
          "name": "stdout",
          "text": [
            "1\n",
            "2\n",
            "3\n",
            "4\n",
            "5\n"
          ]
        }
      ]
    },
    {
      "cell_type": "markdown",
      "source": [
        "2) for loop:\n",
        "\n",
        "*   \n",
        "A for loop in Python is used to iterate over a sequence (such as a list, tuple, dictionary, string, or range).\n",
        "*  It executes a block of code for each item in the sequence.\n",
        "\n",
        "\n",
        "\n"
      ],
      "metadata": {
        "id": "L8A8h5-PIFhQ"
      }
    },
    {
      "cell_type": "markdown",
      "source": [
        "#Syntax:\n",
        "\n",
        "for variable in sequence:\n",
        "    # Code block to execute"
      ],
      "metadata": {
        "id": "clL0wCHfIK5F"
      }
    },
    {
      "cell_type": "code",
      "source": [
        "age=[12,34,56,78,98]#List\n",
        "for i in age:\n",
        "  print(\"My age is\",i)"
      ],
      "metadata": {
        "colab": {
          "base_uri": "https://localhost:8080/"
        },
        "id": "_B9q1I6VIYAt",
        "outputId": "30c62636-3c30-4a5d-b1f3-09b5ced2e28f"
      },
      "execution_count": 7,
      "outputs": [
        {
          "output_type": "stream",
          "name": "stdout",
          "text": [
            "My age is 12\n",
            "My age is 34\n",
            "My age is 56\n",
            "My age is 78\n",
            "My age is 98\n"
          ]
        }
      ]
    },
    {
      "cell_type": "code",
      "source": [
        "string=\"python\"#string\n",
        "for y in string:\n",
        "  print(y)"
      ],
      "metadata": {
        "colab": {
          "base_uri": "https://localhost:8080/"
        },
        "id": "vfnoDfXJIklw",
        "outputId": "738617ea-2fb7-436b-cd87-355a0369ca19"
      },
      "execution_count": 8,
      "outputs": [
        {
          "output_type": "stream",
          "name": "stdout",
          "text": [
            "p\n",
            "y\n",
            "t\n",
            "h\n",
            "o\n",
            "n\n"
          ]
        }
      ]
    },
    {
      "cell_type": "code",
      "source": [
        "tup=(\"apple\",\"banana\",\"hero_bharat\")#tuple\n",
        "for hero in tup:\n",
        "  print(hero)"
      ],
      "metadata": {
        "colab": {
          "base_uri": "https://localhost:8080/"
        },
        "id": "UsD6YtIbIyIF",
        "outputId": "c71c0f70-b736-4c46-e31f-4c6cd3490cba"
      },
      "execution_count": 9,
      "outputs": [
        {
          "output_type": "stream",
          "name": "stdout",
          "text": [
            "apple\n",
            "banana\n",
            "hero_bharat\n"
          ]
        }
      ]
    },
    {
      "cell_type": "code",
      "source": [
        "st={1,23,4,4,5,63.67,8,89,99,99,9}#set\n",
        "for i in st:\n",
        "  print(i)"
      ],
      "metadata": {
        "colab": {
          "base_uri": "https://localhost:8080/"
        },
        "id": "65H_4XOiI3W7",
        "outputId": "79ccafd1-29e7-4a2e-b81e-fbd72cfb3021"
      },
      "execution_count": 10,
      "outputs": [
        {
          "output_type": "stream",
          "name": "stdout",
          "text": [
            "1\n",
            "99\n",
            "4\n",
            "5\n",
            "8\n",
            "9\n",
            "23\n",
            "89\n",
            "63.67\n"
          ]
        }
      ]
    },
    {
      "cell_type": "code",
      "source": [
        "dic={\"name\":\"dhan\",\"age\":20,\"place\":\"hyd\"}#dictionary\n",
        "for key,value in dic.items():\n",
        "  print(f'my key is {key} and my value is {value}')"
      ],
      "metadata": {
        "colab": {
          "base_uri": "https://localhost:8080/"
        },
        "id": "-xCY7nZbI3Oj",
        "outputId": "84a2c8bf-9cc7-46a9-d735-825d186ba841"
      },
      "execution_count": 11,
      "outputs": [
        {
          "output_type": "stream",
          "name": "stdout",
          "text": [
            "my key is name and my value is dhan\n",
            "my key is age and my value is 20\n",
            "my key is place and my value is hyd\n"
          ]
        }
      ]
    },
    {
      "cell_type": "code",
      "source": [
        "for i in range(1,25):#last value is(n-1)\n",
        "  print(i)"
      ],
      "metadata": {
        "colab": {
          "base_uri": "https://localhost:8080/"
        },
        "id": "aGZzpA_YI-bi",
        "outputId": "d09189da-f410-4954-b228-c3370feed677"
      },
      "execution_count": 12,
      "outputs": [
        {
          "output_type": "stream",
          "name": "stdout",
          "text": [
            "1\n",
            "2\n",
            "3\n",
            "4\n",
            "5\n",
            "6\n",
            "7\n",
            "8\n",
            "9\n",
            "10\n",
            "11\n",
            "12\n",
            "13\n",
            "14\n",
            "15\n",
            "16\n",
            "17\n",
            "18\n",
            "19\n",
            "20\n",
            "21\n",
            "22\n",
            "23\n",
            "24\n"
          ]
        }
      ]
    },
    {
      "cell_type": "markdown",
      "source": [
        "# Control Statements:\n",
        "\n",
        "*   Control statements alter the flow of execution in loops and conditional statements.\n",
        "*   The three main control statements are pass, continue, and break.\n"
      ],
      "metadata": {
        "id": "qAb5U7-QJ08N"
      }
    },
    {
      "cell_type": "markdown",
      "source": [
        "1) pass:\n",
        "\n",
        "*  The pass statement is a placeholder and does nothing when executed.\n",
        "*  It is useful when a block of code is syntactically required but not yet implemented."
      ],
      "metadata": {
        "id": "YOpyu8qwK3XH"
      }
    },
    {
      "cell_type": "code",
      "source": [
        "for i in range(1,10):#pass\n",
        "  if i==2:\n",
        "    pass\n",
        "  else:\n",
        "    print(i)"
      ],
      "metadata": {
        "colab": {
          "base_uri": "https://localhost:8080/"
        },
        "id": "7HaGmW-dKvGI",
        "outputId": "e0a302a8-04e4-48a7-b53b-ed8ea3aa6ffe"
      },
      "execution_count": 13,
      "outputs": [
        {
          "output_type": "stream",
          "name": "stdout",
          "text": [
            "1\n",
            "3\n",
            "4\n",
            "5\n",
            "6\n",
            "7\n",
            "8\n",
            "9\n"
          ]
        }
      ]
    },
    {
      "cell_type": "markdown",
      "source": [
        "2) Continue:\n",
        "\n",
        "*   It is used to skip a specific iteration in a loop.\n",
        "*   The loop does not terminate; it continues with the next iteration.\n",
        "\n",
        "\n",
        "\n"
      ],
      "metadata": {
        "id": "F4sfRoMDLKbR"
      }
    },
    {
      "cell_type": "code",
      "source": [
        "for i in range(1,34):#continue\n",
        "  if i==10:\n",
        "    continue\n",
        "  else:\n",
        "    print(i)"
      ],
      "metadata": {
        "colab": {
          "base_uri": "https://localhost:8080/"
        },
        "id": "zsSPT8lBLNJY",
        "outputId": "71ac7ca5-2f3d-4405-e3d0-8ffabf6f9079"
      },
      "execution_count": 14,
      "outputs": [
        {
          "output_type": "stream",
          "name": "stdout",
          "text": [
            "1\n",
            "2\n",
            "3\n",
            "4\n",
            "5\n",
            "6\n",
            "7\n",
            "8\n",
            "9\n",
            "11\n",
            "12\n",
            "13\n",
            "14\n",
            "15\n",
            "16\n",
            "17\n",
            "18\n",
            "19\n",
            "20\n",
            "21\n",
            "22\n",
            "23\n",
            "24\n",
            "25\n",
            "26\n",
            "27\n",
            "28\n",
            "29\n",
            "30\n",
            "31\n",
            "32\n",
            "33\n"
          ]
        }
      ]
    },
    {
      "cell_type": "markdown",
      "source": [
        "3) break:\n",
        "\n",
        "\n",
        "*  It is used to exit a loop immediately.\n",
        "*  Any code after break inside the loop is not executed.\n",
        "\n"
      ],
      "metadata": {
        "id": "jJrYdBk1LjRR"
      }
    },
    {
      "cell_type": "code",
      "source": [
        "#Ex-1\n",
        "for i in range(23):\n",
        "  if i==15:\n",
        "    break # Stop the loop when i is 15\n",
        "  else:\n",
        "    print(i)"
      ],
      "metadata": {
        "colab": {
          "base_uri": "https://localhost:8080/"
        },
        "id": "DpCwc5r_LkHX",
        "outputId": "568170f4-90b8-40dc-97fa-d0deedeb58b4"
      },
      "execution_count": 19,
      "outputs": [
        {
          "output_type": "stream",
          "name": "stdout",
          "text": [
            "0\n",
            "1\n",
            "2\n",
            "3\n",
            "4\n",
            "5\n",
            "6\n",
            "7\n",
            "8\n",
            "9\n",
            "10\n",
            "11\n",
            "12\n",
            "13\n",
            "14\n"
          ]
        }
      ]
    },
    {
      "cell_type": "code",
      "source": [
        "#Ex-2 Stop loop when word is found\n",
        "words = [\"apple\", \"banana\", \"cherry\", \"mango\"]\n",
        "for word in words:\n",
        "    if word == \"cherry\":\n",
        "        break\n",
        "    print(word)"
      ],
      "metadata": {
        "colab": {
          "base_uri": "https://localhost:8080/"
        },
        "id": "VtOSjdJOL5uR",
        "outputId": "50a0155d-8714-46c1-83d4-eec309b45fc4"
      },
      "execution_count": 20,
      "outputs": [
        {
          "output_type": "stream",
          "name": "stdout",
          "text": [
            "apple\n",
            "banana\n"
          ]
        }
      ]
    }
  ]
}